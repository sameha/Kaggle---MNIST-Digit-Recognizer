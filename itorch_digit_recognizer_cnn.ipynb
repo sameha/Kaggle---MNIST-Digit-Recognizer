{
 "cells": [
  {
   "cell_type": "markdown",
   "metadata": {},
   "source": [
    "# Kaggle - MNIST Digit Recognizer\n",
    "\n",
    "The goal in this competition is to take an image of a handwritten single digit, and determine what that digit is.\n",
    "\n",
    "The code heavily used the [Supervised Torch7 Tutorial](https://github.com/torch/tutorials/tree/master/2_supervised) by **Clement Farabet**, several thanks to him are in order.\n",
    "\n",
    "In the Kaggle competition, CNN got the following results:\n",
    "- 40 training loops with an accuracy of 99.429% for a 113th position in the Kaggle competition\n",
    "- 20 training loops with an accuracy of 99.414% for a 114 position in the Kaggle competition\n",
    "- 10 training loops with an accuracy of 99.286% for a 148 position in the Kaggle competition\n",
    "\n",
    "The project demonstrates how to:\n",
    "* Load and preprocess the data, to facilitate learning\n",
    "* Describe a CNN model to solve a classification task\n",
    "* Choose a loss function to minimize error\n",
    "* Apply an optimization techniques to train the model's parameters\n",
    "* Estimate the model's performance on unseen verification data\n",
    "\n",
    "Resources:\n",
    "- [Classify handwritten digits using the famous MNIST data](https://www.kaggle.com/c/digit-recognizer)\n",
    "- [Machine Learning with Torch7 (Code)](https://github.com/torch/tutorials)"
   ]
  },
  {
   "cell_type": "code",
   "execution_count": 1,
   "metadata": {
    "collapsed": false
   },
   "outputs": [
    {
     "data": {
      "text/plain": [
       "==> processing options\t\n",
       "opt.size: how many samples do we load: (small) (10k training, 2k testing) | full (42k training, 28k testing)\t\n",
       "opt.visualize: visualize input data and weights during training: (true) | false\t\n",
       "opt.seed: fixed input seed for repeatable experiments: (1)\t\n",
       "opt.threads: number of threads: (8)\t\n",
       "opt.model: type of model to construct: linear | mlp | (convnet)\t\n",
       "opt.loss: type of loss function to minimize: (nll) | mse | margin\t\n",
       "opt.save: subdirectory to save/log experiments in: (itorch_output)\t\n",
       "opt.plot: live plot: (true) | false\t\n",
       "opt.optimization: optimization method: (SGD) | ASGD | CG | LBFGS\t\n",
       "opt.learningRate: learning rate at t=0: (1e-3)\t\n",
       "opt.batchSize: mini-batch size (1 = pure stochastic): (1)\t\n",
       "opt.weightDecay: weight decay (SGD only): (0)\t\n",
       "opt.momentum: momentum (SGD only): (0)\t\n",
       "opt.t0: start averaging at t0 (ASGD only), in nb of epochs: (1)\t\n",
       "opt.maxIter: maximum nb of iterations for CG and LBFGS: (2)\t\n",
       "opt.type: (double) | float | cuda\t\n",
       "{\n",
       "  weightDecay : 0\n",
       "  maxIter : 2\n",
       "  seed : 1\n",
       "  momentum : 0\n",
       "  t0 : 1\n",
       "  loss : nll\n",
       "  type : double\n",
       "  batchSize : 1\n",
       "  visualize : true\n",
       "  learningRate : 0.001\n",
       "  threads : 8\n",
       "  plot : true\n",
       "  save : ./itorch_output\n",
       "  size : full\n",
       "  optimization : SGD\n",
       "  model : convnet\n",
       "}\n"
      ]
     },
     "execution_count": 1,
     "metadata": {},
     "output_type": "execute_result"
    }
   ],
   "source": [
    "----------------------------------------------------------------------\n",
    "-- This script demonstrates how to load the MNIST digits \n",
    "-- training data, and pre-process it to facilitate learning.\n",
    "--\n",
    "-- The MNIST is a typical example of supervised training dataset.\n",
    "-- The problem to solve is a 10-class classification problem.\n",
    "--\n",
    "-- Sameh Awaida\n",
    "----------------------------------------------------------------------\n",
    "require 'torch'   -- torch\n",
    "require 'image'   -- for color transforms\n",
    "require 'nn'      -- provides a normalization operator\n",
    "require 'paths'   -- checking if file exists\n",
    "require 'xlua'    -- xlua provides useful tools, like progress bars\n",
    "require 'optim'   -- an optimization package, for online and batch methods\n",
    "require 'csvigo'  -- a package to handle CSV files (read and write)\n",
    "\n",
    "----------------------------------------------------------------------\n",
    "opt = {}\n",
    "print '==> processing options'\n",
    "print('opt.size: how many samples do we load: (small) (10k training, 2k testing) | full (42k training, 28k testing)')\n",
    "print('opt.visualize: visualize input data and weights during training: (true) | false')\n",
    "print('opt.seed: fixed input seed for repeatable experiments: (1)')\n",
    "print('opt.threads: number of threads: (8)')\n",
    "print('opt.model: type of model to construct: linear | mlp | (convnet)')\n",
    "print('opt.loss: type of loss function to minimize: (nll) | mse | margin')\n",
    "print('opt.save: subdirectory to save/log experiments in: (itorch_output)')\n",
    "print('opt.plot: live plot: (true) | false')\n",
    "print('opt.optimization: optimization method: (SGD) | ASGD | CG | LBFGS')\n",
    "print('opt.learningRate: learning rate at t=0: (1e-3)')\n",
    "print('opt.batchSize: mini-batch size (1 = pure stochastic): (1)')\n",
    "print('opt.weightDecay: weight decay (SGD only): (0)')\n",
    "print('opt.momentum: momentum (SGD only): (0)')\n",
    "print('opt.t0: start averaging at t0 (ASGD only), in nb of epochs: (1)')\n",
    "print('opt.maxIter: maximum nb of iterations for CG and LBFGS: (2)')\n",
    "print('opt.type: (double) | float | cuda')\n",
    "\n",
    "opt.size = 'full'\n",
    "opt.visualize = true\n",
    "opt.seed = 1\n",
    "opt.threads = 8\n",
    "opt.model = 'convnet'\n",
    "opt.loss = 'nll'\n",
    "opt.save = './itorch_output'\n",
    "opt.plot = true\n",
    "opt.optimization = 'SGD'\n",
    "opt.learningRate = 1e-3\n",
    "opt.batchSize = 1\n",
    "opt.weightDecay = 0\n",
    "opt.momentum = 0\n",
    "opt.t0 = 1\n",
    "opt.maxIter = 2\n",
    "opt.type = 'double'\n",
    "\n",
    "print(opt)\n",
    "\n",
    "-- nb of threads and fixed seed (for repeatable experiments)\n",
    "if opt.type == 'float' then\n",
    "   print('==> switching to floats')\n",
    "   torch.setdefaulttensortype('torch.FloatTensor')\n",
    "elseif opt.type == 'cuda' then\n",
    "   print('==> switching to CUDA')\n",
    "   require 'cunn'\n",
    "   torch.setdefaulttensortype('torch.FloatTensor')\n",
    "end\n",
    "torch.setnumthreads(opt.threads)\n",
    "torch.manualSeed(opt.seed)"
   ]
  },
  {
   "cell_type": "markdown",
   "metadata": {},
   "source": [
    "## Step 1: Data\n",
    "\n",
    "The data for this competition were taken from the [MNIST dataset](http://yann.lecun.com/exdb/mnist/index.html). The MNIST (\"Modified National Institute of Standards and Technology\") dataset is a classic within the Machine Learning community that has been extensively studied.\n",
    "\n",
    "Each image is 28 pixels in height and 28 pixels in width, for a total of 784 pixels in total. Each pixel has a single pixel-value associated with it, indicating the lightness or darkness of that pixel, with higher numbers meaning darker. This pixel-value is an integer between 0 and 255, inclusive.\n",
    "\n",
    "The training data set, (train.csv), has 785 columns. The first column, called \"label\", is the digit that was drawn by the user. The rest of the columns contain the pixel-values of the associated image.\n",
    "\n",
    "Each pixel column in the training set has a name like pixelx, where x is an integer between 0 and 783, inclusive. To locate this pixel on the image, suppose that we have decomposed x as x = i * 28 + j, where i and j are integers between 0 and 27, inclusive. Then pixelx is located on row i and column j of a 28 x 28 matrix, (indexing by zero).\n",
    "\n",
    "The test data set, (test.csv), is the same as the training set, except that it does not contain the \"label\" column.\n",
    "\n",
    "Overview of the dataset:\n",
    "\n",
    "- 10 classes, 1 for each digit. Digit '1' has label 1, '9' has label 9 and '0' has label 0.\n",
    "- 42000 digits for training, 28000 digits for testing.\n",
    "- The inputs (images) are 1x28x28 centered around a single digit.\n",
    "- The outputs (targets) are 10-dimensional"
   ]
  },
  {
   "cell_type": "code",
   "execution_count": 2,
   "metadata": {
    "collapsed": false
   },
   "outputs": [
    {
     "data": {
      "text/plain": [
       "==> downloading dataset\t\n",
       "==> loading dataset\t\n",
       "Using full dataset\t\n"
      ]
     },
     "execution_count": 2,
     "metadata": {},
     "output_type": "execute_result"
    },
    {
     "data": {
      "text/plain": [
       "Print samples of training dataset\t\n"
      ]
     },
     "execution_count": 2,
     "metadata": {},
     "output_type": "execute_result"
    },
    {
     "data": {
      "image/png": "[encoded data removed]",
      "text/plain": [
       "Console does not support images"
      ]
     },
     "metadata": {
      "image/png": {
       "height": 68,
       "width": 204
      }
     },
     "output_type": "display_data"
    },
    {
     "data": {
      "text/plain": [
       " 2\n",
       " 1\n",
       " 2\n",
       " 5\n",
       " 1\n",
       " 1\n",
       " 8\n",
       " 4\n",
       "[torch.DoubleTensor of size 8]\n",
       "\n",
       "Print samples of testing dataset\t\n"
      ]
     },
     "execution_count": 2,
     "metadata": {},
     "output_type": "execute_result"
    },
    {
     "data": {
      "image/png": "[encoded data removed]",
      "text/plain": [
       "Console does not support images"
      ]
     },
     "metadata": {
      "image/png": {
       "height": 68,
       "width": 204
      }
     },
     "output_type": "display_data"
    }
   ],
   "source": [
    "print '==> downloading dataset'\n",
    "\n",
    "-- Here we download dataset files. \n",
    "\n",
    "-- Note: files were converted from their original Matlab format\n",
    "-- to Torch's internal format using the mattorch package. The\n",
    "-- mattorch package allows 1-to-1 conversion between Torch and Matlab\n",
    "-- files.\n",
    "\n",
    "-- The MNIST dataset contains 2 files:\n",
    "--    + train: training data\n",
    "--    + test:  test data\n",
    "classes = {'0', '1', '2', '3', '4', '5', '6', '7', '8', '9'}\n",
    "torch_file_train = 'input/train_32x32.t7'\n",
    "torch_file_test = 'input/test_32x32.t7'\n",
    "csv_file_train = 'input/train.csv'\n",
    "csv_file_test = 'input/test.csv'\n",
    "\n",
    "-- Save training tensor variable\n",
    "if (not paths.filep(torch_file_train)) then\n",
    "    if (not paths.filep(csv_file_train)) then\n",
    "        os.execute('wget https://www.kaggle.com/c/digit-recognizer/download/train.csv')\n",
    "    end\n",
    "    local trainSetOriginal = csvigo.load{path=csv_file_train, mode='raw'}\n",
    "    local nTrainingSamples = #trainSetOriginal - 1\n",
    "    local trainFeatures32x32 = torch.Tensor(nTrainingSamples, 1, 32, 32)\n",
    "    local trainLabels = torch.Tensor(nTrainingSamples):zero()\n",
    "    for i = 1, nTrainingSamples do\n",
    "        local labelSample = table.remove(trainSetOriginal[i + 1], 1)\n",
    "        local featuresSample = torch.Tensor(trainSetOriginal[i + 1]):reshape(1, 28, 28)\n",
    "        trainFeatures32x32[i]:narrow(2, 3, 28):narrow(3, 3, 28):copy(featuresSample)\n",
    "        trainLabels[i] = labelSample + 1\n",
    "    end\n",
    "    torch.save(torch_file_train, {trainFeatures32x32, trainLabels})\n",
    "end\n",
    "\n",
    "-- Save testing tensor variable\n",
    "if (not paths.filep(torch_file_test)) then\n",
    "    if (not paths.filep(csv_file_test)) then\n",
    "        os.execute('wget https://www.kaggle.com/c/digit-recognizer/download/test.csv')\n",
    "    end\n",
    "    local testSetOriginal = csvigo.load{path=csv_file_test, mode='raw'}\n",
    "    local nTestSamples = #testSetOriginal - 1\n",
    "    local testFeatures32x32 = torch.Tensor(nTestSamples, 1, 32, 32)\n",
    "    for i = 1, nTestSamples do\n",
    "        local featuresSample = torch.Tensor(testSetOriginal[i + 1]):reshape(1, 28, 28)\n",
    "        testFeatures32x32[i]:narrow(2, 3, 28):narrow(3, 3, 28):copy(featuresSample)\n",
    "    end\n",
    "    torch.save(torch_file_test, testFeatures32x32)\n",
    "end\n",
    "\n",
    "\n",
    "----------------------------------------------------------------------\n",
    "print '==> loading dataset'\n",
    "\n",
    "\n",
    "if (opt.size == 'small') then\n",
    "    train_size = 10000\n",
    "    test_size = 2000\n",
    "    print 'Using small dataset'\n",
    "elseif (opt.size == 'full') then\n",
    "    train_size = 42000\n",
    "    test_size = 28000  \n",
    "    print 'Using full dataset'\n",
    "end\n",
    "\n",
    "-- Load the training dataset\n",
    "raw_data = torch.load(torch_file_train)\n",
    "trainSet = {\n",
    "    data = raw_data[1],\n",
    "    labels = raw_data[2],\n",
    "    size = function() return train_size end\n",
    "}\n",
    "\n",
    "-- Load the testing dataset\n",
    "raw_data = torch.load(torch_file_test)\n",
    "testSet = {\n",
    "    data = raw_data,\n",
    "    size = function() return test_size end\n",
    "}\n",
    "\n",
    "-- Print sample of training and testing set\n",
    "if opt.visualize then\n",
    "    if itorch then\n",
    "        print 'Print samples of training dataset'\n",
    "        first8TrainingSamples = trainSet.data[{ {1,8},{1},{},{}}]\n",
    "        itorch.image(first8TrainingSamples)\n",
    "        print(trainSet.labels[{{1,8}}])\n",
    "        print 'Print samples of testing dataset'\n",
    "        first8TestSamples = testSet.data[{ {1,8},{1},{},{}}]\n",
    "        itorch.image(first8TestSamples)\n",
    "    else print(\"For visualization, run this script in an itorch notebook\") \n",
    "    end\n",
    "end\n"
   ]
  },
  {
   "cell_type": "code",
   "execution_count": 3,
   "metadata": {
    "collapsed": false
   },
   "outputs": [
    {
     "data": {
      "text/plain": [
       "==> preprocessing data\t\n"
      ]
     },
     "execution_count": 3,
     "metadata": {},
     "output_type": "execute_result"
    },
    {
     "data": {
      "text/plain": [
       "==> preprocessing data: normalize each feature (channel) globally\t\n"
      ]
     },
     "execution_count": 3,
     "metadata": {},
     "output_type": "execute_result"
    },
    {
     "data": {
      "text/plain": [
       "Channel 1 mean: 25.578697614397\t\n"
      ]
     },
     "execution_count": 3,
     "metadata": {},
     "output_type": "execute_result"
    },
    {
     "data": {
      "text/plain": [
       "Channel 1 Standard Deviation: 70.282630863225\t\n"
      ]
     },
     "execution_count": 3,
     "metadata": {},
     "output_type": "execute_result"
    },
    {
     "data": {
      "text/plain": [
       "==> preprocessing data: normalize each channel locally\t\n"
      ]
     },
     "execution_count": 3,
     "metadata": {},
     "output_type": "execute_result"
    }
   ],
   "source": [
    "----------------------------------------------------------------------\n",
    "print '==> preprocessing data'\n",
    "\n",
    "-- Preprocessing requires a floating point representation (the original\n",
    "-- data is stored on bytes). Types can be easily converted in Torch, \n",
    "-- in general by doing: dst = src:type('torch.TypeTensor'), \n",
    "-- where Type=='Float','Double','Byte','Int',... Shortcuts are provided\n",
    "-- for simplicity (float(),double(),cuda(),...):\n",
    "\n",
    "trainSet.data = trainSet.data:float()\n",
    "testSet.data = testSet.data:float()\n",
    "\n",
    "-- We now preprocess the data. Preprocessing is crucial\n",
    "-- when applying pretty much any kind of machine learning algorithm.\n",
    "-- color channels are normalized globally, across the entire dataset;\n",
    "-- as a result, each color component has 0-mean and 1-norm across the dataset.\n",
    "\n",
    "\n",
    "\n",
    "-- Normalize each channel, and store mean/std\n",
    "-- per channel. These values are important, as they are part of\n",
    "-- the trainable parameters. At test time, test data will be normalized\n",
    "-- using these values.\n",
    "print '==> preprocessing data: normalize each feature (channel) globally'\n",
    "-- normalize each channel globally:\n",
    "mean = trainSet.data[{ {},{1},{},{} }]:mean() -- mean estimation\n",
    "stdv = trainSet.data[{ {},{1},{},{} }]:std() -- std estimation\n",
    "print('Channel 1 mean: ' .. mean)\n",
    "trainSet.data[{ {},{1},{},{} }]:add(-mean) -- mean subtraction\n",
    "testSet.data[{ {},{1},{},{} }]:add(-mean) -- mean subtraction\n",
    "    \n",
    "print('Channel 1 Standard Deviation: ' .. stdv)\n",
    "trainSet.data[{ {},{1},{},{} }]:div(stdv) -- std division\n",
    "testSet.data[{ {},{1},{},{} }]:div(stdv) -- std division\n",
    "\n",
    "----------------------------------------------------------------------"
   ]
  },
  {
   "cell_type": "code",
   "execution_count": 4,
   "metadata": {
    "collapsed": false
   },
   "outputs": [
    {
     "data": {
      "text/plain": [
       "==> verify statistics\t\n"
      ]
     },
     "execution_count": 4,
     "metadata": {},
     "output_type": "execute_result"
    },
    {
     "data": {
      "text/plain": [
       "Training Set Channel 1 mean: 4.2554542926068e-09\t\n"
      ]
     },
     "execution_count": 4,
     "metadata": {},
     "output_type": "execute_result"
    },
    {
     "data": {
      "text/plain": [
       "Testing Set Channel 1 mean: -0.00062491393520639\t\n"
      ]
     },
     "execution_count": 4,
     "metadata": {},
     "output_type": "execute_result"
    },
    {
     "data": {
      "text/plain": [
       "Training Set Channel 1 Standard Deviation: 0.99999998940771\t\n"
      ]
     },
     "execution_count": 4,
     "metadata": {},
     "output_type": "execute_result"
    },
    {
     "data": {
      "text/plain": [
       "Testing Set Channel 1 Standard Deviation: 0.99921772019097\t\n",
       "==> visualizing data\t\n"
      ]
     },
     "execution_count": 4,
     "metadata": {},
     "output_type": "execute_result"
    },
    {
     "data": {
      "image/png": "[encoded data removed]",
      "text/plain": [
       "Console does not support images"
      ]
     },
     "metadata": {
      "image/png": {
       "height": 374,
       "width": 204
      }
     },
     "output_type": "display_data"
    }
   ],
   "source": [
    "print '==> verify statistics'\n",
    "-- It's always good practice to verify that data is properly normalized\n",
    "\n",
    "\n",
    "print('Training Set Channel 1 mean: ' .. trainSet.data[{ {},{1},{},{} }]:mean())\n",
    "print('Testing Set Channel 1 mean: ' .. testSet.data[{ {},{1},{},{} }]:mean())\n",
    "print('Training Set Channel 1 Standard Deviation: ' .. trainSet.data[{ {},{1},{},{} }]:std())\n",
    "print('Testing Set Channel 1 Standard Deviation: ' .. testSet.data[{ {},{1},{},{} }]:std())\n",
    "\n",
    "----------------------------------------------------------------------\n",
    "print '==> visualizing data'\n",
    "-- Visualization is quite easy, using itorch.image().\n",
    "\n",
    "if opt.visualize then\n",
    "    if itorch then\n",
    "        first64samples = trainSet.data[{ {1,64},{1},{},{}}]\n",
    "        itorch.image(first64samples)\n",
    "    else print(\"For visualization, run this script in an itorch notebook\") \n",
    "    end\n",
    "end"
   ]
  },
  {
   "cell_type": "markdown",
   "metadata": {},
   "source": [
    "## Step 2: Model Definition\n",
    "\n",
    "In this file, we describe three different models: convolutional neural networks (CNNs, or ConvNets), multi-layer neural networks (MLPs), and a simple linear model (which becomes a logistic regression if used with a negative log-likelihood loss).\n",
    "\n",
    "Linear regression is the simplest type of model. It is parametrized by a weight matrix W, and a bias vector b. Mathematically, it can be written as:\n",
    "$$ y^n = Wx^n+b $$\n",
    "\n",
    "Using the nn package, describing ConvNets, MLPs and other forms of sequential trainable models is really easy. All we have to do is create a top-level wrapper, which, as for the logistic regression, is going to be a sequential module, and then append modules into it. Implementing a simple linear model is therefore trivial:\n",
    "```torch\n",
    "model = nn.Sequential()\n",
    "model:add(nn.Reshape(ninputs))\n",
    "model:add(nn.Linear(ninputs, noutputs))\n",
    "```\n",
    "\n",
    "A slightly more complicated model is the multi-layer neural network (MLP). This model is parametrized by two weight matrices, and two bias vectors:\n",
    "$$ y^n = W_2 \\text{sigmoid}(W_1 x^n + b_1) + b_2 $$\n",
    "\n",
    "where the function sigmoid is typically the symmetric hyperbolic tangent function. Again, in Torch:\n",
    "```torch\n",
    "model = nn.Sequential()\n",
    "model:add(nn.Reshape(ninputs))\n",
    "model:add(nn.Linear(ninputs,nhiddens))\n",
    "model:add(nn.Tanh())\n",
    "model:add(nn.Linear(nhiddens,noutputs))\n",
    "```\n",
    "\n",
    "Compared to the linear regression model, the 2-layer neural network can learn arbitrary non-linear mappings between its inputs and outputs. In practice, it can be quite hard to train fully-connected MLPs to classify natural images.\n",
    "\n",
    "Convolutional Networks are a particular form of MLP, which was tailored to efficiently learn to classify images. Convolutional Networks are trainable architectures composed of multiple stages. The input and output of each stage are sets of arrays called feature maps. For example, if the input is a color image, each feature map would be a 2D array containing a color channel of the input image (for an audio input each feature map would be a 1D array, and for a video or volumetric image, it would be a 3D array). At the output, each feature map represents a particular feature extracted at all locations on the input. \n",
    "\n",
    "Each stage is composed of three layers: a **filter bank layer**, a **non-linearity layer**, and a **feature pooling layer**. A typical ConvNet is composed of one, two or three such 3-layer stages, followed by a **classification module**. Each layer type is now described for the case of image recognition.\n",
    "![Convolutional Networds](itorch_digit_recognizer_cnn.ipynb_img1.png)\n",
    "\n",
    "Trainable hierarchical vision models, and more generally image processing algorithms are usually expressed as sequences of operations or transformations. They can be well described by a modular approach, in which each module processes an input image bank and produces a new bank. The figure above is a nice graphical illustration of this approach. Each module requires the previous bank to be fully (or at least partially) available before computing its output. This causality prevents simple parallelism to be implemented across modules. However parallelism can easily be introduced within a module, and at several levels, depending on the kind of underlying operations. These forms of parallelism are exploited in Torch7.\n",
    "\n",
    "Typical ConvNets rely on a few basic modules:\n",
    "* **Filter bank layer**: the input is a 3D array with n1 2D feature maps of size n2 x n3. Each component is denoted $x_{ijk}$, and each feature map is denoted xi. The output is also a 3D array, y composed of m1 feature maps of size m2 x m3. A trainable filter (kernel) $k_{ij}$ in the filter bank has size l1 x l2 and connects input feature map x to output feature map $y_j$. The module computes $y_j = b_j + i_{kij} * x_i$ where $*$ is the 2D discrete convolution operator and $b_j$ is a trainable bias parameter. Each filter detects a particular feature at every location on the input. Hence spatially translating the input of a feature detection layer will translate the output but leave it otherwise unchanged.\n",
    "* **Non-Linearity Layer**: In traditional ConvNets this simply consists in a pointwise tanh() sigmoid function applied to each site (ijk). However, recent implementations have used more sophisticated non-linearities. A useful one for natural image recognition is the rectified sigmoid Rabs: $|g_i.tanh()|$ where $g_i$ is a trainable gain parameter. The rectified sigmoid is sometimes followed by a subtractive and divisive local normalization N, which enforces local competition between adjacent features in a feature map, and between features at the same spatial location.\n",
    "* **Feature Pooling Layer**: This layer treats each feature map separately. In its simplest instance, it computes the average values over a neighborhood in each feature map. Recent work has shown that more selective poolings, based on the LP-norm, tend to work best, with P=2, or P=inf (also known as max pooling). The neighborhoods are stepped by a stride larger than 1 (but smaller than or equal the pooling neighborhood). This results in a reduced-resolution output feature map which is robust to small variations in the location of features in the previous layer. The average operation is sometimes replaced by a max PM. Traditional ConvNets use a pointwise tanh() after the pooling layer, but more recent models do not. Some ConvNets dispense with the separate pooling layer entirely, but use strides larger than one in the filter bank layer to reduce the resolution. In some recent versions of ConvNets, the pooling also pools similar feature at the same location, in addition to the same feature at nearby locations.\n",
    "\n",
    "A couple of comments about the model that we are going to use:\n",
    "* the input has 3 feature maps, each 32x32 pixels. It is the convention for all nn.Spatial* layers to work on 3D arrays, with the first dimension indexing different features (here normalized YUV), and the next two dimensions indexing the height and width of the image/map.\n",
    "* the fist layer applies 16 filters to the input map, each being 5x5. The receptive field of this first layer is 5x5, and the maps produced by it are therefore 16x28x28. This linear transform is then followed by a non-linearity (tanh), and an L2-pooling function, which pools regions of size 2x2, and uses a stride of 2x2. The result of that operation is a 16x14x14 array, which represents a 14x14 map of 16-dimensional feature vectors. The receptive field of each unit at this stage is 7x7.\n",
    "* the second layer is very much analogous to the first, except that now the 16-dim feature maps are projected into 256- dim maps, with a fully-connected connection table: each unit in the output array is influenced by a 4x5x5 neighborhood of features in the previous layer. That layer has therefore 4x256x5x5 trainable kernel weights (and 256 biases). The result of the complete layer (conv+pooling) is a 256x5x5 array.\n",
    "* at this stage, the 5x5 array of 256-dimensional feature vectors is flattened into a 6400-dimensional vector, which we feed to a two-layer neural net. The final prediction (10-dimensional distribution over classes) is influenced by a 32x32 neighborhood of input variables (YUV pixels).\n",
    "* recent work (Jarret et al.) has demonstrated the advantage of locally normalizing sets of internal features, at each stage of the model. The use of smoother pooling functions, such as the L2 norm for instance instead of the harsher max-pooling, has also been shown to yield better generalization (Sermanet et al.). We use these two ingredients in this model.\n",
    "* one other remark: it is typically not a good idea to use fully connected layers, in internal layers. In general, favoring large numbers of features (over-completeness) over density of connections helps achieve better results (empirical evidence of this was reported in several papers, as in Hadsell et al.). The SpatialConvolutionMap module accepts tables of connectivities (maps) that allows one to create arbitrarily sparse connections between two layers. A couple of standard maps/tables are provided in nn.tables.\n",
    "\n"
   ]
  },
  {
   "cell_type": "code",
   "execution_count": 5,
   "metadata": {
    "collapsed": false
   },
   "outputs": [
    {
     "data": {
      "text/plain": [
       "==> define parameters\t\n",
       "==> construct model\t\n"
      ]
     },
     "execution_count": 5,
     "metadata": {},
     "output_type": "execute_result"
    },
    {
     "data": {
      "text/plain": [
       "==> here is the model:\t\n",
       "nn.Sequential {\n",
       "  [input -> (1) -> (2) -> (3) -> (4) -> (5) -> (6) -> (7) -> (8) -> (9) -> (10) -> (11) -> (12) -> output]\n",
       "  (1): nn.SpatialConvolutionMap\n",
       "  (2): nn.Tanh\n",
       "  (3): nn.Sequential {\n",
       "    [input -> (1) -> (2) -> (3) -> (4) -> output]\n",
       "    (1): nn.Square\n",
       "    (2): nn.SpatialAveragePooling(2x2, 2,2)\n",
       "    (3): nn.MulConstant\n",
       "    (4): nn.Sqrt\n",
       "  }\n",
       "  (4): nn.SpatialSubtractiveNormalization\n",
       "  (5): nn.SpatialConvolutionMap\n",
       "  (6): nn.Tanh\n",
       "  (7): nn.Sequential {\n",
       "    [input -> (1) -> (2) -> (3) -> (4) -> output]\n",
       "    (1): nn.Square\n",
       "    (2): nn.SpatialAveragePooling(2x2, 2,2)\n",
       "    (3): nn.MulConstant\n",
       "    (4): nn.Sqrt\n",
       "  }\n",
       "  (8): nn.SpatialSubtractiveNormalization\n",
       "  (9): nn.Reshape(1600)\n",
       "  (10): nn.Linear(1600 -> 128)\n",
       "  (11): nn.Tanh\n",
       "  (12): nn.Linear(128 -> 10)\n",
       "}\n",
       "{\n",
       "  gradInput : DoubleTensor - empty\n",
       "  modules : \n",
       "    {\n",
       "      1 : \n",
       "        nn.SpatialConvolutionMap\n",
       "        {\n",
       "          dH : 1\n",
       "          dW : 1\n",
       "          nInputPlane : 1\n",
       "          kW : 5\n",
       "          gradInput : DoubleTensor - empty\n",
       "          connTable : DoubleTensor - size: 64x2\n",
       "          gradBias : DoubleTensor - size: 64\n",
       "          weight : DoubleTensor - size: 64x5x5\n",
       "          _type : torch.DoubleTensor\n",
       "          gradWeight : DoubleTensor - size: 64x5x5\n",
       "          bias : DoubleTensor - size: 64\n",
       "          nOutputPlane : 64\n",
       "          output : DoubleTensor - empty\n",
       "          kH : 5\n",
       "        }\n",
       "      2 : \n",
       "        nn.Tanh\n",
       "        {\n",
       "          gradInput : DoubleTensor - empty\n",
       "          _type : torch.DoubleTensor\n",
       "          output : DoubleTensor - empty\n",
       "        }\n",
       "      3 : \n",
       "        nn.Sequential {\n",
       "          [input -> (1) -> (2) -> (3) -> (4) -> output]\n",
       "          (1): nn.Square\n",
       "          (2): nn.SpatialAveragePooling(2x2, 2,2)\n",
       "          (3): nn.MulConstant\n",
       "          (4): nn.Sqrt\n",
       "        }\n",
       "        {\n",
       "          dH : 2\n",
       "          dW : 2\n",
       "          _type : torch.DoubleTensor\n",
       "          output : DoubleTensor - empty\n",
       "          gradInput : DoubleTensor - empty\n",
       "          modules : \n",
       "            {\n",
       "              1 : \n",
       "                nn.Square\n",
       "                {\n",
       "                  gradInput : DoubleTensor - empty\n",
       "                  _type : torch.DoubleTensor\n",
       "                  output : DoubleTensor - empty\n",
       "                }\n",
       "              2 : \n",
       "                nn.SpatialAveragePooling(2x2, 2,2)\n",
       "                {\n",
       "                  dH : 2\n",
       "                  dW : 2\n",
       "                  kW : 2\n"
      ]
     },
     "execution_count": 5,
     "metadata": {},
     "output_type": "execute_result"
    },
    {
     "data": {
      "text/plain": [
       "                  gradInput : DoubleTensor - empty\n",
       "                  divide : true\n",
       "                  count_include_pad : true\n",
       "                  _type : torch.DoubleTensor\n",
       "                  padH : 0\n",
       "                  ceil_mode : false\n",
       "                  output : DoubleTensor - empty\n",
       "                  kH : 2\n",
       "                  padW : 0\n",
       "                }\n",
       "              3 : \n",
       "                nn.MulConstant\n",
       "                {\n",
       "                  inplace : false\n",
       "                  _type : torch.DoubleTensor\n",
       "                  constant_scalar : 4\n",
       "                  gradInput : DoubleTensor - empty\n",
       "     "
      ]
     },
     "execution_count": 5,
     "metadata": {},
     "output_type": "execute_result"
    },
    {
     "data": {
      "text/plain": [
       "             output : DoubleTensor - empty\n",
       "                }\n",
       "              4 : \n",
       "                nn.Sqrt\n",
       "                {\n",
       "                  gradInput : DoubleTensor - empty\n",
       "                  eps : 0\n",
       "                  _type : torch.DoubleTensor\n",
       "                  output : DoubleTensor - empty\n",
       "                }\n",
       "            }\n",
       "          kH : 2\n",
       "          kW : 2\n",
       "        }\n",
       "      4 : \n",
       "        nn.SpatialSubtractiveNormalization\n",
       "        {\n",
       "          nInputPlane : 64\n",
       "          divider : \n",
       "            nn.CDivTable\n",
       "            {\n",
       "              gradInput : table: 0x00a99f60\n",
       "              _type : torch.DoubleTensor\n",
       "              output : DoubleTensor - empty\n",
       "            }\n",
       "          gradInput : DoubleTensor - empty\n",
       "          coef : DoubleTensor - size: 1x1x1\n",
       "          kernel : DoubleTensor - size: 7\n",
       "          _type : torch.DoubleTensor\n",
       "          subtractor : \n",
       "            nn.CSubTable\n",
       "            {\n",
       "              gradInput : table: 0x006d8bc8\n",
       "              _type : torch.DoubleTensor\n",
       "              output : DoubleTensor - empty\n",
       "            }\n",
       "          meanestimator : \n",
       "            nn.Sequential {\n",
       "              [input -> (1) -> (2) -> (3) -> (4) -> output]\n",
       "              (1): nn.SpatialZeroPadding(l=3, r=3, t=3, b=3)\n",
       "              (2): nn.SpatialConvolutionMap\n",
       "              (3): nn.SpatialConvolution(64 -> 1, 1x7)\n",
       "              (4): nn.Replicate\n",
       "            }\n",
       "            {\n",
       "              gradInput : DoubleTensor - empty\n",
       "              modules : \n",
       "                {\n",
       "                  1 : nn.SpatialZeroPadding(l=3, r=3, t=3, b=3)\n",
       "                  2 : nn.SpatialConvolutionMap\n",
       "                  3 : nn.SpatialConvolution(64 -> 1, 1x7)\n",
       "                  4 : nn.Replicate\n",
       "                }\n",
       "              _type : torch.DoubleTensor\n",
       "              output : DoubleTensor - empty\n",
       "            }\n",
       "          output : DoubleTensor - empty\n",
       "        }\n",
       "      5 : \n",
       "        nn.SpatialConvolutionMap\n",
       "        {\n",
       "          dH : 1\n",
       "          dW : 1\n",
       "          nInputPlane : 64\n",
       "          kW : 5\n",
       "          gradInput : DoubleTensor - empty\n",
       "          connTable : DoubleTensor - size: 256x2\n",
       "          gradBias : DoubleTensor - size: 64\n"
      ]
     },
     "execution_count": 5,
     "metadata": {},
     "output_type": "execute_result"
    },
    {
     "data": {
      "text/plain": [
       "          weight : DoubleTensor - size: 256x5x5\n",
       "          _type : torch.DoubleTensor\n",
       "          gradWeight : DoubleTensor - size: 256x5x5\n",
       "          bias : DoubleTensor - size: 64\n",
       "          nOutputPlane : 64\n",
       "          output : DoubleTensor - empty\n",
       "          kH : 5\n",
       "        }\n",
       "      6 : \n",
       "        nn.Tanh\n",
       "        {\n",
       "          gradInput : DoubleTensor - empty\n",
       "          _type : torch.DoubleTensor\n",
       "          output : DoubleTensor - empty\n",
       "        }\n",
       "      7 : \n",
       "        nn.Sequential {\n",
       "          [input -> (1) -> (2) -> (3) -> (4) -> output]\n",
       "          (1): nn.Square\n",
       "          (2): nn.SpatialAveragePooling(2x2, 2,2)\n",
       "          (3): nn.MulConstant\n",
       "          (4): nn.Sqrt\n",
       "        }\n",
       "        {\n",
       "          dH : 2\n",
       "          dW : 2\n",
       "          _type : torch.DoubleTensor\n",
       "          output : DoubleTensor - empty\n",
       "          gradInput : DoubleTensor - empty\n",
       "          modules : \n",
       "            {\n",
       "              1 : \n",
       "                nn.Square\n",
       "                {\n",
       "                  gradInput : DoubleTensor - empty\n",
       "                  _type : torch.DoubleTensor\n",
       "                  output : DoubleTensor - empty\n",
       "                }\n",
       "              2 : \n",
       "                nn.SpatialAveragePooling(2x2, 2,2)\n",
       "                {\n",
       "                  dH : 2\n",
       "                  dW : 2\n",
       "                  kW : 2\n",
       "                  gradInput : DoubleTensor - empty\n",
       "                  divide : true\n",
       "                  count_include_pad : true\n",
       "                  _type : torch.DoubleTensor\n",
       "                  padH : 0\n",
       "                  ceil_mode : false\n",
       "                  output : DoubleTensor - empty\n",
       "                  kH : 2\n",
       "                  padW : 0\n",
       "                }\n",
       "              3 : \n",
       "                nn.MulConstant\n",
       "                {\n",
       "                  inplace : false\n",
       "                  _type : torch.DoubleTensor\n",
       "                  constant_scalar : 4\n",
       "                  gradInput : DoubleTensor - empty\n",
       "                  output : DoubleTensor - empty\n",
       "                }\n",
       "              4 : \n",
       "                nn.Sqrt\n",
       "                {\n",
       "                  gradInput : DoubleTensor - empty\n"
      ]
     },
     "execution_count": 5,
     "metadata": {},
     "output_type": "execute_result"
    },
    {
     "data": {
      "text/plain": [
       "                  eps : 0\n",
       "                  _type : torch.DoubleTensor\n",
       "                  output : DoubleTensor - empty\n",
       "                }\n",
       "            }\n",
       "          kH : 2\n",
       "          kW : 2\n",
       "        }\n",
       "      8 : \n",
       "        nn.SpatialSubtractiveNormalization\n",
       "        {\n",
       "          nInputPlane : 64\n",
       "          divider : \n",
       "            nn.CDivTable\n",
       "            {\n",
       "              gradInput : table: 0x00b72ac0\n",
       "              _type : torch.DoubleTensor\n",
       "              output : DoubleTensor - empty\n",
       "            }\n",
       "          gradInput : DoubleTensor - empty\n",
       "          coef : DoubleTensor - size: 1x1x1\n",
       "          kernel : DoubleTensor - size: 7\n",
       "          _type : torch.DoubleTensor\n",
       "          subtractor : \n",
       "            nn.CSubTable\n",
       "            {\n",
       "              gradInput : table: 0x00b729b8\n",
       "              _type : torch.DoubleTensor\n",
       "              output : DoubleTensor - empty\n",
       "            }\n",
       "          meanestimator : \n",
       "            nn.Sequential {\n",
       "              [input -> (1) -> (2) -> (3) -> (4) -> output]\n",
       "              (1): nn.SpatialZeroPadding(l=3, r=3, t=3, b=3)\n",
       "              (2): nn.SpatialConvolutionMap\n",
       "              (3): nn.SpatialConvolution(64 -> 1, 1x7)\n",
       "              (4): nn.Replicate\n",
       "            }\n",
       "            {\n",
       "              gradInput : DoubleTensor - empty\n",
       "              modules : \n",
       "                {\n",
       "                  1 : nn.SpatialZeroPadding(l=3, r=3, t=3, b=3)\n",
       "                  2 : nn.SpatialConvolutionMap\n",
       "                  3 : nn.SpatialConvolution(64 -> 1, 1x7)\n",
       "                  4 : nn.Replicate\n",
       "                }\n",
       "              _type : torch.DoubleTensor\n",
       "              output : DoubleTensor - empty\n",
       "            }\n",
       "          output : DoubleTensor - empty\n",
       "        }\n",
       "      9 : \n",
       "        nn.Reshape(1600)\n",
       "        {\n",
       "          _type : torch.DoubleTensor\n",
       "          output : DoubleTensor - empty\n",
       "          gradInput : DoubleTensor - empty\n",
       "          size : LongStorage - size: 1\n",
       "          nelement : 1600\n",
       "          batchsize : LongStorage - size: 2\n",
       "        }\n",
       "      10 : \n",
       "        nn.Linear(1600 -> 128)\n",
       "        {\n",
       "          gradBias : DoubleTensor - size: 128\n",
       "          weight : DoubleTensor - size: 128x1600\n",
       "          _type : torch.DoubleTensor\n",
       "          output : DoubleTensor - empty\n",
       "          gradInput : DoubleTensor - empty\n",
       "          bias : DoubleTensor - size: 128\n",
       "          gradWeight : DoubleTensor - size: 128x1600\n",
       "        }\n",
       "      11 : \n",
       "        nn.Tanh\n",
       "        {\n",
       "          gradInput : DoubleTensor - empty\n",
       "          _type : torch.DoubleTensor\n",
       "          output : DoubleTensor - empty\n",
       "        }\n",
       "      12 : \n",
       "        nn.Linear(128 -> 10)\n",
       "        {\n",
       "          gradBias : DoubleTensor - size: 10\n",
       "    "
      ]
     },
     "execution_count": 5,
     "metadata": {},
     "output_type": "execute_result"
    },
    {
     "data": {
      "text/plain": [
       "      weight : DoubleTensor - size: 10x128\n",
       "          _type : torch.DoubleTensor\n",
       "          output : DoubleTensor - empty\n",
       "          gradInput : DoubleTensor - empty\n",
       "          bias : DoubleTensor - size: 10\n",
       "          gradWeight : DoubleTensor - size: 10x128\n",
       "        }\n",
       "    }\n",
       "  _type : torch.DoubleTensor\n",
       "  output : DoubleTensor - empty\n",
       "}\n",
       "==> visualizing ConvNet filters\t\n",
       "Normal Convnet Layer 1 filters:\t\n"
      ]
     },
     "execution_count": 5,
     "metadata": {},
     "output_type": "execute_result"
    },
    {
     "data": {
      "image/png": "[encoded data removed]",
      "text/plain": [
       "Console does not support images"
      ]
     },
     "metadata": {
      "image/png": {
       "height": 77,
       "width": 42
      }
     },
     "output_type": "display_data"
    },
    {
     "data": {
      "text/plain": [
       "Normal Convnet Layer 2 filters:\t\n"
      ]
     },
     "execution_count": 5,
     "metadata": {},
     "output_type": "execute_result"
    },
    {
     "data": {
      "image/png": "[encoded data removed]",
      "text/plain": [
       "Console does not support images"
      ]
     },
     "metadata": {
      "image/png": {
       "height": 301,
       "width": 42
      }
     },
     "output_type": "display_data"
    }
   ],
   "source": [
    "-- This script demonstrates how to define a couple of different\n",
    "-- models:\n",
    "--   + linear\n",
    "--   + 2-layer neural network (MLP)\n",
    "--   + convolutional network (ConvNet)\n",
    "----------------------------------------------------------------------\n",
    "\n",
    "print '==> define parameters'\n",
    "\n",
    "-- 10 class problem\n",
    "noutputs = 10\n",
    "\n",
    "-- input dimensions\n",
    "nfeats = 1\n",
    "width = 32\n",
    "height = 32\n",
    "ninputs = nfeats * width * height\n",
    "\n",
    "-- number of hidden units (for MLP only):\n",
    "nhiddens = ninputs / 2\n",
    "\n",
    "-- hidden units, filter size (for ConvNets only):\n",
    "nstates = {64,64,128}\n",
    "fanin = {1,4}\n",
    "filtsize = 5\n",
    "poolsize = 2\n",
    "normkernel = image.gaussian1D(7)\n",
    "\n",
    "----------------------------------------------------------------------\n",
    "print '==> construct model'\n",
    "if opt.model == 'linear' then\n",
    "    -- Simple linear model\n",
    "    model = nn.Sequential()\n",
    "    model:add(nn.Reshape(ninputs))\n",
    "    model:add(nn.Linear(ninputs, noutputs))\n",
    "    \n",
    "elseif opt.model == 'mlp' then\n",
    "    -- Simple 2-layer neural network, with tanh hidden units\n",
    "    model = nn.Sequential()\n",
    "    model:add(nn.Reshape(ninputs))\n",
    "    model:add(nn.Linear(ninputs, nhiddens))\n",
    "    model:add(nn.Tanh())\n",
    "    model:add(nn.Linear(nhiddens, noutputs))\n",
    "\n",
    "elseif opt.model == 'convnet' then\n",
    "    if opt.type == 'cuda' then\n",
    "        -- a typical modern convolution network (conv+relu+pool)\n",
    "        model = nn.Sequential()\n",
    "        \n",
    "        -- stage 1 : filter bank -> squashing -> L2 pooling -> normalization\n",
    "        model:add(nn.SpatialConvolutionMM(nfeats, nstates[1], filtsize, filtsize))\n",
    "        model:add(nn.ReLU())\n",
    "        model:add(nn.SpatialMaxPooling(poolsize,poolsize,poolsize,poolsize))\n",
    "        \n",
    "        -- stage 2 : filter bank -> squashing -> L2 pooling -> normalization\n",
    "        model:add(nn.SpatialConvolutionMM(nstates[1], nstates[2], filtsize, filtsize))\n",
    "        model:add(nn.ReLU())\n",
    "        model:add(nn.SpatialMaxPooling(poolsize,poolsize,poolsize,poolsize))\n",
    "        \n",
    "        -- stage 3 : standard 2-layer neural network\n",
    "        model:add(nn.View(nstates[2]*filtsize*filtsize))\n",
    "        model:add(nn.Dropout(0.5))\n",
    "        model:add(nn.Linear(nstates[2]*filtsize*filtsize, nstates[3]))\n",
    "        model:add(nn.ReLU())\n",
    "        model:add(nn.Linear(nstates[3], noutputs))\n",
    "        \n",
    "    else \n",
    "        -- a typical convolutional network, with locally-normalized hidden\n",
    "        -- units, and L2-pooling\n",
    "        -- Note: the architecture of this convnet is loosely based on Pierre Sermanet's\n",
    "        -- work on this dataset (http://arxiv.org/abs/1204.3968). In particular\n",
    "        -- the use of LP-pooling (with P=2) has a very positive impact on\n",
    "        -- generalization. Normalization is not done exactly as proposed in\n",
    "        -- the paper, and low-level (first layer) features are not fed to\n",
    "        -- the classifier.\n",
    "        model = nn.Sequential()\n",
    "        \n",
    "        -- stage 1 : filter bank -> squashing -> L2 pooling -> normalization\n",
    "        model:add(nn.SpatialConvolutionMap(nn.tables.random(nfeats, nstates[1], fanin[1]), filtsize, filtsize))\n",
    "        model:add(nn.Tanh())\n",
    "        model:add(nn.SpatialLPPooling(nstates[1], 2, poolsize, poolsize, poolsize, poolsize))\n",
    "        model:add(nn.SpatialSubtractiveNormalization(nstates[1],normkernel))\n",
    "        \n",
    "        -- stage 2 : filter bank -> squashing -> L2 pooling -> normalization\n",
    "        model:add(nn.SpatialConvolutionMap(nn.tables.random(nstates[1], nstates[2], fanin[2]), filtsize, filtsize))\n",
    "        model:add(nn.Tanh())\n",
    "        model:add(nn.SpatialLPPooling(nstates[2], 2, poolsize, poolsize, poolsize, poolsize))\n",
    "        model:add(nn.SpatialSubtractiveNormalization(nstates[2],normkernel))\n",
    "        \n",
    "        -- stage 3 : standard 2-layer neural network\n",
    "        model:add(nn.Reshape(nstates[2]*filtsize*filtsize))\n",
    "        model:add(nn.Linear(nstates[2]*filtsize*filtsize, nstates[3]))\n",
    "        model:add(nn.Tanh())\n",
    "        model:add(nn.Linear(nstates[3], noutputs))\n",
    "    end\n",
    "else\n",
    "    print('unknown -model')\n",
    "end\n",
    "\n",
    "----------------------------------------------------------------------\n",
    "print '==> here is the model:'\n",
    "print(model)\n",
    "\n",
    "----------------------------------------------------------------------\n",
    "-- Visualization is quite easy, using itorch.image().\n",
    "if opt.visualize == true then\n",
    "    if itorch then\n",
    "        print('==> visualizing ConvNet filters')\n",
    "        if opt.model == 'linear' then\n",
    "            print('Linear Layer 1 filters:')\n",
    "            itorch.image(model.modules[2].weight)\n",
    "        elseif opt.model == 'mlp' then\n",
    "            print('MLP Layer 1 filters:')\n",
    "            itorch.image(model.modules[2].weight)\n",
    "        elseif opt.model == 'convnet' then\n",
    "            if opt.type == 'cuda' then\n",
    "                print('CUDA Convnet Layer 1 filters:')\n",
    "                itorch.image(model.modules[1].weight)\n",
    "                print('CUDA Convnet Layer 2 filters:')\n",
    "                itorch.image(model.modules[4].weight)\n",
    "            else\n",
    "                print('Normal Convnet Layer 1 filters:')\n",
    "                itorch.image(model.modules[1].weight)\n",
    "                print('Normal Convnet Layer 2 filters:')\n",
    "                itorch.image(model.modules[5].weight)\n",
    "            end\n",
    "        else error('Wrong NN Model') end\n",
    "    else print('For visualization, run this script in an itorch notebook') \n",
    "    end\n",
    "end"
   ]
  },
  {
   "cell_type": "markdown",
   "metadata": {
    "collapsed": true
   },
   "source": [
    "## Step 3: Loss Function\n",
    "\n",
    "Now that we have a model, we need to define a loss function to be minimized, across the entire training set:\n",
    "\n",
    "$$ L = \\sum_n l(y^n,t^n) $$\n",
    "\n",
    "One of the simplest loss functions we can minimize is the **mean-square error** between the predictions (outputs of the model), and the groundtruth labels, across the entire dataset:\n",
    "\n",
    "$$ l(y^n,t^n) = \\frac{1}{2} \\sum_i (y_i^n - t_i^n)^2 $$\n",
    "\n",
    "or, in Torch:\n",
    "```torch\n",
    "criterion = nn.MSECriterion()\n",
    "```\n",
    "\n",
    "The MSE loss is typically not a good one for classification, as it forces the model to exactly predict the values imposed by the targets (labels).\n",
    "\n",
    "Instead, a more commonly used, probabilistic objective is the **negative log-likelihood**. To minimize a negative log-likelihood, we first need to turn the predictions of our models into properly normalized log-probabilities. For the linear model, this is achieved by feeding the output units into a softmax function, which turns the linear regression into a logistic regression:\n",
    "\n",
    "$$ P(Y=i|x^n,W,b) = \\text{softmax}(Wx^n+be) $$ \n",
    "$$ P(Y=i|x^n,W,b) = \\frac{ e^{Wx_i^n+b} }{ \\sum_j e^{Wx_j^n+b} } $$\n",
    "\n",
    "As we're interested in classification, the final prediction is then achieved by taking the argmax of this distribution:\n",
    "\n",
    "$$ y^n = \\arg\\max_i P(Y=i|x^n,W,b) $$\n",
    "\n",
    "in which case the ouput y is a scalar.\n",
    "\n",
    "More generally, the output of any model can be turned into normalized log-probabilities, by stacking a softmax function on top. So given any of the models defined above, we can simply do:\n",
    "```torch\n",
    "model:add( nn.LogSoftMax() )\n",
    "```\n",
    "\n",
    "We want to maximize the likelihood of the correct (target) class, for each sample in the dataset. This is equivalent to minimizing the **negative log-likelihood (NLL)**, or minimizing the cross-entropy between the predictions of our model and the targets (training data). Mathematically, the per-sample loss can be defined as:\n",
    "\n",
    "$$ l(x^n,t^n) = -\\log(P(Y=t^n|x^n,W,b)) $$\n",
    "\n",
    "Given that our model already produces log-probabilities (thanks to the softmax), the loss is quite straightforward to estimate. In Torch, we use the ClassNLLCriterion, which expects its input as being a vector of log-probabilities, and the target as being an integer pointing to the correct class:\n",
    "```torch\n",
    "criterion = nn.ClassNLLCriterion()\n",
    "```\n",
    "\n",
    "Finally, another type of classification loss is the **multi-class margin loss**, which is closer to the well-known SVM loss. This loss function doesn't require normalized outputs, and can be implemented like this:\n",
    "```torch\n",
    "criterion = nn.MultiMarginCriterion()\n",
    "```\n",
    "\n",
    "The margin loss typically works on par with the negative log-likelihood. I haven't tested this thoroughly, so it's time for more exercises.\n"
   ]
  },
  {
   "cell_type": "code",
   "execution_count": 6,
   "metadata": {
    "collapsed": false
   },
   "outputs": [
    {
     "data": {
      "text/plain": [
       "==> define loss\t\n"
      ]
     },
     "execution_count": 6,
     "metadata": {},
     "output_type": "execute_result"
    },
    {
     "data": {
      "text/plain": [
       "==> here is the loss function:\t\n",
       "nll\t\n"
      ]
     },
     "execution_count": 6,
     "metadata": {},
     "output_type": "execute_result"
    }
   ],
   "source": [
    "----------------------------------------------------------------------\n",
    "-- This script demonstrates how to define a couple of different\n",
    "-- loss functions:\n",
    "--   + negative-log likelihood, using log-normalized output units (SoftMax)\n",
    "--   + mean-square error\n",
    "--   + margin loss (SVM-like)\n",
    "----------------------------------------------------------------------\n",
    "\n",
    "print '==> define loss'\n",
    "\n",
    "if opt.loss == 'margin' then\n",
    "    -- This loss takes a vector of classes, and the index of\n",
    "    -- the grountruth class as arguments. It is an SVM-like loss\n",
    "    -- with a default margin of 1.\n",
    "    criterion = nn.MultiMarginCriterion()\n",
    "\n",
    "elseif opt.loss == 'nll' then\n",
    "    -- This loss requires the outputs of the trainable model to\n",
    "    -- be properly normalized log-probabilities, which can be\n",
    "    -- achieved using a softmax function\n",
    "    model:add(nn.LogSoftMax())\n",
    "    \n",
    "    -- The loss works like the MultiMarginCriterion: it takes\n",
    "    -- a vector of classes, and the index of the grountruth class\n",
    "    -- as arguments.\n",
    "    criterion = nn.ClassNLLCriterion()\n",
    "\n",
    "elseif opt.loss == 'mse' then    \n",
    "    -- The mean-square error is not recommended for classification\n",
    "    -- tasks, as it typically tries to do too much, by exactly modeling\n",
    "    -- the 1-of-N distribution. For the sake of showing more examples,\n",
    "    -- we still provide it here:\n",
    "    criterion = nn.MSECriterion()\n",
    "    \n",
    "    -- Compared to the other losses, the MSE criterion needs a distribution\n",
    "    -- as a target, instead of an index. Indeed, it is a regression loss!\n",
    "    -- So we need to transform the entire label vectors:\n",
    "    if trainSet then\n",
    "        -- convert training labels:\n",
    "        local trsize = trainSet:size()\n",
    "        local trlabels = torch.Tensor(trsize, noutputs)\n",
    "        trlabels:fill(-1)\n",
    "        for i = 1,trsize do trlabels[{i,trainSet.labels[i]}] = 1 end\n",
    "        trainSet.labels = trlabels\n",
    "        \n",
    "        -- convert training labels:\n",
    "        local tesize = testSet:size()\n",
    "        local telabels = torch.Tensor(tesize, noutputs)\n",
    "        telabels:fill(-1)\n",
    "        for i = 1,tesize do telabels[{i,testSet.labels[i]}] = 1 end\n",
    "        testSet.labels = telabels\n",
    "    end\n",
    "\n",
    "else \n",
    "    error('error: unknown -class')\n",
    "end\n",
    "\n",
    "----------------------------------------------------------------------\n",
    "print '==> here is the loss function:'\n",
    "print(opt.loss)\n",
    "--print(criterion)"
   ]
  },
  {
   "cell_type": "markdown",
   "metadata": {},
   "source": [
    "## Step 4: Training Procedure\n",
    "\n",
    "We now have some training data, a model to train, and a loss function to minimize. We define a training procedure.\n",
    "\n",
    "A very important aspect about supervised training of non-linear models (ConvNets and MLPs) is the fact that the optimization problem is not convex anymore. This reinforces the need for a stochastic estimation of gradients, which have shown to produce much better generalization results for several problems.\n",
    "\n",
    "In this example, we show how the optimization algorithm can be easily set to either L-BFGS, CG, SGD or ASGD. In practice, it's very important to start with a few epochs of pure SGD, before switching to L-BFGS or ASGD (if switching at all). The intuition for that is related to the non-convex nature of the problem: at the very beginning of training (random initialization), the landscape might be highly non-convex, and no assumption should be made about the shape of the energy function. Often, SGD is the best we can do. Later on, batch methods (L-BFGS, CG) can be used more safely.\n",
    "\n",
    "Interestingly, in the case of large convex problems, stochasticity is also very important, as it allows much faster (rough) convergence. Several works have explored these techniques, in particular, this recent paper from Byrd/Nocedal, and work on pure stochastic gradient descent by Bottou.\n",
    "\n",
    "Here is our full training function, which demonstrates that you can switch the optimization you're using at runtime (if you want to), and also modify the batch size you're using at run time. You can do all these things because we create the evaluation closure each time we create a new batch. If the batch size is 1, then the method is purely stochastic. If the batch size is set to the complete dataset, then the method is a pure batch method."
   ]
  },
  {
   "cell_type": "code",
   "execution_count": 7,
   "metadata": {
    "collapsed": false
   },
   "outputs": [
    {
     "data": {
      "text/plain": [
       "==> defining some tools\t\n"
      ]
     },
     "execution_count": 7,
     "metadata": {},
     "output_type": "execute_result"
    },
    {
     "data": {
      "text/plain": [
       "==> configuring optimizer\t\n",
       "==> defining training procedure\t\n"
      ]
     },
     "execution_count": 7,
     "metadata": {},
     "output_type": "execute_result"
    }
   ],
   "source": [
    "----------------------------------------------------------------------\n",
    "-- This script demonstrates how to define a training procedure,\n",
    "-- irrespective of the model/loss functions chosen.\n",
    "--\n",
    "-- It shows how to:\n",
    "--   + construct mini-batches on the fly\n",
    "--   + define a closure to estimate (a noisy) loss\n",
    "--     function, as well as its derivatives wrt the parameters of the\n",
    "--     model to be trained\n",
    "--   + optimize the function, according to several optmization\n",
    "--     methods: SGD, L-BFGS.\n",
    "----------------------------------------------------------------------\n",
    "\n",
    "-- CUDA?\n",
    "if opt.type == 'cuda' then\n",
    "    model:cuda()\n",
    "    criterion:cuda()\n",
    "end\n",
    "\n",
    "----------------------------------------------------------------------\n",
    "print '==> defining some tools'\n",
    "\n",
    "-- This matrix records the current confusion across classes\n",
    "confusion = optim.ConfusionMatrix(classes)\n",
    "\n",
    "-- Log results to files\n",
    "trainLogger = optim.Logger(paths.concat(opt.save, 'train.log'))\n",
    "\n",
    "-- Retrieve parameters and gradients:\n",
    "-- this extracts and flattens all the trainable parameters of the mode\n",
    "-- into a 1-dim vector\n",
    "if model then\n",
    "    parameters,gradParameters = model:getParameters()\n",
    "end\n",
    "\n",
    "----------------------------------------------------------------------\n",
    "print '==> configuring optimizer'\n",
    "\n",
    "if opt.optimization == 'CG' then\n",
    "    optimState = {maxIter = opt.maxIter}\n",
    "    optimMethod = optim.cg\n",
    "    \n",
    "elseif opt.optimization == 'LBFGS' then\n",
    "    optimState = {\n",
    "        learningRate = opt.learningRate,\n",
    "        maxIter = opt.maxIter,\n",
    "        nCorrection = 10\n",
    "    }\n",
    "    optimMethod = optim.lbfgs\n",
    "\n",
    "elseif opt.optimization == 'SGD' then\n",
    "    optimState = {\n",
    "        learningRate = opt.learningRate,\n",
    "        weightDecay = opt.weightDecay,\n",
    "        momentum = opt.momentum,\n",
    "        learningRateDecay = 1e-17\n",
    "    }\n",
    "    optimMethod = optim.sgd\n",
    "    \n",
    "elseif opt.optimization == 'ASGD' then\n",
    "    optimState = {\n",
    "        eta0 = opt.learningRate,\n",
    "        t0 = train_size * opt.t0\n",
    "    }\n",
    "    optimMethod = optim.asgd\n",
    "else error('unknown optimization method')\n",
    "end\n",
    "\n",
    "----------------------------------------------------------------------\n",
    "print '==> defining training procedure'\n",
    "\n",
    "function train()\n",
    "    -- Printing training size\n",
    "    print('==> Training on ' .. trainSet:size() .. ' samples')\n",
    "    -- epoch tracker\n",
    "    epoch = epoch or 1\n",
    "    \n",
    "    -- local vars\n",
    "    local time = sys.clock()\n",
    "    \n",
    "    -- set model to training mode (for modules that differ in training and testing, like Dropout)\n",
    "    model:training()\n",
    "    \n",
    "    -- shuffle at each epoch\n",
    "    shuffle = torch.randperm(train_size)\n",
    "    \n",
    "    -- do one epoch\n",
    "    print('==> doing epoch on training data:')\n",
    "    print(\"==> online epoch # \" .. epoch .. ' [batchSize = ' .. opt.batchSize .. ']')\n",
    "    \n",
    "    for t = 1,trainSet:size(), opt.batchSize do\n",
    "        -- disp progress\n",
    "        xlua.progress(t, trainSet:size())\n",
    "        \n",
    "        -- create mini batch\n",
    "        local inputs = {}\n",
    "        local targets = {}\n",
    "        \n",
    "        for i = t,math.min(t+opt.batchSize-1, trainSet:size()) do\n",
    "            -- load new sample\n",
    "            local input = trainSet.data[shuffle[i]]\n",
    "            local target = trainSet.labels[shuffle[i]]\n",
    "            \n",
    "            if opt.type == 'double' then\n",
    "                input = input:double()\n",
    "                if opt.loss == 'mse' then target = target:double() end\n",
    "            elseif opt.type == 'cuda' then\n",
    "                input = input:cuda()\n",
    "                if opt.loss == 'mse' then target = target:cuda() end\n",
    "            end\n",
    "            \n",
    "            table.insert(inputs,input)\n",
    "            table.insert(targets, target)\n",
    "        end\n",
    "        \n",
    "        -- create closure to evaluate f(X) and df/dX\n",
    "        local feval = function(x)\n",
    "            -- get new parameters\n",
    "            if x ~= parameters then parameters:copy(x) end\n",
    "            \n",
    "            -- reset gradients\n",
    "            gradParameters:zero()\n",
    "            \n",
    "             -- f is the average of all criterions\n",
    "            local f = 0\n",
    "            \n",
    "            -- evaluate function for complete mini batch\n",
    "            for i = 1,#inputs do\n",
    "                -- estimate f\n",
    "                local output = model:forward(inputs[i])\n",
    "                local err = criterion:forward(output, targets[i])\n",
    "                f = f + err\n",
    "                \n",
    "                -- estimate df/dW\n",
    "                local df_dw = criterion:backward(output, targets[i])\n",
    "                model:backward(inputs[i], df_dw)\n",
    "                \n",
    "                -- update confusion\n",
    "                confusion:add(output, targets[i])\n",
    "            end\n",
    "            \n",
    "            -- normalize gradients and f(X)\n",
    "            gradParameters:div(#inputs)\n",
    "            f = f/#inputs\n",
    "            \n",
    "            -- return f and df/dX\n",
    "            return f, gradParameters\n",
    "        end\n",
    "        \n",
    "        -- optimize on current mini-batch\n",
    "        if optimMethod == optim.asgd then _,_,average = optimMethod(feval, parameters, optimState)\n",
    "        else optimMethod(feval, parameters, optimState)\n",
    "        end\n",
    "    end\n",
    "    \n",
    "    -- time taken\n",
    "    time = sys.clock() - time\n",
    "    time = time / trainSet:size()\n",
    "    print(\"\\n==> time to learn 1 sample = \" .. (time*1000) .. 'ms')\n",
    "    \n",
    "    -- print confusion matrix\n",
    "    print(confusion)\n",
    "    \n",
    "    -- update logger/plot\n",
    "    trainLogger:add{['% mean class accuracy (train set)'] = confusion.totalValid * 100}\n",
    "    if opt.plot then\n",
    "        trainLogger:style{['% mean class accuracy (train set)'] = '-'}\n",
    "        trainLogger:plot()\n",
    "    end\n",
    "    \n",
    "    -- save/log current net\n",
    "    local filename = paths.concat(opt.save, 'model.net')\n",
    "    --os.execute('mkdir -p ' .. sys.dirname(filename))\n",
    "    print('==> saving model to '..filename)\n",
    "    torch.save(filename, model)\n",
    "    \n",
    "    -- next epoch\n",
    "    confusion:zero()\n",
    "    epoch = epoch + 1\n",
    "end"
   ]
  },
  {
   "cell_type": "markdown",
   "metadata": {},
   "source": [
    "## Step 5: Test the Model\n",
    "\n",
    "A common thing to do is to test the model's performance while we train it. Usually, this test is done on a subset of the training data, that is kept for validation. Here we simply define the test procedure on the available test set:"
   ]
  },
  {
   "cell_type": "code",
   "execution_count": 8,
   "metadata": {
    "collapsed": false
   },
   "outputs": [
    {
     "data": {
      "text/plain": [
       "==> defining test procedure\t\n"
      ]
     },
     "execution_count": 8,
     "metadata": {},
     "output_type": "execute_result"
    }
   ],
   "source": [
    "----------------------------------------------------------------------\n",
    "-- This script implements save the test result to CSV file\n",
    "----------------------------------------------------------------------\n",
    "\n",
    "print '==> defining test procedure'\n",
    "\n",
    "-- test function\n",
    "function test()\n",
    "    -- print number of testing samples\n",
    "    print('==> Testing on ' .. testSet:size() .. ' samples')\n",
    "    local csv_file_output = paths.concat(opt.save, 'output.csv')\n",
    "    -- local vars\n",
    "    local time = sys.clock()\n",
    "    \n",
    "    -- averaged param use?\n",
    "    if average then\n",
    "        cachedparams = parameters:clone()\n",
    "        parameters:copy(average)\n",
    "    end\n",
    "    \n",
    "    -- set model to evaluate mode (for modules that differ in training and testing, like Dropout)\n",
    "    model:evaluate()\n",
    "    \n",
    "    -- test over test data\n",
    "    print('==> Writing prediction to CSV file:')\n",
    "    local csv_data = {}\n",
    "    csv_data[1] = {'ImageId','Label'}\n",
    "\n",
    "    for t = 1,testSet:size() do\n",
    "        -- disp progress\n",
    "        xlua.progress(t, testSet:size())\n",
    "        \n",
    "        -- get new sample\n",
    "        local input = testSet.data[t]\n",
    "        if opt.type == 'double' then input = input:double()\n",
    "        elseif opt.type == 'cuda' then input = input:cuda() end\n",
    "        \n",
    "        -- test sample\n",
    "        local pred = model:forward(input)\n",
    "        local _, indices = torch.sort(pred, true) \n",
    "        csv_data[t+1] = {}\n",
    "        csv_data[t+1][1] = t\n",
    "        csv_data[t+1][2] = indices[1] - 1\n",
    "    end\n",
    "    \n",
    "    -- timing\n",
    "    time = sys.clock() - time\n",
    "    time = time / testSet:size()\n",
    "    print(\"\\n==> time to test 1 sample = \" .. (time*1000) .. 'ms')\n",
    "    \n",
    "    -- print confusion matrix\n",
    "    csvigo.save{path=csv_file_output,data = csv_data}\n",
    "    \n",
    "    -- averaged param use?\n",
    "    if average then \n",
    "        -- restore parameters\n",
    "        parameters:copy(cachedparams)\n",
    "    end\n",
    "    \n",
    "    -- next iteration:\n",
    "    confusion:zero()\n",
    "end"
   ]
  },
  {
   "cell_type": "code",
   "execution_count": 9,
   "metadata": {
    "collapsed": false,
    "scrolled": false
   },
   "outputs": [
    {
     "data": {
      "text/plain": [
       "==> training!\t\n",
       "==> Training on 42000 samples\t\n"
      ]
     },
     "execution_count": 9,
     "metadata": {},
     "output_type": "execute_result"
    },
    {
     "data": {
      "text/plain": [
       "==> doing epoch on training data:\t\n",
       "==> online epoch # 1 [batchSize = 1]\t\n"
      ]
     },
     "execution_count": 9,
     "metadata": {},
     "output_type": "execute_result"
    },
    {
     "name": "stdout",
     "output_type": "stream",
     "text": [
      " [=====================================================================================>]                               \b\b\b\b\b\b\b\b\b\b\b\b\b\b\b\b\b\b\b\b\b\b\b\b\b\b\b\b\b\b Tot: 8m56s | Step: 12ms\b\b\b\b\b\b\b\b\b\b\b\b\b\b\b\b\b\b\b\b\b\b\b\b\b\b\b\b\b\b\b\b\b\b\b\b\b\b\b\b\b\b\b\b\b\b\b\b\b\b\b\b\b\b\b\b\b\b\b\b\b\b\b\b\b\b\b\b\b\b\b\b "
     ]
    },
    {
     "data": {
      "text/plain": [
       "\n",
       "==> time to learn 1 sample = 12.77805802368ms\t\n",
       "ConfusionMatrix:\n",
       "[[    4060       4       4       2       2       5      27       2      20       6]   98.257% \t[class: 0]\n",
       " [       0    4593      35      12       9       4       5       8      17       1]   98.057% \t[class: 1]\n",
       " [      36      57    3933      28      15       2      11      56      30       9]   94.158% \t[class: 2]\n",
       " [      19      28      66    4080       1      48       4      36      41      28]   93.772% \t[class: 3]\n",
       " [      21      49      17       2    3775       2      33      29       7     137]   92.706% \t[class: 4]\n",
       " [      46      51      11     119       3    3473      34       8      25      25]   91.515% \t[class: 5]\n",
       " [      62      34      14       1       8      22    3977       2      15       2]   96.132% \t[class: 6]\n",
       " [      19      43      69       6      13       3       0    4136       8     104]   93.979% \t[class: 7]\n",
       " [      31      98      44      65      21      26      16      36    3669      57]   90.303% \t[class: 8]\n",
       " [      55      38      21      41      40      12       2     125      21    3833]]  91.523% \t[class: 9]\n",
       " + average row correct: 94.040343165398% \n",
       " + average rowUcol correct (VOC measure): 88.899346590042% \n",
       " + global correct: 94.116666666667%\n",
       "{\n",
       "  _mat_flat : LongTensor - size: 100\n",
       "  valids : FloatTensor - size: 10\n",
       "  mat : LongTensor - size: 10x10\n",
       "  averageUnionValid : 0.88899346590042\n",
       "  _targ_idx : LongTensor - empty\n",
       "  averageValid : 0.94040343165398\n",
       "  classes : \n",
       "    {\n",
       "      1 : 0\n",
       "      2 : 1\n",
       "      3 : 2\n",
       "      4 : 3\n",
       "      5 : 4\n",
       "      6 : 5\n",
       "      7 : 6\n",
       "      8 : 7\n",
       "      9 : 8\n",
       "      10 : 9\n",
       "    }\n",
       "  _prediction : FloatTensor - size: 10\n",
       "  _pred_idx : LongTensor - size: 1\n",
       "  nclasses : 10\n",
       "  _max : FloatTensor - size: 1\n",
       "  _target : FloatTensor - empty\n",
       "  unionvalids : FloatTensor - size: 10\n",
       "  totalValid : 0.94116666666667\n",
       "}\n"
      ]
     },
     "execution_count": 9,
     "metadata": {},
     "output_type": "execute_result"
    },
    {
     "data": {
      "text/plain": [
       "==> saving model to /Users/sameh/Downloads/my_work/Kaggle - MNIST Digit Recognizer/itorch_output/model.net\t\n"
      ]
     },
     "execution_count": 9,
     "metadata": {},
     "output_type": "execute_result"
    },
    {
     "data": {
      "text/plain": [
       "==> Training on 42000 samples\t\n",
       "==> doing epoch on training data:\t\n",
       "==> online epoch # 2 [batchSize = 1]\t\n"
      ]
     },
     "execution_count": 9,
     "metadata": {},
     "output_type": "execute_result"
    },
    {
     "name": "stdout",
     "output_type": "stream",
     "text": [
      " [=====================================================================================>]                               \b\b\b\b\b\b\b\b\b\b\b\b\b\b\b\b\b\b\b\b\b\b\b\b\b\b\b\b\b\b Tot: 8m46s | Step: 12ms\b\b\b\b\b\b\b\b\b\b\b\b\b\b\b\b\b\b\b\b\b\b\b\b\b\b\b\b\b\b\b\b\b\b\b\b\b\b\b\b\b\b\b\b\b\b\b\b\b\b\b\b\b\b\b\b\b\b\b\b\b\b\b\b\b\b\b\b\b\b\b\b "
     ]
    },
    {
     "data": {
      "text/plain": [
       "\n",
       "==> time to learn 1 sample = 12.560956171581ms\t\n",
       "ConfusionMatrix:\n",
       "[[    4105       0       3       0       1       1      10       0       9       3]   99.347% \t[class: 0]\n",
       " [       0    4636      19       4       7       0       3       8       6       1]   98.975% \t[class: 1]\n",
       " [       3      11    4107      10       3       0       1      23      15       4]   98.324% \t[class: 2]\n",
       " [       5       1      16    4260       0      26       0      14      17      12]   97.909% \t[class: 3]\n",
       " [       2       4       4       0    4004       0      11       8       3      36]   98.330% \t[class: 4]\n",
       " [       5       1       0      18       1    3733      16       2      11       8]   98.366% \t[class: 5]\n",
       " [      11       4       2       1       2       8    4099       0      10       0]   99.081% \t[class: 6]\n",
       " [       4      12      17       3       7       0       0    4322       5      31]   98.205% \t[class: 7]\n",
       " [       7      16      13      13       8      10       8       2    3963      23]   97.539% \t[class: 8]\n",
       " [      16       4       3      17      24       8       0      30      13    4073]]  97.254% \t[class: 9]\n",
       " + average row correct: 98.333005309105% \n",
       " + average rowUcol correct (VOC measure): 96.72841489315% \n",
       " + global correct: 98.338095238095%\n",
       "{\n",
       "  _mat_flat : LongTensor - size: 100\n",
       "  valids : FloatTensor - size: 10\n",
       "  mat : LongTensor - size: 10x10\n",
       "  averageUnionValid : 0.9672841489315\n",
       "  _targ_idx : LongTensor - empty\n",
       "  averageValid : 0.98333005309105\n",
       "  classes : \n",
       "    {\n",
       "      1 : 0\n",
       "      2 : 1\n",
       "      3 : 2\n",
       "      4 : 3\n",
       "      5 : 4\n",
       "      6 : 5\n",
       "      7 : 6\n",
       "      8 : 7\n",
       "      9 : 8\n",
       "      10 : 9\n",
       "    }\n",
       "  _prediction : FloatTensor - size: 10\n",
       "  _pred_idx : LongTensor - size: 1\n",
       "  nclasses : 10\n",
       "  _max : FloatTensor - size: 1\n",
       "  _target : FloatTensor - empty\n",
       "  unionvalids : FloatTensor - size: 10\n",
       "  totalValid : 0.98338095238095\n",
       "}\n"
      ]
     },
     "execution_count": 9,
     "metadata": {},
     "output_type": "execute_result"
    },
    {
     "data": {
      "text/plain": [
       "==> saving model to /Users/sameh/Downloads/my_work/Kaggle - MNIST Digit Recognizer/itorch_output/model.net\t\n"
      ]
     },
     "execution_count": 9,
     "metadata": {},
     "output_type": "execute_result"
    },
    {
     "data": {
      "text/plain": [
       "==> Training on 42000 samples\t\n"
      ]
     },
     "execution_count": 9,
     "metadata": {},
     "output_type": "execute_result"
    },
    {
     "data": {
      "text/plain": [
       "==> doing epoch on training data:\t\n",
       "==> online epoch # 3 [batchSize = 1]\t\n"
      ]
     },
     "execution_count": 9,
     "metadata": {},
     "output_type": "execute_result"
    },
    {
     "name": "stdout",
     "output_type": "stream",
     "text": [
      " [=====================================================================================>]                               \b\b\b\b\b\b\b\b\b\b\b\b\b\b\b\b\b\b\b\b\b\b\b\b\b\b\b\b\b\b Tot: 8m57s | Step: 12ms\b\b\b\b\b\b\b\b\b\b\b\b\b\b\b\b\b\b\b\b\b\b\b\b\b\b\b\b\b\b\b\b\b\b\b\b\b\b\b\b\b\b\b\b\b\b\b\b\b\b\b\b\b\b\b\b\b\b\b\b\b\b\b\b\b\b\b\b\b\b\b\b "
     ]
    },
    {
     "data": {
      "text/plain": [
       "\n",
       "==> time to learn 1 sample = 12.825446259408ms\t\n",
       "ConfusionMatrix:\n",
       "[[    4110       0       2       0       1       0      10       0       6       3]   99.468% \t[class: 0]\n",
       " [       0    4651      11       4       4       0       2       9       3       0]   99.295% \t[class: 1]\n",
       " [       3       8    4131       7       3       0       0      15       8       2]   98.899% \t[class: 2]\n",
       " [       4       0      13    4291       0      14       0       9      10      10]   98.621% \t[class: 3]\n",
       " [       2       7       3       0    4022       0       9       3       3      23]   98.772% \t[class: 4]\n",
       " [       5       1       0      14       1    3749      11       0      10       4]   98.788% \t[class: 5]\n",
       " [       8       2       1       1       4       6    4106       0       9       0]   99.251% \t[class: 6]\n",
       " [       1      11      18       2       4       0       0    4345       3      17]   98.728% \t[class: 7]\n",
       " [       5       6      11       7       6      10       5       4    3995      14]   98.326% \t[class: 8]\n",
       " [       9       3       1       6      15       5       0      27      10    4112]]  98.185% \t[class: 9]\n",
       " + average row correct: 98.833263516426% \n",
       " + average rowUcol correct (VOC measure): 97.699339985847% \n",
       " + global correct: 98.838095238095%\n",
       "{\n",
       "  _mat_flat : LongTensor - size: 100\n",
       "  valids : FloatTensor - size: 10\n",
       "  mat : LongTensor - size: 10x10\n",
       "  averageUnionValid : 0.97699339985847\n",
       "  _targ_idx : LongTensor - empty\n",
       "  averageValid : 0.98833263516426\n",
       "  classes : \n",
       "    {\n",
       "      1 : 0\n",
       "      2 : 1\n",
       "      3 : 2\n",
       "      4 : 3\n"
      ]
     },
     "execution_count": 9,
     "metadata": {},
     "output_type": "execute_result"
    },
    {
     "data": {
      "text/plain": [
       "      5 : 4\n",
       "      6 : 5\n",
       "      7 : 6\n",
       "      8 : 7\n",
       "      9 : 8\n",
       "      10 : 9\n",
       "    }\n",
       "  _prediction : FloatTensor - size: 10\n",
       "  _pred_idx : LongTensor - size: 1\n",
       "  nclasses : 10\n",
       "  _max : FloatTensor - size: 1\n",
       "  _target : FloatTensor - empty\n",
       "  unionvalids : FloatTensor - size: 10\n",
       "  totalValid : 0.98838095238095\n",
       "}\n"
      ]
     },
     "execution_count": 9,
     "metadata": {},
     "output_type": "execute_result"
    },
    {
     "data": {
      "text/plain": [
       "==> saving model to /Users/sameh/Downloads/my_work/Kaggle - MNIST Digit Recognizer/itorch_output/model.net\t\n"
      ]
     },
     "execution_count": 9,
     "metadata": {},
     "output_type": "execute_result"
    },
    {
     "data": {
      "text/plain": [
       "==> Training on 42000 samples\t\n",
       "==> doing epoch on training data:\t\n",
       "==> online epoch # 4 [batchSize = 1]\t\n"
      ]
     },
     "execution_count": 9,
     "metadata": {},
     "output_type": "execute_result"
    },
    {
     "name": "stdout",
     "output_type": "stream",
     "text": [
      " [=====================================================================================>]                               \b\b\b\b\b\b\b\b\b\b\b\b\b\b\b\b\b\b\b\b\b\b\b\b\b\b\b\b\b\b Tot: 8m38s | Step: 12ms\b\b\b\b\b\b\b\b\b\b\b\b\b\b\b\b\b\b\b\b\b\b\b\b\b\b\b\b\b\b\b\b\b\b\b\b\b\b\b\b\b\b\b\b\b\b\b\b\b\b\b\b\b\b\b\b\b\b\b\b\b\b\b\b\b\b\b\b\b\b\b\b "
     ]
    },
    {
     "data": {
      "text/plain": [
       "\n",
       "==> time to learn 1 sample = 12.373962305841ms\t\n"
      ]
     },
     "execution_count": 9,
     "metadata": {},
     "output_type": "execute_result"
    },
    {
     "data": {
      "text/plain": [
       "ConfusionMatrix:\n",
       "[[    4116       0       2       0       1       0       7       0       3       3]   99.613% \t[class: 0]\n",
       " [       0    4660       7       3       2       0       2       9       1       0]   99.488% \t[class: 1]\n",
       " [       2       6    4145       5       1       0       0      11       5       2]   99.234% \t[class: 2]\n",
       " [       3       0       8    4307       0      12       0       6       9       6]   98.989% \t[class: 3]\n",
       " [       1       4       2       0    4035       0       7       2       2      19]   99.091% \t[class: 4]\n",
       " [       5       0       0       8       0    3759       9       1       9       4]   99.051% \t[class: 5]\n",
       " [       6       1       2       1       3       7    4109       0       8       0]   99.323% \t[class: 6]\n",
       " [       1       8      15       1       4       1       0    4356       2      13]   98.978% \t[class: 7]\n",
       " [       4       3      11       6       3       7       3       3    4012      11]   98.745% \t[class: 8]\n",
       " [       7       3       1       4      16       4       0      19       9    4125]]  98.496% \t[class: 9]\n",
       " + average row correct: 99.100693464279% \n",
       " + average rowUcol correct (VOC measure): 98.219695091248% \n",
       " + global correct: 99.104761904762%\n",
       "{\n",
       "  _mat_flat : LongTensor - size: 100\n",
       "  valids : FloatTensor - size: 10\n",
       "  mat : LongTensor - size: 10x10\n",
       "  averageUnionValid : 0.98219695091248\n",
       "  _targ_idx : LongTensor - empty\n",
       "  averageValid : 0.99100693464279\n",
       "  classes : \n",
       "    {\n",
       "      1 : 0\n",
       "      2 : 1\n",
       "      3 : 2\n",
       "      4 : 3\n",
       "      5 : 4\n",
       "      6 : 5\n",
       "      7 : 6\n",
       "      8 : 7\n",
       "      9 : 8\n",
       "      10 : 9\n",
       "    }\n",
       "  _prediction : FloatTensor - size: 10\n",
       "  _pred_idx : LongTensor - size: 1\n",
       "  nclasses : 10\n",
       "  _max : FloatTensor - size: 1\n",
       "  _target : FloatTensor - empty\n",
       "  unionvalids : FloatTensor - size: 10\n",
       "  totalValid : 0.99104761904762\n",
       "}\n"
      ]
     },
     "execution_count": 9,
     "metadata": {},
     "output_type": "execute_result"
    },
    {
     "data": {
      "text/plain": [
       "==> saving model to /Users/sameh/Downloads/my_work/Kaggle - MNIST Digit Recognizer/itorch_output/model.net\t\n"
      ]
     },
     "execution_count": 9,
     "metadata": {},
     "output_type": "execute_result"
    },
    {
     "data": {
      "text/plain": [
       "==> Training on 42000 samples\t\n"
      ]
     },
     "execution_count": 9,
     "metadata": {},
     "output_type": "execute_result"
    },
    {
     "data": {
      "text/plain": [
       "==> doing epoch on training data:\t\n",
       "==> online epoch # 5 [batchSize = 1]\t\n"
      ]
     },
     "execution_count": 9,
     "metadata": {},
     "output_type": "execute_result"
    },
    {
     "name": "stdout",
     "output_type": "stream",
     "text": [
      " [=====================================================================================>]                               \b\b\b\b\b\b\b\b\b\b\b\b\b\b\b\b\b\b\b\b\b\b\b\b\b\b\b\b\b\b Tot: 8m4s | Step: 11ms\b\b\b\b\b\b\b\b\b\b\b\b\b\b\b\b\b\b\b\b\b\b\b\b\b\b\b\b\b\b\b\b\b\b\b\b\b\b\b\b\b\b\b\b\b\b\b\b\b\b\b\b\b\b\b\b\b\b\b\b\b\b\b\b\b\b\b\b\b\b\b "
     ]
    },
    {
     "data": {
      "text/plain": [
       "\n",
       "==> time to learn 1 sample = 11.552679737409ms\t\n",
       "ConfusionMatrix:\n",
       "[[    4119       0       2       0       1       1       4       0       4       1]   99.685% \t[class: 0]\n",
       " [       0    4666       5       0       2       0       2       7       1       1]   99.616% \t[class: 1]\n",
       " [       0       3    4150       4       1       0       0      12       5       2]   99.354% \t[class: 2]\n",
       " [       1       0       7    4318       0       9       0       5       7       4]   99.242% \t[class: 3]\n",
       " [       1       4       1       0    4036       0       5       1       3      21]   99.116% \t[class: 4]\n",
       " [       4       0       0      12       0    3761      10       1       4       3]   99.104% \t[class: 5]\n",
       " [       4       2       1       1       2       4    4115       0       8       0]   99.468% \t[class: 6]\n",
       " [       0       9      11       1       2       1       0    4367       2       8]   99.227% \t[class: 7]\n",
       " [       3       2       7       3       2       7       2       1    4025      11]   99.065% \t[class: 8]\n",
       " [       3       2       2       4      11       4       0      17      10    4135]]  98.734% \t[class: 9]\n",
       " + average row correct: 99.261112213135% \n",
       " + average rowUcol correct (VOC measure): 98.538070321083% \n",
       " + global correct: 99.266666666667%\n",
       "{\n",
       "  _mat_flat : LongTensor - size: 100\n",
       "  valids : FloatTensor - size: 10\n",
       "  mat : LongTensor - size: 10x10\n",
       "  averageUnionValid : 0.98538070321083\n",
       "  _targ_idx : LongTensor - empty\n",
       "  averageValid : 0.99261112213135\n",
       "  classes : \n",
       "    {\n",
       "      1 : 0\n",
       "      2 : 1\n",
       "      3 : 2\n",
       "      4 : 3\n",
       "      5 : 4\n",
       "      6 : 5\n",
       "      7 : 6\n",
       "      8 : 7\n",
       "      9 : 8\n",
       "      10 : 9\n",
       "    }\n",
       "  _prediction : FloatTensor - size: 10\n",
       "  _pred_idx : LongTensor - size: 1\n",
       "  nclasses : 10\n",
       "  _max : FloatTensor - size: 1\n",
       "  _target : FloatTensor - empty\n",
       "  unionvalids : FloatTensor - size: 10\n",
       "  totalValid : 0.99266666666667\n",
       "}\n"
      ]
     },
     "execution_count": 9,
     "metadata": {},
     "output_type": "execute_result"
    },
    {
     "data": {
      "text/plain": [
       "==> saving model to /Users/sameh/Downloads/my_work/Kaggle - MNIST Digit Recognizer/itorch_output/model.net\t\n"
      ]
     },
     "execution_count": 9,
     "metadata": {},
     "output_type": "execute_result"
    },
    {
     "data": {
      "text/plain": [
       "==> Training on 42000 samples\t\n"
      ]
     },
     "execution_count": 9,
     "metadata": {},
     "output_type": "execute_result"
    },
    {
     "data": {
      "text/plain": [
       "==> doing epoch on training data:\t\n",
       "==> online epoch # 6 [batchSize = 1]\t\n"
      ]
     },
     "execution_count": 9,
     "metadata": {},
     "output_type": "execute_result"
    },
    {
     "name": "stdout",
     "output_type": "stream",
     "text": [
      " [=====================================================================================>]                               \b\b\b\b\b\b\b\b\b\b\b\b\b\b\b\b\b\b\b\b\b\b\b\b\b\b\b\b\b\b Tot: 8m1s | Step: 11ms\b\b\b\b\b\b\b\b\b\b\b\b\b\b\b\b\b\b\b\b\b\b\b\b\b\b\b\b\b\b\b\b\b\b\b\b\b\b\b\b\b\b\b\b\b\b\b\b\b\b\b\b\b\b\b\b\b\b\b\b\b\b\b\b\b\b\b\b\b\b\b "
     ]
    },
    {
     "data": {
      "text/plain": [
       "\n",
       "==> time to learn 1 sample = 11.479043903805ms\t\n"
      ]
     },
     "execution_count": 9,
     "metadata": {},
     "output_type": "execute_result"
    },
    {
     "data": {
      "text/plain": [
       "ConfusionMatrix:\n",
       "[[    4124       0       1       0       0       0       4       0       2       1]   99.806% \t[class: 0]\n",
       " [       0    4668       5       0       1       0       0       8       1       1]   99.658% \t[class: 1]\n",
       " [       0       5    4153       4       0       0       0      10       3       2]   99.425% \t[class: 2]\n",
       " [       1       0       6    4321       0       9       0       3       6       5]   99.311% \t[class: 3]\n",
       " [       2       1       1       0    4049       0       4       2       1      12]   99.435% \t[class: 4]\n",
       " [       3       0       0       6       0    3773       8       1       4       0]   99.420% \t[class: 5]\n",
       " [       4       2       1       1       1       4    4118       0       6       0]   99.541% \t[class: 6]\n",
       " [       0       7      12       1       2       0       0    4370       1       8]   99.296% \t[class: 7]\n",
       " [       3       3       7       3       3       4       4       1    4026       9]   99.089% \t[class: 8]\n",
       " [       3       1       2       1      13       3       0      13       9    4143]]  98.926% \t[class: 9]\n",
       " + average row correct: 99.39073741436% \n",
       " + average rowUcol correct (VOC measure): 98.790574073792% \n",
       " + global correct: 99.392857142857%\n",
       "{\n",
       "  _mat_flat : LongTensor - size: 100\n",
       "  valids : FloatTensor - size: 10\n",
       "  mat : LongTensor - size: 10x10\n",
       "  averageUnionValid : 0.98790574073792\n",
       "  _targ_idx : LongTensor - empty\n",
       "  averageValid : 0.9939073741436\n",
       "  classes : \n",
       "    {\n",
       "      1 : 0\n",
       "      2 : 1\n",
       "      3 : 2\n",
       "      4 : 3\n",
       "      5 : 4\n",
       "      6 : 5\n",
       "      7 : 6\n",
       "      8 : 7\n",
       "      9 : 8\n",
       "      10 : 9\n",
       "    }\n",
       "  _prediction : FloatTensor - size: 10\n",
       "  _pred_idx : LongTensor - size: 1\n",
       "  nclasses : 10\n",
       "  _max : FloatTensor - size: 1\n",
       "  _target : FloatTensor - empty\n",
       "  unionvalids : FloatTensor - size: 10\n",
       "  totalValid : 0.99392857142857\n",
       "}\n"
      ]
     },
     "execution_count": 9,
     "metadata": {},
     "output_type": "execute_result"
    },
    {
     "data": {
      "text/plain": [
       "==> saving model to /Users/sameh/Downloads/my_work/Kaggle - MNIST Digit Recognizer/itorch_output/model.net\t\n"
      ]
     },
     "execution_count": 9,
     "metadata": {},
     "output_type": "execute_result"
    },
    {
     "data": {
      "text/plain": [
       "==> Training on 42000 samples\t\n"
      ]
     },
     "execution_count": 9,
     "metadata": {},
     "output_type": "execute_result"
    },
    {
     "data": {
      "text/plain": [
       "==> doing epoch on training data:\t\n",
       "==> online epoch # 7 [batchSize = 1]\t\n"
      ]
     },
     "execution_count": 9,
     "metadata": {},
     "output_type": "execute_result"
    },
    {
     "name": "stdout",
     "output_type": "stream",
     "text": [
      " [=====================================================================================>]                               \b\b\b\b\b\b\b\b\b\b\b\b\b\b\b\b\b\b\b\b\b\b\b\b\b\b\b\b\b\b Tot: 7m54s | Step: 11ms\b\b\b\b\b\b\b\b\b\b\b\b\b\b\b\b\b\b\b\b\b\b\b\b\b\b\b\b\b\b\b\b\b\b\b\b\b\b\b\b\b\b\b\b\b\b\b\b\b\b\b\b\b\b\b\b\b\b\b\b\b\b\b\b\b\b\b\b\b\b\b\b "
     ]
    },
    {
     "data": {
      "text/plain": [
       "\n",
       "==> time to learn 1 sample = 11.317926616896ms\t\n",
       "ConfusionMatrix:\n",
       "[[    4126       0       0       0       0       0       3       0       1       2]   99.855% \t[class: 0]\n",
       " [       0    4671       4       0       1       0       2       6       0       0]   99.722% \t[class: 1]\n",
       " [       0       2    4159       1       0       0       0      10       4       1]   99.569% \t[class: 2]\n",
       " [       2       0       6    4324       0       7       0       3       5       4]   99.379% \t[class: 3]\n",
       " [       1       2       0       0    4051       0       5       1       1      11]   99.484% \t[class: 4]\n",
       " [       2       0       0       5       0    3775       7       0       3       3]   99.473% \t[class: 5]\n",
       " [       3       1       1       1       3       4    4120       0       4       0]   99.589% \t[class: 6]\n",
       " [       0       8       8       2       1       1       0    4375       2       4]   99.409% \t[class: 7]\n",
       " [       1       2       5       3       1       3       3       1    4039       5]   99.409% \t[class: 8]\n",
       " [       4       1       0       0       7       3       0      11       7    4155]]  99.212% \t[class: 9]\n",
       " + average row correct: 99.510267972946% \n",
       " + average rowUcol correct (VOC measure): 99.026308059692% \n",
       " + global correct: 99.511904761905%\n",
       "{\n",
       "  _mat_flat : LongTensor - size: 100\n",
       "  valids : FloatTensor - size: 10\n",
       "  mat : LongTensor - size: 10x10\n",
       "  averageUnionValid : 0.99026308059692\n",
       "  _targ_idx : LongTensor - empty\n",
       "  averageValid : 0.99510267972946\n",
       "  classes : \n",
       "    {\n",
       "      1 : 0\n",
       "      2 : 1\n",
       "      3 : 2\n",
       "      4 : 3\n",
       "      5 : 4\n",
       "      6 : 5\n",
       "      7 : 6\n",
       "      8 : 7\n",
       "      9 : 8\n",
       "      10 : 9\n",
       "    }\n",
       "  _prediction : FloatTensor - size: 10\n",
       "  _pred_idx : LongTensor - size: 1\n",
       "  nclasses : 10\n",
       "  _max : FloatTensor - size: 1\n",
       "  _target : FloatTensor - empty\n",
       "  unionvalids : FloatTensor - size: 10\n",
       "  totalValid : 0.99511904761905\n",
       "}\n"
      ]
     },
     "execution_count": 9,
     "metadata": {},
     "output_type": "execute_result"
    },
    {
     "data": {
      "text/plain": [
       "==> saving model to /Users/sameh/Downloads/my_work/Kaggle - MNIST Digit Recognizer/itorch_output/model.net\t\n"
      ]
     },
     "execution_count": 9,
     "metadata": {},
     "output_type": "execute_result"
    },
    {
     "data": {
      "text/plain": [
       "==> Training on 42000 samples\t\n"
      ]
     },
     "execution_count": 9,
     "metadata": {},
     "output_type": "execute_result"
    },
    {
     "data": {
      "text/plain": [
       "==> doing epoch on training data:\t\n",
       "==> online epoch # 8 [batchSize = 1]\t\n"
      ]
     },
     "execution_count": 9,
     "metadata": {},
     "output_type": "execute_result"
    },
    {
     "name": "stdout",
     "output_type": "stream",
     "text": [
      " [=====================================================================================>]                               \b\b\b\b\b\b\b\b\b\b\b\b\b\b\b\b\b\b\b\b\b\b\b\b\b\b\b\b\b\b Tot: 8m523ms | Step: 11ms\b\b\b\b\b\b\b\b\b\b\b\b\b\b\b\b\b\b\b\b\b\b\b\b\b\b\b\b\b\b\b\b\b\b\b\b\b\b\b\b\b\b\b\b\b\b\b\b\b\b\b\b\b\b\b\b\b\b\b\b\b\b\b\b\b\b\b\b\b\b\b\b\b\b "
     ]
    },
    {
     "data": {
      "text/plain": [
       "\n",
       "==> time to learn 1 sample = 11.463129736128ms\t\n",
       "ConfusionMatrix:\n",
       "[[    4126       0       0       0       0       2       2       0       1       1]   99.855% \t[class: 0]\n",
       " [       0    4664       6       0       0       0       2       9       3       0]   99.573% \t[class: 1]\n",
       " [       0       2    4161       2       0       0       0       8       4       0]   99.617% \t[class: 2]\n",
       " [       1       0       6    4327       0       6       0       2       4       5]   99.448% \t[class: 3]\n",
       " [       0       2       0       0    4051       0       3       1       0      15]   99.484% \t[class: 4]\n",
       " [       1       0       0       3       0    3783       5       0       1       2]   99.684% \t[class: 5]\n",
       " [       1       0       1       1       2       1    4126       0       5       0]   99.734% \t[class: 6]\n",
       " [       0       8       7       1       1       0       0    4382       0       2]   99.568% \t[class: 7]\n",
       " [       1       1       2       4       1       3       2       0    4040       9]   99.434% \t[class: 8]\n",
       " [       4       1       0       1      10       4       0       9       7    4152]]  99.140% \t[class: 9]\n",
       " + average row correct: 99.553794264793% \n",
       " + average rowUcol correct (VOC measure): 99.109878540039% \n",
       " + global correct: 99.552380952381%\n",
       "{\n",
       "  _mat_flat : LongTensor - size: 100\n",
       "  valids : FloatTensor - size: 10\n",
       "  mat : LongTensor - size: 10x10\n",
       "  averageUnionValid : 0.99109878540039\n",
       "  _targ_idx : LongTensor - empty\n",
       "  averageValid : 0.99553794264793\n",
       "  classes : \n",
       "    {\n",
       "      1 : 0\n",
       "      2 : 1\n",
       "      3 : 2\n",
       "      4 : 3\n",
       "      5 : 4\n",
       "      6 : 5\n",
       "      7 : 6\n",
       "      8 : 7\n",
       "      9 : 8\n",
       "      10 : 9\n",
       "    }\n",
       "  _prediction : FloatTensor - size: 10\n",
       "  _pred_idx : LongTensor - size: 1\n",
       "  nclasses : 10\n",
       "  _max : FloatTensor - size: 1\n",
       "  _target : FloatTensor - empty\n",
       "  unionvalids : FloatTensor - size: 10\n",
       "  totalValid : 0.99552380952381\n",
       "}\n"
      ]
     },
     "execution_count": 9,
     "metadata": {},
     "output_type": "execute_result"
    },
    {
     "data": {
      "text/plain": [
       "==> saving model to /Users/sameh/Downloads/my_work/Kaggle - MNIST Digit Recognizer/itorch_output/model.net\t\n"
      ]
     },
     "execution_count": 9,
     "metadata": {},
     "output_type": "execute_result"
    },
    {
     "data": {
      "text/plain": [
       "==> Training on 42000 samples\t\n"
      ]
     },
     "execution_count": 9,
     "metadata": {},
     "output_type": "execute_result"
    },
    {
     "data": {
      "text/plain": [
       "==> doing epoch on training data:\t\n",
       "==> online epoch # 9 [batchSize = 1]\t\n"
      ]
     },
     "execution_count": 9,
     "metadata": {},
     "output_type": "execute_result"
    },
    {
     "name": "stdout",
     "output_type": "stream",
     "text": [
      " [=====================================================================================>]                               \b\b\b\b\b\b\b\b\b\b\b\b\b\b\b\b\b\b\b\b\b\b\b\b\b\b\b\b\b\b Tot: 8m8s | Step: 11ms\b\b\b\b\b\b\b\b\b\b\b\b\b\b\b\b\b\b\b\b\b\b\b\b\b\b\b\b\b\b\b\b\b\b\b\b\b\b\b\b\b\b\b\b\b\b\b\b\b\b\b\b\b\b\b\b\b\b\b\b\b\b\b\b\b\b\b\b\b\b\b "
     ]
    },
    {
     "data": {
      "text/plain": [
       "\n",
       "==> time to learn 1 sample = 11.664575502986ms\t\n",
       "ConfusionMatrix:\n",
       "[[    4129       0       0       0       0       0       2       0       1       0]   99.927% \t[class: 0]\n",
       " [       0    4671       4       0       1       0       2       4       0       2]   99.722% \t[class: 1]\n",
       " [       1       2    4164       1       0       0       0       7       2       0]   99.689% \t[class: 2]\n",
       " [       0       0       5    4330       0       6       1       1       5       3]   99.517% \t[class: 3]\n",
       " [       1       1       0       0    4058       0       2       1       1       8]   99.656% \t[class: 4]\n",
       " [       2       0       0       2       0    3783       6       0       1       1]   99.684% \t[class: 5]\n",
       " [       2       0       0       1       2       3    4125       0       4       0]   99.710% \t[class: 6]\n",
       " [       0       7       9       0       2       0       0    4380       1       2]   99.523% \t[class: 7]\n",
       " [       1       2       3       3       0       3       2       0    4043       6]   99.508% \t[class: 8]\n",
       " [       4       2       0       1      10       3       0      10       4    4154]]  99.188% \t[class: 9]\n",
       " + average row correct: 99.612464308739% \n",
       " + average rowUcol correct (VOC measure): 99.226349592209% \n",
       " + global correct: 99.611904761905%\n",
       "{\n",
       "  _mat_flat : LongTensor - size: 100\n",
       "  valids : FloatTensor - size: 10\n",
       "  mat : LongTensor - size: 10x10\n",
       "  averageUnionValid : 0.99226349592209\n",
       "  _targ_idx : LongTensor - empty\n",
       "  averageValid : 0.99612464308739\n",
       "  classes : \n",
       "    {\n",
       "      1 : 0\n",
       "      2 : 1\n",
       "      3 : 2\n",
       "      4 : 3\n",
       "      5 : 4\n",
       "      6 : 5\n",
       "      7 : 6\n",
       "      8 : 7\n",
       "      9 : 8\n",
       "     "
      ]
     },
     "execution_count": 9,
     "metadata": {},
     "output_type": "execute_result"
    },
    {
     "data": {
      "text/plain": [
       " 10 : 9\n",
       "    }\n",
       "  _prediction : FloatTensor - size: 10\n",
       "  _pred_idx : LongTensor - size: 1\n",
       "  nclasses : 10\n",
       "  _max : FloatTensor - size: 1\n",
       "  _target : FloatTensor - empty\n",
       "  unionvalids : FloatTensor - size: 10\n",
       "  totalValid : 0.99611904761905\n",
       "}\n"
      ]
     },
     "execution_count": 9,
     "metadata": {},
     "output_type": "execute_result"
    },
    {
     "data": {
      "text/plain": [
       "==> saving model to /Users/sameh/Downloads/my_work/Kaggle - MNIST Digit Recognizer/itorch_output/model.net\t\n"
      ]
     },
     "execution_count": 9,
     "metadata": {},
     "output_type": "execute_result"
    },
    {
     "data": {
      "text/plain": [
       "==> Training on 42000 samples\t\n"
      ]
     },
     "execution_count": 9,
     "metadata": {},
     "output_type": "execute_result"
    },
    {
     "data": {
      "text/plain": [
       "==> doing epoch on training data:\t\n",
       "==> online epoch # 10 [batchSize = 1]\t\n"
      ]
     },
     "execution_count": 9,
     "metadata": {},
     "output_type": "execute_result"
    },
    {
     "name": "stdout",
     "output_type": "stream",
     "text": [
      " [=====================================================================================>]                               \b\b\b\b\b\b\b\b\b\b\b\b\b\b\b\b\b\b\b\b\b\b\b\b\b\b\b\b\b\b Tot: 7m58s | Step: 11ms\b\b\b\b\b\b\b\b\b\b\b\b\b\b\b\b\b\b\b\b\b\b\b\b\b\b\b\b\b\b\b\b\b\b\b\b\b\b\b\b\b\b\b\b\b\b\b\b\b\b\b\b\b\b\b\b\b\b\b\b\b\b\b\b\b\b\b\b\b\b\b\b "
     ]
    },
    {
     "data": {
      "text/plain": [
       "\n",
       "==> time to learn 1 sample = 11.417314597539ms\t\n"
      ]
     },
     "execution_count": 9,
     "metadata": {},
     "output_type": "execute_result"
    },
    {
     "data": {
      "text/plain": [
       "ConfusionMatrix:\n",
       "[[    4130       0       0       0       0       0       1       0       1       0]   99.952% \t[class: 0]\n",
       " [       0    4675       1       0       1       0       1       6       0       0]   99.808% \t[class: 1]\n",
       " [       0       1    4168       1       0       0       0       6       1       0]   99.785% \t[class: 2]\n",
       " [       0       0       2    4336       0       4       0       4       2       3]   99.655% \t[class: 3]\n",
       " [       1       1       0       0    4059       0       1       1       0       9]   99.681% \t[class: 4]\n",
       " [       0       0       0       3       0    3788       4       0       0       0]   99.816% \t[class: 5]\n",
       " [       3       0       1       1       2       2    4126       0       2       0]   99.734% \t[class: 6]\n",
       " [       0       5       6       1       1       0       0    4386       0       2]   99.659% \t[class: 7]\n",
       " [       0       2       2       3       1       2       1       0    4048       4]   99.631% \t[class: 8]\n",
       " [       1       0       0       0       6       2       0       7       4    4168]]  99.522% \t[class: 9]\n",
       " + average row correct: 99.724207520485% \n",
       " + average rowUcol correct (VOC measure): 99.450388550758% \n",
       " + global correct: 99.72380952381%\n",
       "{\n",
       "  _mat_flat : LongTensor - size: 100\n",
       "  valids : FloatTensor - size: 10\n",
       "  mat : LongTensor - size: 10x10\n",
       "  averageUnionValid : 0.99450388550758\n",
       "  _targ_idx : LongTensor - empty\n",
       "  averageValid : 0.99724207520485\n",
       "  classes : \n",
       "    {\n",
       "      1 : 0\n",
       "      2 : 1\n",
       "      3 : 2\n",
       "      4 : 3\n",
       "      5 : 4\n",
       "      6 : 5\n",
       "      7 : 6\n",
       "      8 : 7\n",
       "      9 : 8\n",
       "      10 : 9\n",
       "    }\n",
       "  _prediction : FloatTensor - size: 10\n",
       "  _pred_idx : LongTensor - size: 1\n",
       "  nclasses : 10\n",
       "  _max : FloatTensor - size: 1\n",
       "  _target : FloatTensor - empty\n",
       "  unionvalids : FloatTensor - size: 10\n",
       "  totalValid : 0.9972380952381\n",
       "}\n"
      ]
     },
     "execution_count": 9,
     "metadata": {},
     "output_type": "execute_result"
    },
    {
     "data": {
      "text/plain": [
       "==> saving model to /Users/sameh/Downloads/my_work/Kaggle - MNIST Digit Recognizer/itorch_output/model.net\t\n"
      ]
     },
     "execution_count": 9,
     "metadata": {},
     "output_type": "execute_result"
    },
    {
     "data": {
      "text/plain": [
       "==> Training on 42000 samples\t\n"
      ]
     },
     "execution_count": 9,
     "metadata": {},
     "output_type": "execute_result"
    },
    {
     "data": {
      "text/plain": [
       "==> doing epoch on training data:\t\n",
       "==> online epoch # 11 [batchSize = 1]\t\n"
      ]
     },
     "execution_count": 9,
     "metadata": {},
     "output_type": "execute_result"
    },
    {
     "name": "stdout",
     "output_type": "stream",
     "text": [
      " [=====================================================================================>]                               \b\b\b\b\b\b\b\b\b\b\b\b\b\b\b\b\b\b\b\b\b\b\b\b\b\b\b\b\b\b Tot: 8m2s | Step: 11ms\b\b\b\b\b\b\b\b\b\b\b\b\b\b\b\b\b\b\b\b\b\b\b\b\b\b\b\b\b\b\b\b\b\b\b\b\b\b\b\b\b\b\b\b\b\b\b\b\b\b\b\b\b\b\b\b\b\b\b\b\b\b\b\b\b\b\b\b\b\b\b "
     ]
    },
    {
     "data": {
      "text/plain": [
       "\n",
       "==> time to learn 1 sample = 11.511606574059ms\t\n",
       "ConfusionMatrix:\n",
       "[[    4128       0       1       0       0       0       1       0       1       1]   99.903% \t[class: 0]\n",
       " [       0    4675       2       0       1       0       0       6       0       0]   99.808% \t[class: 1]\n",
       " [       0       0    4166       2       0       0       0       6       3       0]   99.737% \t[class: 2]\n",
       " [       0       0       3    4339       0       3       0       1       2       3]   99.724% \t[class: 3]\n",
       " [       1       1       0       0    4058       0       2       1       0       9]   99.656% \t[class: 4]\n",
       " [       0       0       0       2       0    3787       5       0       1       0]   99.789% \t[class: 5]\n",
       " [       1       0       0       1       2       3    4129       0       1       0]   99.807% \t[class: 6]\n",
       " [       0       7       7       0       1       1       0    4383       0       2]   99.591% \t[class: 7]\n",
       " [       0       1       1       2       0       1       1       0    4052       5]   99.729% \t[class: 8]\n",
       " [       3       0       0       0       8       2       0       7       4    4164]]  99.427% \t[class: 9]\n",
       " + average row correct: 99.717112183571% \n",
       " + average rowUcol correct (VOC measure): 99.435468316078% \n",
       " + global correct: 99.716666666667%\n",
       "{\n",
       "  _mat_flat : LongTensor - size: 100\n",
       "  valids : FloatTensor - size: 10\n",
       "  mat : LongTensor - size: 10x10\n"
      ]
     },
     "execution_count": 9,
     "metadata": {},
     "output_type": "execute_result"
    },
    {
     "data": {
      "text/plain": [
       "  averageUnionValid : 0.99435468316078\n",
       "  _targ_idx : LongTensor - empty\n",
       "  averageValid : 0.99717112183571\n",
       "  classes : \n",
       "    {\n",
       "      1 : 0\n",
       "      2 : 1\n",
       "      3 : 2\n",
       "      4 : 3\n",
       "      5 : 4\n",
       "      6 : 5\n",
       "      7 : 6\n",
       "      8 : 7\n",
       "      9 : 8\n",
       "      10 : 9\n",
       "    }\n",
       "  _prediction : FloatTensor - size: 10\n",
       "  _pred_idx : LongTensor - size: 1\n",
       "  nclasses : 10\n",
       "  _max : FloatTensor - size: 1\n",
       "  _target : FloatTensor - empty\n",
       "  unionvalids : FloatTensor - size: 10\n",
       "  totalValid : 0.99716666666667\n",
       "}\n"
      ]
     },
     "execution_count": 9,
     "metadata": {},
     "output_type": "execute_result"
    },
    {
     "data": {
      "text/plain": [
       "==> saving model to /Users/sameh/Downloads/my_work/Kaggle - MNIST Digit Recognizer/itorch_output/model.net\t\n"
      ]
     },
     "execution_count": 9,
     "metadata": {},
     "output_type": "execute_result"
    },
    {
     "data": {
      "text/plain": [
       "==> Training on 42000 samples\t\n"
      ]
     },
     "execution_count": 9,
     "metadata": {},
     "output_type": "execute_result"
    },
    {
     "data": {
      "text/plain": [
       "==> doing epoch on training data:\t\n",
       "==> online epoch # 12 [batchSize = 1]\t\n"
      ]
     },
     "execution_count": 9,
     "metadata": {},
     "output_type": "execute_result"
    },
    {
     "name": "stdout",
     "output_type": "stream",
     "text": [
      " [=====================================================================================>]                               \b\b\b\b\b\b\b\b\b\b\b\b\b\b\b\b\b\b\b\b\b\b\b\b\b\b\b\b\b\b Tot: 8m3s | Step: 12ms\b\b\b\b\b\b\b\b\b\b\b\b\b\b\b\b\b\b\b\b\b\b\b\b\b\b\b\b\b\b\b\b\b\b\b\b\b\b\b\b\b\b\b\b\b\b\b\b\b\b\b\b\b\b\b\b\b\b\b\b\b\b\b\b\b\b\b\b\b\b\b "
     ]
    },
    {
     "data": {
      "text/plain": [
       "\n",
       "==> time to learn 1 sample = 11.540856264886ms\t\n",
       "ConfusionMatrix:\n",
       "[[    4129       0       0       0       0       0       2       0       1       0]   99.927% \t[class: 0]\n",
       " [       0    4677       1       0       0       0       0       6       0       0]   99.851% \t[class: 1]\n",
       " [       0       0    4170       0       0       0       0       4       3       0]   99.832% \t[class: 2]\n",
       " [       0       0       2    4342       0       1       0       1       2       3]   99.793% \t[class: 3]\n",
       " [       0       1       0       0    4058       0       2       1       0      10]   99.656% \t[class: 4]\n",
       " [       0       0       0       1       0    3791       3       0       0       0]   99.895% \t[class: 5]\n",
       " [       2       0       1       1       1       3    4127       0       2       0]   99.758% \t[class: 6]\n",
       " [       0       5       3       0       1       0       0    4391       0       1]   99.773% \t[class: 7]\n",
       " [       0       1       1       2       0       2       1       0    4053       3]   99.754% \t[class: 8]\n",
       " [       1       1       0       0       6       2       0       5       3    4170]]  99.570% \t[class: 9]\n",
       " + average row correct: 99.780943989754% \n",
       " + average rowUcol correct (VOC measure): 99.563032388687% \n",
       " + global correct: 99.780952380952%\n",
       "{\n"
      ]
     },
     "execution_count": 9,
     "metadata": {},
     "output_type": "execute_result"
    },
    {
     "data": {
      "text/plain": [
       "  _mat_flat : LongTensor - size: 100\n",
       "  valids : FloatTensor - size: 10\n",
       "  mat : LongTensor - size: 10x10\n",
       "  averageUnionValid : 0.99563032388687\n",
       "  _targ_idx : LongTensor - empty\n",
       "  averageValid : 0.99780943989754\n",
       "  classes : \n",
       "    {\n",
       "      1 : 0\n",
       "      2 : 1\n",
       "      3 : 2\n",
       "      4 : 3\n",
       "      5 : 4\n",
       "      6 : 5\n",
       "      7 : 6\n",
       "      8 : 7\n",
       "      9 : 8\n",
       "      10 : 9\n",
       "    }\n",
       "  _prediction : FloatTensor - size: 10\n",
       "  _pred_idx : LongTensor - size: 1\n",
       "  nclasses : 10\n",
       "  _max : FloatTensor - size: 1\n",
       "  _target : FloatTensor - empty\n",
       "  unionvalids : FloatTensor - size: 10\n",
       "  totalValid : 0.99780952380952\n",
       "}\n"
      ]
     },
     "execution_count": 9,
     "metadata": {},
     "output_type": "execute_result"
    },
    {
     "data": {
      "text/plain": [
       "==> saving model to /Users/sameh/Downloads/my_work/Kaggle - MNIST Digit Recognizer/itorch_output/model.net\t\n"
      ]
     },
     "execution_count": 9,
     "metadata": {},
     "output_type": "execute_result"
    },
    {
     "data": {
      "text/plain": [
       "==> Training on 42000 samples\t\n"
      ]
     },
     "execution_count": 9,
     "metadata": {},
     "output_type": "execute_result"
    },
    {
     "data": {
      "text/plain": [
       "==> doing epoch on training data:\t\n",
       "==> online epoch # 13 [batchSize = 1]\t\n"
      ]
     },
     "execution_count": 9,
     "metadata": {},
     "output_type": "execute_result"
    },
    {
     "name": "stdout",
     "output_type": "stream",
     "text": [
      " [=====================================================================================>]                               \b\b\b\b\b\b\b\b\b\b\b\b\b\b\b\b\b\b\b\b\b\b\b\b\b\b\b\b\b\b Tot: 8m10s | Step: 11ms\b\b\b\b\b\b\b\b\b\b\b\b\b\b\b\b\b\b\b\b\b\b\b\b\b\b\b\b\b\b\b\b\b\b\b\b\b\b\b\b\b\b\b\b\b\b\b\b\b\b\b\b\b\b\b\b\b\b\b\b\b\b\b\b\b\b\b\b\b\b\b\b "
     ]
    },
    {
     "data": {
      "text/plain": [
       "\n",
       "==> time to learn 1 sample = 11.705866546858ms\t\n",
       "ConfusionMatrix:\n",
       "[[    4131       0       0       0       0       0       1       0       0       0]   99.976% \t[class: 0]\n",
       " [       0    4675       2       0       1       0       1       5       0       0]   99.808% \t[class: 1]\n",
       " [       0       0    4174       0       0       0       0       2       1       0]   99.928% \t[class: 2]\n",
       " [       0       0       2    4343       0       1       0       1       1       3]   99.816% \t[class: 3]\n",
       " [       1       1       0       0    4060       0       2       1       0       7]   99.705% \t[class: 4]\n",
       " [       0       0       0       1       0    3792       2       0       0       0]   99.921% \t[class: 5]\n",
       " [       1       0       0       1       2       2    4129       0       2       0]   99.807% \t[class: 6]\n",
       " [       0       4       4       0       1       0       0    4392       0       0]   99.796% \t[class: 7]\n",
       " [       0       1       1       2       0       1       1       0    4054       3]   99.778% \t[class: 8]\n",
       " [       1       0       0       0       6       1       0       5       1    4174]]  99.666% \t[class: 9]\n",
       " + average row correct: 99.820054769516% \n",
       " + average rowUcol correct (VOC measure): 99.640197753906% \n",
       " + global correct: 99.819047619048%\n",
       "{\n",
       "  _mat_flat : LongTensor - size: 100\n",
       "  valids : FloatTensor - size: 10\n",
       "  mat : LongTensor - size: 10x10\n",
       "  averageUnionValid : 0.99640197753906\n",
       "  _targ_idx : LongTensor - empty\n",
       "  averageValid : 0.99820054769516\n",
       "  classes : \n",
       "    {\n",
       "      1 : 0\n",
       "      2 : 1\n",
       "      3 : 2\n",
       "      4 : 3\n",
       "      5 : 4\n",
       "      6 : 5\n",
       "      7 : 6\n",
       "      8 : 7\n",
       "      9 : 8\n",
       "      10 : 9\n",
       "    }\n",
       "  _prediction : FloatTensor - size: 10\n",
       "  _pred_idx : LongTensor - size: 1\n",
       "  nclasses : 10\n",
       "  _max : FloatTensor - size: 1\n",
       "  _target : FloatTensor - empty\n",
       "  unionvalids : FloatTensor - size: 10\n",
       "  totalValid : 0.99819047619048\n",
       "}\n"
      ]
     },
     "execution_count": 9,
     "metadata": {},
     "output_type": "execute_result"
    },
    {
     "data": {
      "text/plain": [
       "==> saving model to /Users/sameh/Downloads/my_work/Kaggle - MNIST Digit Recognizer/itorch_output/model.net\t\n"
      ]
     },
     "execution_count": 9,
     "metadata": {},
     "output_type": "execute_result"
    },
    {
     "data": {
      "text/plain": [
       "==> Training on 42000 samples\t\n"
      ]
     },
     "execution_count": 9,
     "metadata": {},
     "output_type": "execute_result"
    },
    {
     "data": {
      "text/plain": [
       "==> doing epoch on training data:\t\n",
       "==> online epoch # 14 [batchSize = 1]\t\n"
      ]
     },
     "execution_count": 9,
     "metadata": {},
     "output_type": "execute_result"
    },
    {
     "name": "stdout",
     "output_type": "stream",
     "text": [
      " [=====================================================================================>]                               \b\b\b\b\b\b\b\b\b\b\b\b\b\b\b\b\b\b\b\b\b\b\b\b\b\b\b\b\b\b Tot: 8m31s | Step: 11ms\b\b\b\b\b\b\b\b\b\b\b\b\b\b\b\b\b\b\b\b\b\b\b\b\b\b\b\b\b\b\b\b\b\b\b\b\b\b\b\b\b\b\b\b\b\b\b\b\b\b\b\b\b\b\b\b\b\b\b\b\b\b\b\b\b\b\b\b\b\b\b\b "
     ]
    },
    {
     "data": {
      "text/plain": [
       "\n",
       "==> time to learn 1 sample = 12.188863453411ms\t\n"
      ]
     },
     "execution_count": 9,
     "metadata": {},
     "output_type": "execute_result"
    },
    {
     "data": {
      "text/plain": [
       "ConfusionMatrix:\n",
       "[[    4129       0       0       0       0       1       1       0       1       0]   99.927% \t[class: 0]\n",
       " [       0    4679       0       0       1       0       0       4       0       0]   99.893% \t[class: 1]\n",
       " [       0       0    4172       0       0       0       0       4       1       0]   99.880% \t[class: 2]\n",
       " [       0       0       3    4341       0       2       0       1       2       2]   99.770% \t[class: 3]\n",
       " [       0       1       0       0    4061       0       2       1       0       7]   99.730% \t[class: 4]\n",
       " [       0       0       0       1       0    3791       3       0       0       0]   99.895% \t[class: 5]\n",
       " [       1       0       0       1       2       0    4132       0       1       0]   99.879% \t[class: 6]\n",
       " [       0       4       2       1       0       0       0    4394       0       0]   99.841% \t[class: 7]\n",
       " [       1       1       1       0       0       0       1       0    4056       3]   99.828% \t[class: 8]\n",
       " [       2       0       0       0       5       1       0       4       2    4174]]  99.666% \t[class: 9]\n",
       " + average row correct: 99.83090877533% \n",
       " + average rowUcol correct (VOC measure): 99.66301381588% \n",
       " + global correct: 99.830952380952%\n",
       "{\n",
       "  _mat_flat : LongTensor - size: 100\n",
       "  valids : FloatTensor - size: 10\n",
       "  mat : LongTensor - size: 10x10\n",
       "  averageUnionValid : 0.9966301381588\n",
       "  _targ_idx : LongTensor - empty\n",
       "  averageValid : 0.9983090877533\n",
       "  classes : \n",
       "    {\n",
       "      1 : 0\n",
       "      2 : 1\n",
       "      3 : 2\n",
       "      4 : 3\n",
       "      5 : 4\n",
       "      6 : 5\n",
       "      7 : 6\n",
       "      8 : 7\n",
       "      9 : 8\n",
       "      10 : 9\n",
       "    }\n",
       "  _prediction : FloatTensor - size: 10\n",
       "  _pred_idx : LongTensor - size: 1\n",
       "  nclasses : 10\n",
       "  _max : FloatTensor - size: 1\n",
       "  _target : FloatTensor - empty\n",
       "  unionvalids : FloatTensor - size: 10\n",
       "  totalValid : 0.99830952380952\n",
       "}\n"
      ]
     },
     "execution_count": 9,
     "metadata": {},
     "output_type": "execute_result"
    },
    {
     "data": {
      "text/plain": [
       "==> saving model to /Users/sameh/Downloads/my_work/Kaggle - MNIST Digit Recognizer/itorch_output/model.net\t\n"
      ]
     },
     "execution_count": 9,
     "metadata": {},
     "output_type": "execute_result"
    },
    {
     "data": {
      "text/plain": [
       "==> Training on 42000 samples\t\n"
      ]
     },
     "execution_count": 9,
     "metadata": {},
     "output_type": "execute_result"
    },
    {
     "data": {
      "text/plain": [
       "==> doing epoch on training data:\t\n",
       "==> online epoch # 15 [batchSize = 1]\t\n"
      ]
     },
     "execution_count": 9,
     "metadata": {},
     "output_type": "execute_result"
    },
    {
     "name": "stdout",
     "output_type": "stream",
     "text": [
      " [=====================================================================================>]                               \b\b\b\b\b\b\b\b\b\b\b\b\b\b\b\b\b\b\b\b\b\b\b\b\b\b\b\b\b\b Tot: 8m9s | Step: 11ms\b\b\b\b\b\b\b\b\b\b\b\b\b\b\b\b\b\b\b\b\b\b\b\b\b\b\b\b\b\b\b\b\b\b\b\b\b\b\b\b\b\b\b\b\b\b\b\b\b\b\b\b\b\b\b\b\b\b\b\b\b\b\b\b\b\b\b\b\b\b\b "
     ]
    },
    {
     "data": {
      "text/plain": [
       "\n",
       "==> time to learn 1 sample = 11.667346500215ms\t\n"
      ]
     },
     "execution_count": 9,
     "metadata": {},
     "output_type": "execute_result"
    },
    {
     "data": {
      "text/plain": [
       "ConfusionMatrix:\n",
       "[[    4131       0       0       0       0       0       0       0       1       0]   99.976% \t[class: 0]\n",
       " [       0    4677       0       0       0       0       1       6       0       0]   99.851% \t[class: 1]\n",
       " [       0       0    4173       0       0       0       0       3       1       0]   99.904% \t[class: 2]\n",
       " [       0       0       1    4345       0       2       0       1       1       1]   99.862% \t[class: 3]\n",
       " [       0       1       0       0    4059       0       2       1       0       9]   99.681% \t[class: 4]\n",
       " [       0       0       0       2       0    3792       1       0       0       0]   99.921% \t[class: 5]\n",
       " [       1       0       0       1       1       0    4132       0       2       0]   99.879% \t[class: 6]\n",
       " [       0       6       2       0       0       0       0    4393       0       0]   99.818% \t[class: 7]\n",
       " [       0       0       1       1       0       1       1       0    4057       2]   99.852% \t[class: 8]\n",
       " [       1       1       0       0       7       0       0       3       1    4175]]  99.690% \t[class: 9]\n",
       " + average row correct: 99.843366146088% \n",
       " + average rowUcol correct (VOC measure): 99.688421487808% \n",
       " + global correct: 99.842857142857%\n",
       "{\n",
       "  _mat_flat : LongTensor - size: 100\n",
       "  valids : FloatTensor - size: 10\n",
       "  mat : LongTensor - size: 10x10\n",
       "  averageUnionValid : 0.99688421487808\n",
       "  _targ_idx : LongTensor - empty\n",
       "  averageValid : 0.99843366146088\n",
       "  classes : \n",
       "    {\n",
       "      1 : 0\n",
       "      2 : 1\n",
       "      3 : 2\n",
       "      4 : 3\n",
       "      5 : 4\n",
       "      6 : 5\n",
       "      7 : 6\n",
       "      8 : 7\n",
       "      9 : 8\n",
       "      10 : 9\n",
       "    }\n",
       "  _prediction : FloatTensor - size: 10\n",
       "  _pred_idx : LongTensor - size: 1\n",
       "  nclasses : 10\n",
       "  _max : FloatTensor - size: 1\n",
       "  _target : FloatTensor - empty\n",
       "  unionvalids : FloatTensor - size: 10\n",
       "  totalValid : 0.99842857142857\n",
       "}\n"
      ]
     },
     "execution_count": 9,
     "metadata": {},
     "output_type": "execute_result"
    },
    {
     "data": {
      "text/plain": [
       "==> saving model to /Users/sameh/Downloads/my_work/Kaggle - MNIST Digit Recognizer/itorch_output/model.net\t\n"
      ]
     },
     "execution_count": 9,
     "metadata": {},
     "output_type": "execute_result"
    },
    {
     "data": {
      "text/plain": [
       "==> Training on 42000 samples\t\n",
       "==> doing epoch on training data:\t\n",
       "==> online epoch # 16 [batchSize = 1]\t\n"
      ]
     },
     "execution_count": 9,
     "metadata": {},
     "output_type": "execute_result"
    },
    {
     "name": "stdout",
     "output_type": "stream",
     "text": [
      " [=====================================================================================>]                               \b\b\b\b\b\b\b\b\b\b\b\b\b\b\b\b\b\b\b\b\b\b\b\b\b\b\b\b\b\b Tot: 8m17s | Step: 11ms\b\b\b\b\b\b\b\b\b\b\b\b\b\b\b\b\b\b\b\b\b\b\b\b\b\b\b\b\b\b\b\b\b\b\b\b\b\b\b\b\b\b\b\b\b\b\b\b\b\b\b\b\b\b\b\b\b\b\b\b\b\b\b\b\b\b\b\b\b\b\b\b "
     ]
    },
    {
     "data": {
      "text/plain": [
       "\n",
       "==> time to learn 1 sample = 11.873829024179ms\t\n",
       "ConfusionMatrix:\n",
       "[[    4131       0       0       0       0       0       0       0       1       0]   99.976% \t[class: 0]\n",
       " [       0    4678       1       0       0       0       0       5       0       0]   99.872% \t[class: 1]\n",
       " [       0       0    4174       0       0       0       0       2       1       0]   99.928% \t[class: 2]\n",
       " [       0       0       2    4347       0       1       0       0       0       1]   99.908% \t[class: 3]\n",
       " [       0       1       0       0    4063       0       1       1       0       6]   99.779% \t[class: 4]\n",
       " [       0       0       0       0       0    3794       1       0       0       0]   99.974% \t[class: 5]\n",
       " [       1       0       0       0       2       0    4134       0       0       0]   99.927% \t[class: 6]\n",
       " [       0       3       3       0       0       0       0    4394       0       1]   99.841% \t[class: 7]\n",
       " [       0       1       0       1       0       0       1       0    4058       2]   99.877% \t[class: 8]\n",
       " [       1       0       0       0       5       0       0       3       0    4179]]  99.785% \t[class: 9]\n",
       " + average row correct: 99.886704683304% \n",
       " + average rowUcol correct (VOC measure): 99.774015545845% \n",
       " + global correct: 99.885714285714%\n",
       "{\n"
      ]
     },
     "execution_count": 9,
     "metadata": {},
     "output_type": "execute_result"
    },
    {
     "data": {
      "text/plain": [
       "  _mat_flat : LongTensor - size: 100\n",
       "  valids : FloatTensor - size: 10\n",
       "  mat : LongTensor - size: 10x10\n",
       "  averageUnionValid : 0.99774015545845\n",
       "  _targ_idx : LongTensor - empty\n",
       "  averageValid : 0.99886704683304\n",
       "  classes : \n",
       "    {\n",
       "      1 : 0\n",
       "      2 : 1\n",
       "      3 : 2\n",
       "      4 : 3\n",
       "      5 : 4\n",
       "      6 : 5\n",
       "      7 : 6\n",
       "      8 : 7\n",
       "      9 : 8\n",
       "      10 : 9\n",
       "    }\n",
       "  _prediction : FloatTensor - size: 10\n",
       "  _pred_idx : LongTensor - size: 1\n",
       "  nclasses : 10\n",
       "  _max : FloatTensor - size: 1\n",
       "  _target : FloatTensor - empty\n",
       "  unionvalids : FloatTensor - size: 10\n",
       "  totalValid : 0.99885714285714\n",
       "}\n"
      ]
     },
     "execution_count": 9,
     "metadata": {},
     "output_type": "execute_result"
    },
    {
     "data": {
      "text/plain": [
       "==> saving model to /Users/sameh/Downloads/my_work/Kaggle - MNIST Digit Recognizer/itorch_output/model.net\t\n"
      ]
     },
     "execution_count": 9,
     "metadata": {},
     "output_type": "execute_result"
    },
    {
     "data": {
      "text/plain": [
       "==> Training on 42000 samples\t\n"
      ]
     },
     "execution_count": 9,
     "metadata": {},
     "output_type": "execute_result"
    },
    {
     "data": {
      "text/plain": [
       "==> doing epoch on training data:\t\n",
       "==> online epoch # 17 [batchSize = 1]\t\n"
      ]
     },
     "execution_count": 9,
     "metadata": {},
     "output_type": "execute_result"
    },
    {
     "name": "stdout",
     "output_type": "stream",
     "text": [
      " [=====================================================================================>]                               \b\b\b\b\b\b\b\b\b\b\b\b\b\b\b\b\b\b\b\b\b\b\b\b\b\b\b\b\b\b Tot: 8m1s | Step: 11ms\b\b\b\b\b\b\b\b\b\b\b\b\b\b\b\b\b\b\b\b\b\b\b\b\b\b\b\b\b\b\b\b\b\b\b\b\b\b\b\b\b\b\b\b\b\b\b\b\b\b\b\b\b\b\b\b\b\b\b\b\b\b\b\b\b\b\b\b\b\b\b "
     ]
    },
    {
     "data": {
      "text/plain": [
       "\n",
       "==> time to learn 1 sample = 11.486724092847ms\t\n",
       "ConfusionMatrix:\n",
       "[[    4131       0       0       0       0       0       0       0       1       0]   99.976% \t[class: 0]\n",
       " [       0    4679       0       0       0       0       1       4       0       0]   99.893% \t[class: 1]\n",
       " [       0       0    4176       0       0       0       0       1       0       0]   99.976% \t[class: 2]\n",
       " [       0       0       0    4348       0       2       0       0       0       1]   99.931% \t[class: 3]\n",
       " [       0       1       0       0    4060       0       1       1       0       9]   99.705% \t[class: 4]\n",
       " [       0       0       0       1       0    3793       1       0       0       0]   99.947% \t[class: 5]\n",
       " [       1       0       0       0       2       0    4132       0       2       0]   99.879% \t[class: 6]\n",
       " [       0       5       2       0       0       0       0    4392       0       2]   99.796% \t[class: 7]\n",
       " [       0       0       1       0       0       0       1       0    4058       3]   99.877% \t[class: 8]\n",
       " [       1       0       0       0       6       0       0       2       0    4179]]  99.785% \t[class: 9]\n",
       " + average row correct: 99.876544475555% \n",
       " + average rowUcol correct (VOC measure): 99.753905534744% \n",
       " + global correct: 99.87619047619%\n",
       "{\n",
       "  _mat_flat : LongTensor - size: 100\n",
       "  valids : FloatTensor - size: 10\n",
       "  mat : LongTensor - size: 10x10\n",
       "  averageUnionValid : 0.99753905534744\n",
       "  _targ_idx : LongTensor - empty\n",
       "  averageValid : 0.99876544475555\n",
       "  classes : \n",
       "    {\n",
       "      1 : 0\n",
       "      2 : 1\n",
       "      3 : 2\n",
       "      4 : 3\n",
       "      5 : 4\n",
       "      6 : 5\n",
       "      7 : 6\n",
       "      8 : 7\n",
       "      9 : 8\n",
       "      10 : 9\n",
       "    }\n",
       "  _prediction : FloatTensor - size: 10\n",
       "  _pred_idx : LongTensor - size: 1\n",
       "  nclasses : 10\n",
       "  _max : FloatTensor - size: 1\n",
       "  _target : FloatTensor - empty\n",
       "  unionvalids : FloatTensor - size: 10\n",
       "  totalValid : 0.9987619047619\n",
       "}\n"
      ]
     },
     "execution_count": 9,
     "metadata": {},
     "output_type": "execute_result"
    },
    {
     "data": {
      "text/plain": [
       "==> saving model to /Users/sameh/Downloads/my_work/Kaggle - MNIST Digit Recognizer/itorch_output/model.net\t\n"
      ]
     },
     "execution_count": 9,
     "metadata": {},
     "output_type": "execute_result"
    },
    {
     "data": {
      "text/plain": [
       "==> Training on 42000 samples\t\n",
       "==> doing epoch on training data:\t\n",
       "==> online epoch # 18 [batchSize = 1]\t\n"
      ]
     },
     "execution_count": 9,
     "metadata": {},
     "output_type": "execute_result"
    },
    {
     "name": "stdout",
     "output_type": "stream",
     "text": [
      " [=====================================================================================>]                               \b\b\b\b\b\b\b\b\b\b\b\b\b\b\b\b\b\b\b\b\b\b\b\b\b\b\b\b\b\b Tot: 7m51s | Step: 11ms\b\b\b\b\b\b\b\b\b\b\b\b\b\b\b\b\b\b\b\b\b\b\b\b\b\b\b\b\b\b\b\b\b\b\b\b\b\b\b\b\b\b\b\b\b\b\b\b\b\b\b\b\b\b\b\b\b\b\b\b\b\b\b\b\b\b\b\b\b\b\b\b "
     ]
    },
    {
     "data": {
      "text/plain": [
       "\n",
       "==> time to learn 1 sample = 11.251969814301ms\t\n",
       "ConfusionMatrix:\n",
       "[[    4132       0       0       0       0       0       0       0       0       0]   100.000% \t[class: 0]\n",
       " [       0    4680       0       0       0       0       0       4       0       0]   99.915% \t[class: 1]\n",
       " [       0       0    4176       0       0       0       0       1       0       0]   99.976% \t[class: 2]\n",
       " [       0       0       0    4349       0       1       0       0       0       1]   99.954% \t[class: 3]\n",
       " [       0       1       0       0    4062       0       1       1       0       7]   99.754% \t[class: 4]\n",
       " [       0       0       0       0       0    3795       0       0       0       0]   100.000% \t[class: 5]\n",
       " [       1       0       0       0       2       0    4134       0       0       0]   99.927% \t[class: 6]\n",
       " [       0       2       1       0       0       0       0    4398       0       0]   99.932% \t[class: 7]\n",
       " [       0       0       1       1       0       1       1       0    4057       2]   99.852% \t[class: 8]\n",
       " [       1       0       0       0       7       0       0       1       1    4178]]  99.761% \t[class: 9]\n",
       " + average row correct: 99.907198548317% \n",
       " + average rowUcol correct (VOC measure): 99.814697504044% \n",
       " + global correct: 99.907142857143%\n",
       "{\n",
       "  _mat_flat : LongTensor - size: 100\n",
       "  valids : FloatTensor - size: 10\n",
       "  mat : LongTensor - size: 10x10\n",
       "  averageUnionValid : 0.99814697504044\n",
       "  _targ_idx : LongTensor - empty\n",
       "  averageValid : 0.99907198548317\n",
       "  classes : \n",
       "    {\n",
       "      1 : 0\n",
       "      2 : 1\n",
       "      3 : 2\n",
       "      4 : 3\n",
       "      5 : 4\n",
       "      6 : 5\n",
       "      7 : 6\n",
       "      8 : 7\n",
       "      9 : 8\n",
       "      10 : 9\n",
       "    }\n",
       "  _prediction : FloatTensor - size: 10\n",
       "  _pred_idx : LongTensor - size: 1\n",
       "  nclasses : 10\n",
       "  _max : FloatTensor - size: 1\n",
       "  _target : FloatTensor - empty\n",
       "  unionvalids : FloatTensor - size: 10\n",
       "  totalValid : 0.99907142857143\n",
       "}\n"
      ]
     },
     "execution_count": 9,
     "metadata": {},
     "output_type": "execute_result"
    },
    {
     "data": {
      "text/plain": [
       "==> saving model to /Users/sameh/Downloads/my_work/Kaggle - MNIST Digit Recognizer/itorch_output/model.net\t\n"
      ]
     },
     "execution_count": 9,
     "metadata": {},
     "output_type": "execute_result"
    },
    {
     "data": {
      "text/plain": [
       "==> Training on 42000 samples\t\n"
      ]
     },
     "execution_count": 9,
     "metadata": {},
     "output_type": "execute_result"
    },
    {
     "data": {
      "text/plain": [
       "==> doing epoch on training data:\t\n",
       "==> online epoch # 19 [batchSize = 1]\t\n"
      ]
     },
     "execution_count": 9,
     "metadata": {},
     "output_type": "execute_result"
    },
    {
     "name": "stdout",
     "output_type": "stream",
     "text": [
      " [=====================================================================================>]                               \b\b\b\b\b\b\b\b\b\b\b\b\b\b\b\b\b\b\b\b\b\b\b\b\b\b\b\b\b\b Tot: 7m53s | Step: 11ms\b\b\b\b\b\b\b\b\b\b\b\b\b\b\b\b\b\b\b\b\b\b\b\b\b\b\b\b\b\b\b\b\b\b\b\b\b\b\b\b\b\b\b\b\b\b\b\b\b\b\b\b\b\b\b\b\b\b\b\b\b\b\b\b\b\b\b\b\b\b\b\b "
     ]
    },
    {
     "data": {
      "text/plain": [
       "\n",
       "==> time to learn 1 sample = 11.30319461936ms\t\n"
      ]
     },
     "execution_count": 9,
     "metadata": {},
     "output_type": "execute_result"
    },
    {
     "data": {
      "text/plain": [
       "ConfusionMatrix:\n",
       "[[    4131       0       0       0       0       0       0       0       1       0]   99.976% \t[class: 0]\n",
       " [       0    4680       0       0       0       0       0       4       0       0]   99.915% \t[class: 1]\n",
       " [       0       0    4175       0       0       0       0       2       0       0]   99.952% \t[class: 2]\n",
       " [       0       0       0    4349       0       1       0       0       0       1]   99.954% \t[class: 3]\n",
       " [       0       1       0       0    4064       0       1       1       0       5]   99.804% \t[class: 4]\n",
       " [       0       0       0       0       0    3795       0       0       0       0]   100.000% \t[class: 5]\n",
       " [       1       0       0       0       1       0    4135       0       0       0]   99.952% \t[class: 6]\n",
       " [       0       3       0       0       0       0       0    4398       0       0]   99.932% \t[class: 7]\n",
       " [       0       0       0       0       0       0       1       0    4061       1]   99.951% \t[class: 8]\n",
       " [       2       0       0       0       6       0       0       2       0    4178]]  99.761% \t[class: 9]\n",
       " + average row correct: 99.919558167458% \n",
       " + average rowUcol correct (VOC measure): 99.839687347412% \n",
       " + global correct: 99.919047619048%\n",
       "{\n",
       "  _mat_flat : LongTensor - size: 100\n",
       "  valids : FloatTensor - size: 10\n",
       "  mat : LongTensor - size: 10x10\n",
       "  averageUnionValid : 0.99839687347412\n",
       "  _targ_idx : LongTensor - empty\n",
       "  averageValid : 0.99919558167458\n",
       "  classes : \n",
       "    {\n",
       "      1 : 0\n",
       "      2 : 1\n",
       "      3 : 2\n",
       "      4 : 3\n",
       "      5 : 4\n",
       "      6 : 5\n",
       "      7 : 6\n",
       "      8 : 7\n",
       "      9 : 8\n",
       "      10 : 9\n",
       "    }\n",
       "  _prediction : FloatTensor - size: 10\n",
       "  _pred_idx : LongTensor - size: 1\n",
       "  nclasses : 10\n",
       "  _max : FloatTensor - size: 1\n",
       "  _target : FloatTensor - empty\n",
       "  unionvalids : FloatTensor - size: 10\n",
       "  totalValid : 0.99919047619048\n",
       "}\n"
      ]
     },
     "execution_count": 9,
     "metadata": {},
     "output_type": "execute_result"
    },
    {
     "data": {
      "text/plain": [
       "==> saving model to /Users/sameh/Downloads/my_work/Kaggle - MNIST Digit Recognizer/itorch_output/model.net\t\n"
      ]
     },
     "execution_count": 9,
     "metadata": {},
     "output_type": "execute_result"
    },
    {
     "data": {
      "text/plain": [
       "==> Training on 42000 samples\t\n"
      ]
     },
     "execution_count": 9,
     "metadata": {},
     "output_type": "execute_result"
    },
    {
     "data": {
      "text/plain": [
       "==> doing epoch on training data:\t\n",
       "==> online epoch # 20 [batchSize = 1]\t\n"
      ]
     },
     "execution_count": 9,
     "metadata": {},
     "output_type": "execute_result"
    },
    {
     "name": "stdout",
     "output_type": "stream",
     "text": [
      " [=====================================================================================>]                               \b\b\b\b\b\b\b\b\b\b\b\b\b\b\b\b\b\b\b\b\b\b\b\b\b\b\b\b\b\b Tot: 7m50s | Step: 11ms\b\b\b\b\b\b\b\b\b\b\b\b\b\b\b\b\b\b\b\b\b\b\b\b\b\b\b\b\b\b\b\b\b\b\b\b\b\b\b\b\b\b\b\b\b\b\b\b\b\b\b\b\b\b\b\b\b\b\b\b\b\b\b\b\b\b\b\b\b\b\b\b "
     ]
    },
    {
     "data": {
      "text/plain": [
       "\n",
       "==> time to learn 1 sample = 11.224419071561ms\t\n",
       "ConfusionMatrix:\n",
       "[[    4132       0       0       0       0       0       0       0       0       0]   100.000% \t[class: 0]\n",
       " [       0    4681       0       0       0       0       0       3       0       0]   99.936% \t[class: 1]\n",
       " [       0       0    4177       0       0       0       0       0       0       0]   100.000% \t[class: 2]\n",
       " [       0       0       0    4349       0       1       0       0       0       1]   99.954% \t[class: 3]\n",
       " [       0       0       0       0    4066       0       1       1       0       4]   99.853% \t[class: 4]\n",
       " [       0       0       0       0       0    3795       0       0       0       0]   100.000% \t[class: 5]\n",
       " [       1       0       0       0       0       0    4136       0       0       0]   99.976% \t[class: 6]\n",
       " [       0       4       1       0       0       0       0    4395       0       1]   99.864% \t[class: 7]\n",
       " [       0       1       0       1       0       0       1       0    4058       2]   99.877% \t[class: 8]\n",
       " [       1       0       0       0       6       0       0       2       0    4179]]  99.785% \t[class: 9]\n",
       " + average row correct: 99.924417734146% \n",
       " + average rowUcol correct (VOC measure): 99.849454760551% \n",
       " + global correct: 99.92380952381%\n",
       "{\n",
       "  _mat_flat : LongTensor - size: 100\n",
       "  valids : FloatTensor - size: 10\n",
       "  mat : LongTensor - size: 10x10\n",
       "  averageUnionValid : 0.99849454760551\n",
       "  _targ_idx : LongTensor - empty\n",
       "  averageValid : 0.99924417734146\n",
       "  classes : \n",
       "    {\n",
       "      1 : 0\n",
       "      2 : 1"
      ]
     },
     "execution_count": 9,
     "metadata": {},
     "output_type": "execute_result"
    },
    {
     "data": {
      "text/plain": [
       "\n",
       "      3 : 2\n",
       "      4 : 3\n",
       "      5 : 4\n",
       "      6 : 5\n",
       "      7 : 6\n",
       "      8 : 7\n",
       "      9 : 8\n",
       "      10 : 9\n",
       "    }\n",
       "  _prediction : FloatTensor - size: 10\n",
       "  _pred_idx : LongTensor - size: 1\n",
       "  nclasses : 10\n",
       "  _max : FloatTensor - size: 1\n",
       "  _target : FloatTensor - empty\n",
       "  unionvalids : FloatTensor - size: 10\n",
       "  totalValid : 0.9992380952381\n",
       "}\n"
      ]
     },
     "execution_count": 9,
     "metadata": {},
     "output_type": "execute_result"
    },
    {
     "data": {
      "text/plain": [
       "==> saving model to /Users/sameh/Downloads/my_work/Kaggle - MNIST Digit Recognizer/itorch_output/model.net\t\n"
      ]
     },
     "execution_count": 9,
     "metadata": {},
     "output_type": "execute_result"
    },
    {
     "data": {
      "text/plain": [
       "==> Training on 42000 samples\t\n"
      ]
     },
     "execution_count": 9,
     "metadata": {},
     "output_type": "execute_result"
    },
    {
     "data": {
      "text/plain": [
       "==> doing epoch on training data:\t\n",
       "==> online epoch # 21 [batchSize = 1]\t\n"
      ]
     },
     "execution_count": 9,
     "metadata": {},
     "output_type": "execute_result"
    },
    {
     "name": "stdout",
     "output_type": "stream",
     "text": [
      " [=====================================================================================>]                               \b\b\b\b\b\b\b\b\b\b\b\b\b\b\b\b\b\b\b\b\b\b\b\b\b\b\b\b\b\b Tot: 7m51s | Step: 10ms\b\b\b\b\b\b\b\b\b\b\b\b\b\b\b\b\b\b\b\b\b\b\b\b\b\b\b\b\b\b\b\b\b\b\b\b\b\b\b\b\b\b\b\b\b\b\b\b\b\b\b\b\b\b\b\b\b\b\b\b\b\b\b\b\b\b\b\b\b\b\b\b "
     ]
    },
    {
     "data": {
      "text/plain": [
       "\n",
       "==> time to learn 1 sample = 11.243840813637ms\t\n"
      ]
     },
     "execution_count": 9,
     "metadata": {},
     "output_type": "execute_result"
    },
    {
     "data": {
      "text/plain": [
       "ConfusionMatrix:\n",
       "[[    4132       0       0       0       0       0       0       0       0       0]   100.000% \t[class: 0]\n",
       " [       0    4680       0       0       0       0       0       4       0       0]   99.915% \t[class: 1]\n",
       " [       0       0    4177       0       0       0       0       0       0       0]   100.000% \t[class: 2]\n",
       " [       0       0       0    4349       0       1       0       0       0       1]   99.954% \t[class: 3]\n",
       " [       0       0       0       0    4066       0       0       1       0       5]   99.853% \t[class: 4]\n",
       " [       0       0       0       0       0    3795       0       0       0       0]   100.000% \t[class: 5]\n",
       " [       0       0       0       0       0       0    4137       0       0       0]   100.000% \t[class: 6]\n",
       " [       0       5       0       0       0       0       0    4396       0       0]   99.886% \t[class: 7]\n",
       " [       0       1       0       0       0       0       1       0    4059       2]   99.902% \t[class: 8]\n",
       " [       1       0       0       0       4       0       0       1       0    4182]]  99.857% \t[class: 9]\n",
       " + average row correct: 99.936596155167% \n",
       " + average rowUcol correct (VOC measure): 99.873907566071% \n",
       " + global correct: 99.935714285714%\n",
       "{\n",
       "  _mat_flat : LongTensor - size: 100\n",
       "  valids : FloatTensor - size: 10\n",
       "  mat : LongTensor - size: 10x10\n",
       "  averageUnionValid : 0.99873907566071\n",
       "  _targ_idx : LongTensor - empty\n",
       "  averageValid : 0.99936596155167\n",
       "  classes : \n",
       "    {\n",
       "      1 : 0\n",
       "      2 : 1\n",
       "      3 : 2\n",
       "      4 : 3\n",
       "      5 : 4\n",
       "      6 : 5\n",
       "      7 : 6\n",
       "      8 : 7\n",
       "      9 : 8\n",
       "      10 : 9\n",
       "    }\n",
       "  _prediction : FloatTensor - size: 10\n",
       "  _pred_idx : LongTensor - size: 1\n",
       "  nclasses : 10\n",
       "  _max : FloatTensor - size: 1\n",
       "  _target : FloatTensor - empty\n",
       "  unionvalids : FloatTensor - size: 10\n",
       "  totalValid : 0.99935714285714\n",
       "}\n"
      ]
     },
     "execution_count": 9,
     "metadata": {},
     "output_type": "execute_result"
    },
    {
     "data": {
      "text/plain": [
       "==> saving model to /Users/sameh/Downloads/my_work/Kaggle - MNIST Digit Recognizer/itorch_output/model.net\t\n"
      ]
     },
     "execution_count": 9,
     "metadata": {},
     "output_type": "execute_result"
    },
    {
     "data": {
      "text/plain": [
       "==> Training on 42000 samples\t\n"
      ]
     },
     "execution_count": 9,
     "metadata": {},
     "output_type": "execute_result"
    },
    {
     "data": {
      "text/plain": [
       "==> doing epoch on training data:\t\n",
       "==> online epoch # 22 [batchSize = 1]\t\n"
      ]
     },
     "execution_count": 9,
     "metadata": {},
     "output_type": "execute_result"
    },
    {
     "name": "stdout",
     "output_type": "stream",
     "text": [
      " [=====================================================================================>]                               \b\b\b\b\b\b\b\b\b\b\b\b\b\b\b\b\b\b\b\b\b\b\b\b\b\b\b\b\b\b Tot: 8m27s | Step: 12ms\b\b\b\b\b\b\b\b\b\b\b\b\b\b\b\b\b\b\b\b\b\b\b\b\b\b\b\b\b\b\b\b\b\b\b\b\b\b\b\b\b\b\b\b\b\b\b\b\b\b\b\b\b\b\b\b\b\b\b\b\b\b\b\b\b\b\b\b\b\b\b\b "
     ]
    },
    {
     "data": {
      "text/plain": [
       "\n",
       "==> time to learn 1 sample = 12.100951336679ms\t\n",
       "ConfusionMatrix:\n",
       "[[    4132       0       0       0       0       0       0       0       0       0]   100.000% \t[class: 0]\n",
       " [       0    4678       0       0       0       0       0       6       0       0]   99.872% \t[class: 1]\n",
       " [       0       0    4177       0       0       0       0       0       0       0]   100.000% \t[class: 2]\n",
       " [       0       0       0    4349       0       1       0       0       0       1]   99.954% \t[class: 3]\n",
       " [       0       1       0       0    4066       0       0       1       0       4]   99.853% \t[class: 4]\n",
       " [       0       0       0       0       0    3795       0       0       0       0]   100.000% \t[class: 5]\n",
       " [       1       0       0       0       0       0    4136       0       0       0]   99.976% \t[class: 6]\n",
       " [       0       4       0       0       0       0       0    4397       0       0]   99.909% \t[class: 7]\n",
       " [       0       1       0       0       0       0       1       0    4061       0]   99.951% \t[class: 8]\n",
       " [       1       0       0       0       5       0       0       1       0    4181]]  99.833% \t[class: 9]\n",
       " + average row correct: 99.934715628624% \n",
       " + average rowUcol correct (VOC measure): 99.869771003723% \n",
       " + global correct: 99.933333333333%\n",
       "{\n",
       "  _mat_flat : LongTensor - size: 100\n",
       "  valids : FloatTensor - size: 10\n",
       "  mat : LongTensor - size: 10x10\n",
       "  averageUnionValid : 0.99869771003723\n",
       "  _targ_idx : LongTensor - empty\n",
       "  averageValid : 0.99934715628624\n",
       "  classes : \n",
       "    {\n",
       "      1 : 0\n",
       "      2 : 1\n",
       "      3 : 2\n",
       "      4 : 3\n",
       "      5 : 4\n",
       "      6 : 5\n",
       "      7 : 6\n",
       "      8 : 7\n",
       "      9 : 8\n",
       "      10 : 9\n",
       "    }\n",
       "  _prediction : FloatTensor - size: 10\n",
       "  _pred_idx : LongTensor - size: 1\n",
       "  nclasses : 10\n",
       "  _max : FloatTensor - size: 1\n",
       "  _target : FloatTensor - empty\n",
       "  unionvalids : FloatTensor - size: 10\n",
       "  totalValid : 0.99933333333333\n",
       "}\n"
      ]
     },
     "execution_count": 9,
     "metadata": {},
     "output_type": "execute_result"
    },
    {
     "data": {
      "text/plain": [
       "==> saving model to /Users/sameh/Downloads/my_work/Kaggle - MNIST Digit Recognizer/itorch_output/model.net\t\n"
      ]
     },
     "execution_count": 9,
     "metadata": {},
     "output_type": "execute_result"
    },
    {
     "data": {
      "text/plain": [
       "==> Training on 42000 samples\t\n"
      ]
     },
     "execution_count": 9,
     "metadata": {},
     "output_type": "execute_result"
    },
    {
     "data": {
      "text/plain": [
       "==> doing epoch on training data:\t\n",
       "==> online epoch # 23 [batchSize = 1]\t\n"
      ]
     },
     "execution_count": 9,
     "metadata": {},
     "output_type": "execute_result"
    },
    {
     "name": "stdout",
     "output_type": "stream",
     "text": [
      " [=====================================================================================>]                               \b\b\b\b\b\b\b\b\b\b\b\b\b\b\b\b\b\b\b\b\b\b\b\b\b\b\b\b\b\b Tot: 8m13s | Step: 10ms\b\b\b\b\b\b\b\b\b\b\b\b\b\b\b\b\b\b\b\b\b\b\b\b\b\b\b\b\b\b\b\b\b\b\b\b\b\b\b\b\b\b\b\b\b\b\b\b\b\b\b\b\b\b\b\b\b\b\b\b\b\b\b\b\b\b\b\b\b\b\b\b "
     ]
    },
    {
     "data": {
      "text/plain": [
       "\n",
       "==> time to learn 1 sample = 11.774552884556ms\t\n"
      ]
     },
     "execution_count": 9,
     "metadata": {},
     "output_type": "execute_result"
    },
    {
     "data": {
      "text/plain": [
       "ConfusionMatrix:\n",
       "[[    4132       0       0       0       0       0       0       0       0       0]   100.000% \t[class: 0]\n",
       " [       0    4681       0       0       0       0       0       3       0       0]   99.936% \t[class: 1]\n",
       " [       0       0    4177       0       0       0       0       0       0       0]   100.000% \t[class: 2]\n",
       " [       0       0       0    4349       0       1       0       0       0       1]   99.954% \t[class: 3]\n",
       " [       0       1       0       0    4069       0       0       1       0       1]   99.926% \t[class: 4]\n",
       " [       0       0       0       0       0    3795       0       0       0       0]   100.000% \t[class: 5]\n",
       " [       1       0       0       0       0       0    4136       0       0       0]   99.976% \t[class: 6]\n",
       " [       0       3       0       0       0       0       0    4398       0       0]   99.932% \t[class: 7]\n",
       " [       0       0       0       0       0       0       1       0    4060       2]   99.926% \t[class: 8]\n",
       " [       1       0       0       0       3       0       0       2       0    4182]]  99.857% \t[class: 9]\n",
       " + average row correct: 99.950687885284% \n",
       " + average rowUcol correct (VOC measure): 99.901780486107% \n",
       " + global correct: 99.95%\n",
       "{\n",
       "  _mat_flat : LongTensor - size: 100\n",
       "  valids : FloatTensor - size: 10\n",
       "  mat : LongTensor - size: 10x10\n",
       "  averageUnionValid : 0.99901780486107\n",
       "  _targ_idx : LongTensor - empty\n",
       "  averageValid : 0.99950687885284\n",
       "  classes : \n",
       "    {\n",
       "      1 : 0\n",
       "      2 : 1\n",
       "      3 : 2\n",
       "      4 : 3\n",
       "      5 : 4\n",
       "      6 : 5\n",
       "      7 : 6\n",
       "      8 : 7\n",
       "      9 : 8\n",
       "      10 : 9\n",
       "    }\n",
       "  _prediction : FloatTensor - size: 10\n",
       "  _pred_idx : LongTensor - size: 1\n",
       "  nclasses : 10\n",
       "  _max : FloatTensor - size: 1\n",
       "  _target : FloatTensor - empty\n",
       "  unionvalids : FloatTensor - size: 10\n",
       "  totalValid : 0.9995\n",
       "}\n"
      ]
     },
     "execution_count": 9,
     "metadata": {},
     "output_type": "execute_result"
    },
    {
     "data": {
      "text/plain": [
       "==> saving model to /Users/sameh/Downloads/my_work/Kaggle - MNIST Digit Recognizer/itorch_output/model.net\t\n"
      ]
     },
     "execution_count": 9,
     "metadata": {},
     "output_type": "execute_result"
    },
    {
     "data": {
      "text/plain": [
       "==> Training on 42000 samples\t\n"
      ]
     },
     "execution_count": 9,
     "metadata": {},
     "output_type": "execute_result"
    },
    {
     "data": {
      "text/plain": [
       "==> doing epoch on training data:\t\n",
       "==> online epoch # 24 [batchSize = 1]\t\n"
      ]
     },
     "execution_count": 9,
     "metadata": {},
     "output_type": "execute_result"
    },
    {
     "name": "stdout",
     "output_type": "stream",
     "text": [
      " [=====================================================================================>]                               \b\b\b\b\b\b\b\b\b\b\b\b\b\b\b\b\b\b\b\b\b\b\b\b\b\b\b\b\b\b Tot: 7m39s | Step: 10ms\b\b\b\b\b\b\b\b\b\b\b\b\b\b\b\b\b\b\b\b\b\b\b\b\b\b\b\b\b\b\b\b\b\b\b\b\b\b\b\b\b\b\b\b\b\b\b\b\b\b\b\b\b\b\b\b\b\b\b\b\b\b\b\b\b\b\b\b\b\b\b\b "
     ]
    },
    {
     "data": {
      "text/plain": [
       "\n",
       "==> time to learn 1 sample = 10.96933004402ms\t"
      ]
     },
     "execution_count": 9,
     "metadata": {},
     "output_type": "execute_result"
    },
    {
     "data": {
      "text/plain": [
       "\n",
       "ConfusionMatrix:\n",
       "[[    4132       0       0       0       0       0       0       0       0       0]   100.000% \t[class: 0]\n",
       " [       0    4682       0       0       0       0       0       2       0       0]   99.957% \t[class: 1]\n",
       " [       0       0    4177       0       0       0       0       0       0       0]   100.000% \t[class: 2]\n",
       " [       0       0       0    4349       0       1       0       0       0       1]   99.954% \t[class: 3]\n",
       " [       0       1       0       0    4068       0       0       1       0       2]   99.902% \t[class: 4]\n",
       " [       0       0       0       0       0    3795       0       0       0       0]   100.000% \t[class: 5]\n",
       " [       0       0       0       0       0       0    4137       0       0       0]   100.000% \t[class: 6]\n",
       " [       0       2       0       0       0       0       0    4399       0       0]   99.955% \t[class: 7]\n",
       " [       0       0       0       0       0       0       0       0    4061       2]   99.951% \t[class: 8]\n",
       " [       0       1       0       0       3       0       0       0       0    4184]]  99.904% \t[class: 9]\n",
       " + average row correct: 99.962291717529% \n",
       " + average rowUcol correct (VOC measure): 99.92505133152% \n",
       " + global correct: 99.961904761905%\n",
       "{\n",
       "  _mat_flat : LongTensor - size: 100\n",
       "  valids : FloatTensor - size: 10\n",
       "  mat : LongTensor - size: 10x10\n",
       "  averageUnionValid : 0.9992505133152\n",
       "  _targ_idx : LongTensor - empty\n",
       "  averageValid : 0.99962291717529\n",
       "  classes : \n",
       "    {\n",
       "      1 : 0\n",
       "      2 : 1\n",
       "      3 : 2\n",
       "      4 : 3\n",
       "      5 : 4\n",
       "      6 : 5\n",
       "      7 : 6\n",
       "      8 : 7\n",
       "      9 : 8\n",
       "      10 : 9\n",
       "    }\n",
       "  _prediction : FloatTensor - size: 10\n",
       "  _pred_idx : LongTensor - size: 1\n",
       "  nclasses : 10\n",
       "  _max : FloatTensor - size: 1\n",
       "  _target : FloatTensor - empty\n",
       "  unionvalids : FloatTensor - size: 10\n",
       "  totalValid : 0.99961904761905\n",
       "}\n"
      ]
     },
     "execution_count": 9,
     "metadata": {},
     "output_type": "execute_result"
    },
    {
     "data": {
      "text/plain": [
       "==> saving model to /Users/sameh/Downloads/my_work/Kaggle - MNIST Digit Recognizer/itorch_output/model.net\t\n"
      ]
     },
     "execution_count": 9,
     "metadata": {},
     "output_type": "execute_result"
    },
    {
     "data": {
      "text/plain": [
       "==> Training on 42000 samples\t\n",
       "==> doing epoch on training data:\t\n",
       "==> online epoch # 25 [batchSize = 1]\t\n"
      ]
     },
     "execution_count": 9,
     "metadata": {},
     "output_type": "execute_result"
    },
    {
     "name": "stdout",
     "output_type": "stream",
     "text": [
      " [=====================================================================================>]                               \b\b\b\b\b\b\b\b\b\b\b\b\b\b\b\b\b\b\b\b\b\b\b\b\b\b\b\b\b\b Tot: 7m37s | Step: 10ms\b\b\b\b\b\b\b\b\b\b\b\b\b\b\b\b\b\b\b\b\b\b\b\b\b\b\b\b\b\b\b\b\b\b\b\b\b\b\b\b\b\b\b\b\b\b\b\b\b\b\b\b\b\b\b\b\b\b\b\b\b\b\b\b\b\b\b\b\b\b\b\b "
     ]
    },
    {
     "data": {
      "text/plain": [
       "\n",
       "==> time to learn 1 sample = 10.922691759609ms\t\n",
       "ConfusionMatrix:\n",
       "[[    4132       0       0       0       0       0       0       0       0       0]   100.000% \t[class: 0]\n",
       " [       0    4679       0       0       0       0       0       5       0       0]   99.893% \t[class: 1]\n",
       " [       0       0    4177       0       0       0       0       0       0       0]   100.000% \t[class: 2]\n",
       " [       0       0       0    4349       0       1       0       0       0       1]   99.954% \t[class: 3]\n",
       " [       0       2       0       0    4065       0       0       1       0       4]   99.828% \t[class: 4]\n",
       " [       0       0       0       0       0    3795       0       0       0       0]   100.000% \t[class: 5]\n",
       " [       0       0       0       0       0       0    4137       0       0       0]   100.000% \t[class: 6]\n",
       " [       0       3       0       0       0       0       0    4398       0       0]   99.932% \t[class: 7]\n",
       " [       0       0       0       0       0       0       0       0    4062       1]   99.975% \t[class: 8]\n",
       " [       1       0       0       0       1       0       0       1       0    4185]]  99.928% \t[class: 9]\n",
       " + average row correct: 99.951097369194% \n",
       " + average rowUcol correct (VOC measure): 99.902774691582% \n",
       " + global correct: 99.95%\n",
       "{\n",
       "  _mat_flat : LongTensor - size: 100\n",
       "  valids : FloatTensor - size: 10\n",
       "  mat : LongTensor - size: 10x10\n",
       "  averageUnionValid : 0.99902774691582\n",
       "  _targ_idx : LongTensor - empty\n",
       "  averageValid : 0.99951097369194\n",
       "  classes : \n",
       "    {\n",
       "      1 : 0\n",
       "      2 : 1\n",
       "      3 : 2\n",
       "      4 : 3\n",
       "      5 : 4\n",
       "      6 : 5\n",
       "      7 : 6\n",
       "      8 : 7\n",
       "      9 : 8\n",
       "      10 : 9\n",
       "    }\n",
       "  _prediction : FloatTensor - size: 10\n",
       "  _pred_idx : LongTensor - size: 1\n",
       "  nclasses : 10\n",
       "  _max : FloatTensor - size: 1\n",
       "  _target : FloatTensor - empty\n",
       "  unionvalids : FloatTensor - size: 10\n",
       "  totalValid : 0.9995\n",
       "}\n"
      ]
     },
     "execution_count": 9,
     "metadata": {},
     "output_type": "execute_result"
    },
    {
     "data": {
      "text/plain": [
       "==> saving model to /Users/sameh/Downloads/my_work/Kaggle - MNIST Digit Recognizer/itorch_output/model.net\t\n"
      ]
     },
     "execution_count": 9,
     "metadata": {},
     "output_type": "execute_result"
    },
    {
     "data": {
      "text/plain": [
       "==> Training on 42000 samples\t\n",
       "==> doing epoch on training data:\t\n",
       "==> online epoch # 26 [batchSize = 1]\t\n"
      ]
     },
     "execution_count": 9,
     "metadata": {},
     "output_type": "execute_result"
    },
    {
     "name": "stdout",
     "output_type": "stream",
     "text": [
      " [=====================================================================================>]                               \b\b\b\b\b\b\b\b\b\b\b\b\b\b\b\b\b\b\b\b\b\b\b\b\b\b\b\b\b\b Tot: 7m44s | Step: 10ms\b\b\b\b\b\b\b\b\b\b\b\b\b\b\b\b\b\b\b\b\b\b\b\b\b\b\b\b\b\b\b\b\b\b\b\b\b\b\b\b\b\b\b\b\b\b\b\b\b\b\b\b\b\b\b\b\b\b\b\b\b\b\b\b\b\b\b\b\b\b\b\b "
     ]
    },
    {
     "data": {
      "text/plain": [
       "\n",
       "==> time to learn 1 sample = 11.090355623336ms\t\n",
       "ConfusionMatrix:\n",
       "[[    4132       0       0       0       0       0       0       0       0       0]   100.000% \t[class: 0]\n",
       " [       0    4682       0       0       0       0       0       2       0       0]   99.957% \t[class: 1]\n",
       " [       0       0    4177       0       0       0       0       0       0       0]   100.000% \t[class: 2]\n",
       " [       0       0       0    4349       0       1       0       0       0       1]   99.954% \t[class: 3]\n",
       " [       0       0       0       0    4070       0       0       1       0       1]   99.951% \t[class: 4]\n",
       " [       0       0       0       0       0    3795       0       0       0       0]   100.000% \t[class: 5]\n",
       " [       0       0       0       0       0       0    4137       0       0       0]   100.000% \t[class: 6]\n",
       " [       0       3       0       0       0       0       0    4398       0       0]   99.932% \t[class: 7]\n",
       " [       0       0       0       0       0       0       0       0    4063       0]   100.000% \t[class: 8]\n",
       " [       0       0       0       0       2       0       0       0       0    4186]]  99.952% \t[class: 9]\n",
       " + average row correct: 99.974629878998% \n",
       " + average rowUcol correct (VOC measure): 99.949112534523% \n",
       " + global correct: 99.97380952381%\n",
       "{\n",
       "  _mat_flat : LongTensor - size: 100\n",
       "  valids : FloatTensor - size: 10\n",
       "  mat : LongTensor - size: 10x10\n",
       "  averageUnionValid : 0.99949112534523\n",
       "  _targ_idx : LongTensor - empty\n",
       "  averageValid : 0.99974629878998\n",
       "  classes : \n",
       "    {\n",
       "      1 : 0\n",
       "      2 : 1\n",
       "      3 : 2\n",
       "      4 : 3\n",
       "      5 : 4\n",
       "      6 : 5\n",
       "      7 : 6\n",
       "      8 : 7\n",
       "      9 : 8\n",
       "      10 : 9\n",
       "    }\n",
       "  _prediction : FloatTensor - size: 10\n",
       "  _pred_idx : LongTensor - size: 1\n",
       "  nclasses : 10\n",
       "  _max : FloatTensor - size: 1\n",
       "  _target : FloatTensor - empty\n",
       "  unionvalids : FloatTensor - size: 10\n",
       "  totalValid : 0.9997380952381\n",
       "}\n"
      ]
     },
     "execution_count": 9,
     "metadata": {},
     "output_type": "execute_result"
    },
    {
     "data": {
      "text/plain": [
       "==> saving model to /Users/sameh/Downloads/my_work/Kaggle - MNIST Digit Recognizer/itorch_output/model.net\t\n"
      ]
     },
     "execution_count": 9,
     "metadata": {},
     "output_type": "execute_result"
    },
    {
     "data": {
      "text/plain": [
       "==> Training on 42000 samples\t\n",
       "==> doing epoch on training data:\t\n",
       "==> online epoch # 27 [batchSize = 1]\t\n"
      ]
     },
     "execution_count": 9,
     "metadata": {},
     "output_type": "execute_result"
    },
    {
     "name": "stdout",
     "output_type": "stream",
     "text": [
      " [=====================================================================================>]                               \b\b\b\b\b\b\b\b\b\b\b\b\b\b\b\b\b\b\b\b\b\b\b\b\b\b\b\b\b\b Tot: 7m52s | Step: 11ms\b\b\b\b\b\b\b\b\b\b\b\b\b\b\b\b\b\b\b\b\b\b\b\b\b\b\b\b\b\b\b\b\b\b\b\b\b\b\b\b\b\b\b\b\b\b\b\b\b\b\b\b\b\b\b\b\b\b\b\b\b\b\b\b\b\b\b\b\b\b\b\b "
     ]
    },
    {
     "data": {
      "text/plain": [
       "\n",
       "==> time to learn 1 sample = 11.27036299592ms\t\n",
       "ConfusionMatrix:\n",
       "[[    4132       0       0       0       0       0       0       0       0       0]   100.000% \t[class: 0]\n",
       " [       0    4682       0       0       0       0       0       2       0       0]   99.957% \t[class: 1]\n",
       " [       0       0    4177       0       0       0       0       0       0       0]   100.000% \t[class: 2]\n",
       " [       0       0       0    4349       0       1       0       0       0       1]   99.954% \t[class: 3]\n",
       " [       0       0       0       0    4069       0       0       1       0       2]   99.926% \t[class: 4]\n",
       " [       0       0       0       0       0    3795       0       0       0       0]   100.000% \t[class: 5]\n",
       " [       0       0       0       0       0       0    4137       0       0       0]   100.000% \t[class: 6]\n",
       " [       0       3       0       0       0       0       0    4398       0       0]   99.932% \t[class: 7]\n",
       " [       0       0       0       0       0       0       0       0    4063       0]   100.000% \t[class: 8]\n",
       " [       0       0       0       0       3       0       0       1       0    4184]]  99.904% \t[class: 9]\n",
       " + average row correct: 99.967398643494% \n",
       " + average rowUcol correct (VOC measure): 99.934782981873% \n",
       " + global correct: 99.966666666667%\n",
       "{\n",
       "  _mat_flat : LongTensor - size: 100\n",
       "  valids : FloatTensor - size: 10\n",
       "  mat : LongTensor - size: 10x10\n",
       "  averageUnionValid : 0.99934782981873\n",
       "  _targ_idx : LongTensor - empty\n",
       "  averageValid : 0.99967398643494\n",
       "  classes : \n",
       "    {\n",
       "      1 : 0\n",
       "      2 : 1\n",
       "      3 : 2\n",
       "      4 : 3\n",
       "      5 : 4\n",
       "      6 : 5\n",
       "      7 : 6\n",
       "      8 : 7\n",
       "      9 : 8\n",
       "      10 : 9\n",
       "    }\n",
       "  _prediction : FloatTensor - size: 10\n",
       "  _pred_idx : LongTensor - size: 1\n",
       "  nclasses : 10\n",
       "  _max : FloatTensor - size: 1\n",
       "  _target : FloatTensor - empty\n",
       "  unionvalids : FloatTensor - size: 10\n",
       "  totalValid : 0.99966666666667\n",
       "}\n"
      ]
     },
     "execution_count": 9,
     "metadata": {},
     "output_type": "execute_result"
    },
    {
     "data": {
      "text/plain": [
       "==> saving model to /Users/sameh/Downloads/my_work/Kaggle - MNIST Digit Recognizer/itorch_output/model.net\t\n"
      ]
     },
     "execution_count": 9,
     "metadata": {},
     "output_type": "execute_result"
    },
    {
     "data": {
      "text/plain": [
       "==> Training on 42000 samples\t\n"
      ]
     },
     "execution_count": 9,
     "metadata": {},
     "output_type": "execute_result"
    },
    {
     "data": {
      "text/plain": [
       "==> doing epoch on training data:\t\n",
       "==> online epoch # 28 [batchSize = 1]\t\n"
      ]
     },
     "execution_count": 9,
     "metadata": {},
     "output_type": "execute_result"
    },
    {
     "name": "stdout",
     "output_type": "stream",
     "text": [
      " [=====================================================================================>]                               \b\b\b\b\b\b\b\b\b\b\b\b\b\b\b\b\b\b\b\b\b\b\b\b\b\b\b\b\b\b Tot: 7m47s | Step: 11ms\b\b\b\b\b\b\b\b\b\b\b\b\b\b\b\b\b\b\b\b\b\b\b\b\b\b\b\b\b\b\b\b\b\b\b\b\b\b\b\b\b\b\b\b\b\b\b\b\b\b\b\b\b\b\b\b\b\b\b\b\b\b\b\b\b\b\b\b\b\b\b\b "
     ]
    },
    {
     "data": {
      "text/plain": [
       "\n",
       "==> time to learn 1 sample = 11.159459999629ms\t\n",
       "ConfusionMatrix:\n",
       "[[    4132       0       0       0       0       0       0       0       0       0]   100.000% \t[class: 0]\n",
       " [       0    4681       0       0       0       0       0       3       0       0]   99.936% \t[class: 1]\n",
       " [       0       0    4177       0       0       0       0       0       0       0]   100.000% \t[class: 2]\n",
       " [       0       0       0    4349       0       1       0       0       0       1]   99.954% \t[class: 3]\n",
       " [       0       0       0       0    4070       0       0       1       0       1]   99.951% \t[class: 4]\n",
       " [       0       0       0       0       0    3795       0       0       0       0]   100.000% \t[class: 5]\n",
       " [       0       0       0       0       0       0    4137       0       0       0]   100.000% \t[class: 6]\n",
       " [       0       3       0       0       0       0       0    4398       0       0]   99.932% \t[class: 7]\n",
       " [       0       0       0       0       0       0       0       0    4063       0]   100.000% \t[class: 8]\n",
       " [       0       0       0       0       1       0       0       0       0    4187]]  99.976% \t[class: 9]\n",
       " + average row correct: 99.974883198738% \n",
       " + average rowUcol correct (VOC measure): 99.949551224709% \n",
       " + global correct: 99.97380952381%\n",
       "{\n",
       "  _mat_flat : LongTensor - size: 100\n",
       "  valids : FloatTensor - size: 10\n",
       "  mat : LongTensor - size: 10x10\n",
       "  averageUnionValid : 0.99949551224709\n",
       "  _targ_idx : LongTensor - empty\n",
       "  averageValid : 0.99974883198738\n",
       "  classes : \n",
       "    {\n",
       "      1 : 0\n",
       "      2 : 1\n",
       "      3 : 2\n",
       "      4 : 3\n",
       "      5 : 4\n",
       "      6 : 5\n",
       "      7 : 6\n",
       "      8 : 7\n",
       "      9 : 8\n",
       "      10 : 9\n",
       "    }\n",
       "  _prediction : FloatTensor - size: 10\n",
       "  _pred_idx : LongTensor - size: 1\n",
       "  nclasses : 10\n",
       "  _max : FloatTensor - size: 1\n",
       "  _target : FloatTensor - empty\n",
       "  unionvalids : FloatTensor - size: 10\n"
      ]
     },
     "execution_count": 9,
     "metadata": {},
     "output_type": "execute_result"
    },
    {
     "data": {
      "text/plain": [
       "  totalValid : 0.9997380952381\n",
       "}\n"
      ]
     },
     "execution_count": 9,
     "metadata": {},
     "output_type": "execute_result"
    },
    {
     "data": {
      "text/plain": [
       "==> saving model to /Users/sameh/Downloads/my_work/Kaggle - MNIST Digit Recognizer/itorch_output/model.net\t\n"
      ]
     },
     "execution_count": 9,
     "metadata": {},
     "output_type": "execute_result"
    },
    {
     "data": {
      "text/plain": [
       "==> Training on 42000 samples\t\n"
      ]
     },
     "execution_count": 9,
     "metadata": {},
     "output_type": "execute_result"
    },
    {
     "data": {
      "text/plain": [
       "==> doing epoch on training data:\t\n",
       "==> online epoch # 29 [batchSize = 1]\t\n"
      ]
     },
     "execution_count": 9,
     "metadata": {},
     "output_type": "execute_result"
    },
    {
     "name": "stdout",
     "output_type": "stream",
     "text": [
      " [=====================================================================================>]                               \b\b\b\b\b\b\b\b\b\b\b\b\b\b\b\b\b\b\b\b\b\b\b\b\b\b\b\b\b\b Tot: 7m42s | Step: 10ms\b\b\b\b\b\b\b\b\b\b\b\b\b\b\b\b\b\b\b\b\b\b\b\b\b\b\b\b\b\b\b\b\b\b\b\b\b\b\b\b\b\b\b\b\b\b\b\b\b\b\b\b\b\b\b\b\b\b\b\b\b\b\b\b\b\b\b\b\b\b\b\b "
     ]
    },
    {
     "data": {
      "text/plain": [
       "\n",
       "==> time to learn 1 sample = 11.03384235927ms\t\n",
       "ConfusionMatrix:\n",
       "[[    4132       0       0       0       0       0       0       0       0       0]   100.000% \t[class: 0]\n",
       " [       0    4682       0       0       0       0       0       2       0       0]   99.957% \t[class: 1]\n",
       " [       0       0    4177       0       0       0       0       0       0       0]   100.000% \t[class: 2]\n",
       " [       0       0       0    4349       0       1       0       0       0       1]   99.954% \t[class: 3]\n",
       " [       0       0       0       0    4070       0       0       1       0       1]   99.951% \t[class: 4]\n",
       " [       0       0       0       0       0    3795       0       0       0       0]   100.000% \t[class: 5]\n",
       " [       0       0       0       0       0       0    4137       0       0       0]   100.000% \t[class: 6]\n",
       " [       0       3       0       0       0       0       0    4398       0       0]   99.932% \t[class: 7]\n",
       " [       0       0       0       0       0       0       0       0    4063       0]   100.000% \t[class: 8]\n",
       " [       0       0       0       0       1       0       0       1       0    4186]]  99.952% \t[class: 9]\n",
       " + average row correct: 99.974629878998% \n",
       " + average rowUcol correct (VOC measure): 99.949297904968% \n",
       " + global correct: 99.97380952381%\n",
       "{\n",
       "  _mat_flat : LongTensor - size: 100\n",
       "  valids : FloatTensor - size: 10\n",
       "  mat : LongTensor - size: 10x10\n",
       "  averageUnionValid : 0.99949297904968\n",
       "  _targ_idx : LongTensor - empty\n",
       "  averageValid : 0.99974629878998\n",
       "  classes : \n",
       "    {\n",
       "      1 : 0\n",
       "      2 : 1\n",
       "      3 : 2\n",
       "      4 : 3\n",
       "      5 : 4\n",
       "      6 : 5\n",
       "      7 : 6\n",
       "      8 : 7\n",
       "      9 : 8\n",
       "      10 : 9\n",
       "    }\n",
       "  _prediction : FloatTensor - size: 10\n",
       "  _pred_idx : LongTensor - size: 1\n",
       "  nclasses : 10\n",
       "  _max : FloatTensor - size: 1\n",
       "  _target : FloatTensor - empty\n",
       "  unionvalids : FloatTensor - size: 10\n",
       "  totalValid : 0.9997380952381\n",
       "}\n"
      ]
     },
     "execution_count": 9,
     "metadata": {},
     "output_type": "execute_result"
    },
    {
     "data": {
      "text/plain": [
       "==> saving model to /Users/sameh/Downloads/my_work/Kaggle - MNIST Digit Recognizer/itorch_output/model.net\t\n"
      ]
     },
     "execution_count": 9,
     "metadata": {},
     "output_type": "execute_result"
    },
    {
     "data": {
      "text/plain": [
       "==> Training on 42000 samples\t\n",
       "==> doing epoch on training data:\t\n",
       "==> online epoch # 30 [batchSize = 1]\t\n"
      ]
     },
     "execution_count": 9,
     "metadata": {},
     "output_type": "execute_result"
    },
    {
     "name": "stdout",
     "output_type": "stream",
     "text": [
      " [=====================================================================================>]                               \b\b\b\b\b\b\b\b\b\b\b\b\b\b\b\b\b\b\b\b\b\b\b\b\b\b\b\b\b\b Tot: 11m26s | Step: 11ms\b\b\b\b\b\b\b\b\b\b\b\b\b\b\b\b\b\b\b\b\b\b\b\b\b\b\b\b\b\b\b\b\b\b\b\b\b\b\b\b\b\b\b\b\b\b\b\b\b\b\b\b\b\b\b\b\b\b\b\b\b\b\b\b\b\b\b\b\b\b\b\b\b "
     ]
    },
    {
     "data": {
      "text/plain": [
       "\n",
       "==> time to learn 1 sample = 16.379303001222ms\t\n",
       "ConfusionMatrix:\n",
       "[[    4132       0       0       0       0       0       0       0       0       0]   100.000% \t[class: 0]\n",
       " [       0    4681       0       0       0       0       0       3       0       0]   99.936% \t[class: 1]\n",
       " [       0       0    4177       0       0       0       0       0       0       0]   100.000% \t[class: 2]\n",
       " [       0       0       0    4349       0       1       0       0       0       1]   99.954% \t[class: 3]\n",
       " [       0       0       0       0    4070       0       0       1       0       1]   99.951% \t[class: 4]\n",
       " [       0       0       0       0       0    3795       0       0       0       0]   100.000% \t[class: 5]\n",
       " [       0       0       0       0       0       0    4137       0       0       0]   100.000% \t[class: 6]\n",
       " [       0       2       0       0       0       0       0    4399       0       0]   99.955% \t[class: 7]\n",
       " [       0       0       0       0       0       0       0       0    4063       0]   100.000% \t[class: 8]\n",
       " [       0       0       0       0       1       0       0       0       0    4187]]  99.976% \t[class: 9]\n",
       " + average row correct: 99.977155327797% \n",
       " + average rowUcol correct (VOC measure): 99.953953027725% \n",
       " + global correct: 99.97619047619%\n",
       "{\n",
       "  _mat_flat : LongTensor - size: 100\n",
       "  valids : FloatTensor - size: 10\n",
       "  mat : LongTensor - size: 10x10\n",
       "  averageUnionValid : 0.99953953027725\n",
       "  _targ_idx : LongTensor - empty\n",
       "  averageValid : 0.99977155327797\n",
       "  classes : \n",
       "    {\n",
       "      1 : 0\n",
       "      2 : 1\n",
       "      3 : 2\n",
       "      4 : 3\n",
       "      5 : 4\n",
       "      6 : 5\n",
       "      7 : 6\n",
       "      8 : 7\n",
       "      9 : 8\n",
       "      10 : 9\n",
       "    }\n",
       "  _prediction : FloatTensor - size: 10\n",
       "  _pred_idx : LongTensor - size: 1\n",
       "  nclasses : 10\n",
       "  _max : FloatTensor - size: 1\n",
       "  _target : FloatTensor - empty\n",
       "  unionvalids : FloatTensor - size: 10\n",
       "  totalValid : 0.9997619047619\n",
       "}\n"
      ]
     },
     "execution_count": 9,
     "metadata": {},
     "output_type": "execute_result"
    },
    {
     "data": {
      "text/plain": [
       "==> saving model to /Users/sameh/Downloads/my_work/Kaggle - MNIST Digit Recognizer/itorch_output/model.net\t\n"
      ]
     },
     "execution_count": 9,
     "metadata": {},
     "output_type": "execute_result"
    },
    {
     "data": {
      "text/plain": [
       "==> Training on 42000 samples\t\n"
      ]
     },
     "execution_count": 9,
     "metadata": {},
     "output_type": "execute_result"
    },
    {
     "data": {
      "text/plain": [
       "==> doing epoch on training data:\t\n",
       "==> online epoch # 31 [batchSize = 1]\t\n"
      ]
     },
     "execution_count": 9,
     "metadata": {},
     "output_type": "execute_result"
    },
    {
     "name": "stdout",
     "output_type": "stream",
     "text": [
      " [=====================================================================================>]                               \b\b\b\b\b\b\b\b\b\b\b\b\b\b\b\b\b\b\b\b\b\b\b\b\b\b\b\b\b\b Tot: 8m21s | Step: 11ms\b\b\b\b\b\b\b\b\b\b\b\b\b\b\b\b\b\b\b\b\b\b\b\b\b\b\b\b\b\b\b\b\b\b\b\b\b\b\b\b\b\b\b\b\b\b\b\b\b\b\b\b\b\b\b\b\b\b\b\b\b\b\b\b\b\b\b\b\b\b\b\b "
     ]
    },
    {
     "data": {
      "text/plain": [
       "\n",
       "==> time to learn 1 sample = 11.952416908173ms\t\n",
       "ConfusionMatrix:\n",
       "[[    4132       0       0       0       0       0       0       0       0       0]   100.000% \t[class: 0]\n",
       " [       0    4681       0       0       0       0       0       3       0       0]   99.936% \t[class: 1]\n",
       " [       0       0    4177       0       0       0       0       0       0       0]   100.000% \t[class: 2]\n",
       " [       0       0       0    4349       0       1       0       0       0       1]   99.954% \t[class: 3]\n",
       " [       0       0       0       0    4070       0       0       1       0       1]   99.951% \t[class: 4]\n",
       " [       0       0       0       0       0    3795       0       0       0       0]   100.000% \t[class: 5]\n",
       " [       0       0       0       0       0       0    4137       0       0       0]   100.000% \t[class: 6]\n",
       " [       0       3       0       0       0       0       0    4398       0       0]   99.932% \t[class: 7]\n",
       " [       0       0       0       0       0       0       0       0    4062       1]   99.975% \t[class: 8]\n",
       " [       0       0       0       0       0       0       0       0       0    4188]]  100.000% \t[class: 9]\n",
       " + average row correct: 99.974809885025% \n",
       " + average rowUcol correct (VOC measure): 99.949545860291% \n",
       " + global correct: 99.97380952381%\n",
       "{\n",
       "  _mat_flat : LongTensor - size: 100\n",
       "  valids : FloatTensor - size: 10\n",
       "  mat : LongTensor - size: 10x10\n",
       "  averageUnionValid : 0.99949545860291\n",
       "  _targ_idx : LongTensor - empty\n",
       "  averageValid : 0.99974809885025\n",
       "  classes : \n",
       "    {\n",
       "      1 : 0\n",
       "      2 : 1\n",
       "      3 : 2\n",
       "      4 : 3\n",
       "      5 : 4\n",
       "      6 : 5\n",
       "      7 : 6\n",
       "      8 : 7\n",
       "      9 : 8\n",
       "      10 : 9\n",
       "    }\n",
       "  _prediction : FloatTensor - size: 10\n",
       "  _pred_idx : LongTensor - size: 1\n",
       "  nclasses : 10\n",
       "  _max : FloatTensor - size: 1\n",
       "  _target : FloatTensor - empty\n",
       "  unionvalids : FloatTensor - size: 10\n",
       "  totalValid : 0.9997380952381\n",
       "}\n"
      ]
     },
     "execution_count": 9,
     "metadata": {},
     "output_type": "execute_result"
    },
    {
     "data": {
      "text/plain": [
       "==> saving model to /Users/sameh/Downloads/my_work/Kaggle - MNIST Digit Recognizer/itorch_output/model.net\t\n"
      ]
     },
     "execution_count": 9,
     "metadata": {},
     "output_type": "execute_result"
    },
    {
     "data": {
      "text/plain": [
       "==> Training on 42000 samples\t\n",
       "==> doing epoch on training data:\t\n",
       "==> online epoch # 32 [batchSize = 1]\t\n"
      ]
     },
     "execution_count": 9,
     "metadata": {},
     "output_type": "execute_result"
    },
    {
     "name": "stdout",
     "output_type": "stream",
     "text": [
      " [=====================================================================================>]                               \b\b\b\b\b\b\b\b\b\b\b\b\b\b\b\b\b\b\b\b\b\b\b\b\b\b\b\b\b\b Tot: 8m58s | Step: 12ms\b\b\b\b\b\b\b\b\b\b\b\b\b\b\b\b\b\b\b\b\b\b\b\b\b\b\b\b\b\b\b\b\b\b\b\b\b\b\b\b\b\b\b\b\b\b\b\b\b\b\b\b\b\b\b\b\b\b\b\b\b\b\b\b\b\b\b\b\b\b\b\b "
     ]
    },
    {
     "data": {
      "text/plain": [
       "\n",
       "==> time to learn 1 sample = 12.840485572815ms\t"
      ]
     },
     "execution_count": 9,
     "metadata": {},
     "output_type": "execute_result"
    },
    {
     "data": {
      "text/plain": [
       "\n",
       "ConfusionMatrix:\n",
       "[[    4132       0       0       0       0       0       0       0       0       0]   100.000% \t[class: 0]\n",
       " [       0    4684       0       0       0       0       0       0       0       0]   100.000% \t[class: 1]\n",
       " [       0       0    4177       0       0       0       0       0       0       0]   100.000% \t[class: 2]\n",
       " [       0       0       0    4349       0       1       0       0       0       1]   99.954% \t[class: 3]\n",
       " [       0       0       0       0    4070       0       0       1       0       1]   99.951% \t[class: 4]\n",
       " [       0       0       0       0       0    3795       0       0       0       0]   100.000% \t[class: 5]\n",
       " [       0       0       0       0       0       0    4137       0       0       0]   100.000% \t[class: 6]\n",
       " [       0       1       0       0       0       0       0    4400       0       0]   99.977% \t[class: 7]\n",
       " [       0       0       0       0       0       0       0       0    4063       0]   100.000% \t[class: 8]\n",
       " [       0       0       0       0       0       0       0       0       0    4188]]  100.000% \t[class: 9]\n",
       " + average row correct: 99.988219738007% \n",
       " + average rowUcol correct (VOC measure): 99.976406097412% \n",
       " + global correct: 99.988095238095%\n",
       "{\n",
       "  _mat_flat : LongTensor - size: 100\n",
       "  valids : FloatTensor - size: 10\n",
       "  mat : LongTensor - size: 10x10\n",
       "  averageUnionValid : 0.99976406097412\n",
       "  _targ_idx : LongTensor - empty\n",
       "  averageValid : 0.99988219738007\n",
       "  classes : \n",
       "    {\n",
       "      1 : 0\n",
       "      2 : 1\n",
       "      3 : 2\n",
       "      4 : 3\n",
       "      5 : 4\n",
       "      6 : 5\n",
       "      7 : 6\n",
       "      8 : 7\n",
       "      9 : 8\n",
       "      10 : 9\n",
       "    }\n",
       "  _prediction : FloatTensor - size: 10\n",
       "  _pred_idx : LongTensor - size: 1\n",
       "  nclasses : 10\n",
       "  _max : FloatTensor - size: 1\n",
       "  _target : FloatTensor - empty\n",
       "  unionvalids : FloatTensor - size: 10\n",
       "  totalValid : 0.99988095238095\n",
       "}\n"
      ]
     },
     "execution_count": 9,
     "metadata": {},
     "output_type": "execute_result"
    },
    {
     "data": {
      "text/plain": [
       "==> saving model to /Users/sameh/Downloads/my_work/Kaggle - MNIST Digit Recognizer/itorch_output/model.net\t\n"
      ]
     },
     "execution_count": 9,
     "metadata": {},
     "output_type": "execute_result"
    },
    {
     "data": {
      "text/plain": [
       "==> Training on 42000 samples\t\n"
      ]
     },
     "execution_count": 9,
     "metadata": {},
     "output_type": "execute_result"
    },
    {
     "data": {
      "text/plain": [
       "==> doing epoch on training data:\t\n",
       "==> online epoch # 33 [batchSize = 1]\t\n"
      ]
     },
     "execution_count": 9,
     "metadata": {},
     "output_type": "execute_result"
    },
    {
     "name": "stdout",
     "output_type": "stream",
     "text": [
      " [=====================================================================================>]                               \b\b\b\b\b\b\b\b\b\b\b\b\b\b\b\b\b\b\b\b\b\b\b\b\b\b\b\b\b\b Tot: 8m53s | Step: 12ms\b\b\b\b\b\b\b\b\b\b\b\b\b\b\b\b\b\b\b\b\b\b\b\b\b\b\b\b\b\b\b\b\b\b\b\b\b\b\b\b\b\b\b\b\b\b\b\b\b\b\b\b\b\b\b\b\b\b\b\b\b\b\b\b\b\b\b\b\b\b\b\b "
     ]
    },
    {
     "data": {
      "text/plain": [
       "\n",
       "==> time to learn 1 sample = 12.736699166752ms\t\n",
       "ConfusionMatrix:\n",
       "[[    4132       0       0       0       0       0       0       0       0       0]   100.000% \t[class: 0]\n",
       " [       0    4684       0       0       0       0       0       0       0       0]   100.000% \t[class: 1]\n",
       " [       0       0    4177       0       0       0       0       0       0       0]   100.000% \t[class: 2]\n",
       " [       0       0       0    4349       0       1       0       0       0       1]   99.954% \t[class: 3]\n",
       " [       0       0       0       0    4071       0       0       1       0       0]   99.975% \t[class: 4]\n",
       " [       0       0       0       0       0    3795       0       0       0       0]   100.000% \t[class: 5]\n",
       " [       0       0       0       0       0       0    4137       0       0       0]   100.000% \t[class: 6]\n",
       " [       0       3       0       0       0       0       0    4398       0       0]   99.932% \t[class: 7]\n",
       " [       0       0       0       0       0       0       0       0    4063       0]   100.000% \t[class: 8]\n",
       " [       0       0       0       0       0       0       0       0       0    4188]]  100.000% \t[class: 9]\n",
       " + average row correct: 99.986131191254% \n",
       " + average rowUcol correct (VOC measure): 99.972438216209% \n",
       " + global correct: 99.985714285714%\n",
       "{\n",
       "  _mat_flat : LongTensor - size: 100\n",
       "  valids : FloatTensor - size: 10\n",
       "  mat : LongTensor - size: 10x10\n",
       "  averageUnionValid : 0.99972438216209\n",
       "  _targ_idx : LongTensor - empty\n",
       "  averageValid : 0.99986131191254\n",
       "  classes : \n",
       "    {\n",
       "      1 : 0\n",
       "      2 : 1\n",
       "      3 : 2\n"
      ]
     },
     "execution_count": 9,
     "metadata": {},
     "output_type": "execute_result"
    },
    {
     "data": {
      "text/plain": [
       "      4 : 3\n",
       "      5 : 4\n",
       "      6 : 5\n",
       "      7 : 6\n",
       "      8 : 7\n",
       "      9 : 8\n",
       "      10 : 9\n",
       "    }\n",
       "  _prediction : FloatTensor - size: 10\n",
       "  _pred_idx : LongTensor - size: 1\n",
       "  nclasses : 10\n",
       "  _max : FloatTensor - size: 1\n",
       "  _target : FloatTensor - empty\n",
       "  unionvalids : FloatTensor - size: 10\n",
       "  totalValid : 0.99985714285714\n",
       "}\n"
      ]
     },
     "execution_count": 9,
     "metadata": {},
     "output_type": "execute_result"
    },
    {
     "data": {
      "text/plain": [
       "==> saving model to /Users/sameh/Downloads/my_work/Kaggle - MNIST Digit Recognizer/itorch_output/model.net\t\n"
      ]
     },
     "execution_count": 9,
     "metadata": {},
     "output_type": "execute_result"
    },
    {
     "data": {
      "text/plain": [
       "==> Training on 42000 samples\t\n"
      ]
     },
     "execution_count": 9,
     "metadata": {},
     "output_type": "execute_result"
    },
    {
     "data": {
      "text/plain": [
       "==> doing epoch on training data:\t\n",
       "==> online epoch # 34 [batchSize = 1]\t\n"
      ]
     },
     "execution_count": 9,
     "metadata": {},
     "output_type": "execute_result"
    },
    {
     "name": "stdout",
     "output_type": "stream",
     "text": [
      " [=====================================================================================>]                               \b\b\b\b\b\b\b\b\b\b\b\b\b\b\b\b\b\b\b\b\b\b\b\b\b\b\b\b\b\b Tot: 8m53s | Step: 12ms\b\b\b\b\b\b\b\b\b\b\b\b\b\b\b\b\b\b\b\b\b\b\b\b\b\b\b\b\b\b\b\b\b\b\b\b\b\b\b\b\b\b\b\b\b\b\b\b\b\b\b\b\b\b\b\b\b\b\b\b\b\b\b\b\b\b\b\b\b\b\b\b "
     ]
    },
    {
     "data": {
      "text/plain": [
       "\n",
       "==> time to learn 1 sample = 12.735856073243ms\t\n",
       "ConfusionMatrix:\n",
       "[[    4132       0       0       0       0       0       0       0       0       0]   100.000% \t[class: 0]\n",
       " [       0    4682       0       0       0       0       0       2       0       0]   99.957% \t[class: 1]\n",
       " [       0       0    4177       0       0       0       0       0       0       0]   100.000% \t[class: 2]\n",
       " [       0       0       0    4349       0       1       0       0       0       1]   99.954% \t[class: 3]\n",
       " [       0       0       0       0    4070       0       0       1       0       1]   99.951% \t[class: 4]\n",
       " [       0       0       0       0       0    3795       0       0       0       0]   100.000% \t[class: 5]\n",
       " [       0       0       0       0       0       0    4137       0       0       0]   100.000% \t[class: 6]\n",
       " [       0       1       0       0       0       0       0    4400       0       0]   99.977% \t[class: 7]\n",
       " [       0       0       0       0       0       0       0       0    4063       0]   100.000% \t[class: 8]\n",
       " [       0       0       0       0       0       0       0       0       0    4188]]  100.000% \t[class: 9]\n",
       " + average row correct: 99.983949661255% \n",
       " + average rowUcol correct (VOC measure): 99.967598319054% \n",
       " + global correct: 99.983333333333%\n",
       "{\n",
       "  _mat_flat : LongTensor - size: 100\n",
       "  valids : FloatTensor - size: 10\n",
       "  mat : LongTensor - size: 10x10\n",
       "  averageUnionValid : 0.99967598319054\n",
       "  _targ_idx : LongTensor - empty\n",
       "  averageValid : 0.99983949661255\n",
       "  classes : \n",
       "    {\n",
       "    "
      ]
     },
     "execution_count": 9,
     "metadata": {},
     "output_type": "execute_result"
    },
    {
     "data": {
      "text/plain": [
       "  1 : 0\n",
       "      2 : 1\n",
       "      3 : 2\n",
       "      4 : 3\n",
       "      5 : 4\n",
       "      6 : 5\n",
       "      7 : 6\n",
       "      8 : 7\n",
       "      9 : 8\n",
       "      10 : 9\n",
       "    }\n",
       "  _prediction : FloatTensor - size: 10\n",
       "  _pred_idx : LongTensor - size: 1\n",
       "  nclasses : 10\n",
       "  _max : FloatTensor - size: 1\n",
       "  _target : FloatTensor - empty\n",
       "  unionvalids : FloatTensor - size: 10\n",
       "  totalValid : 0.99983333333333\n",
       "}\n"
      ]
     },
     "execution_count": 9,
     "metadata": {},
     "output_type": "execute_result"
    },
    {
     "data": {
      "text/plain": [
       "==> saving model to /Users/sameh/Downloads/my_work/Kaggle - MNIST Digit Recognizer/itorch_output/model.net\t\n"
      ]
     },
     "execution_count": 9,
     "metadata": {},
     "output_type": "execute_result"
    },
    {
     "data": {
      "text/plain": [
       "==> Training on 42000 samples\t\n",
       "==> doing epoch on training data:\t\n",
       "==> online epoch # 35 [batchSize = 1]\t\n"
      ]
     },
     "execution_count": 9,
     "metadata": {},
     "output_type": "execute_result"
    },
    {
     "name": "stdout",
     "output_type": "stream",
     "text": [
      " [=====================================================================================>]                               \b\b\b\b\b\b\b\b\b\b\b\b\b\b\b\b\b\b\b\b\b\b\b\b\b\b\b\b\b\b Tot: 8m35s | Step: 11ms\b\b\b\b\b\b\b\b\b\b\b\b\b\b\b\b\b\b\b\b\b\b\b\b\b\b\b\b\b\b\b\b\b\b\b\b\b\b\b\b\b\b\b\b\b\b\b\b\b\b\b\b\b\b\b\b\b\b\b\b\b\b\b\b\b\b\b\b\b\b\b\b "
     ]
    },
    {
     "data": {
      "text/plain": [
       "\n",
       "==> time to learn 1 sample = 12.285333071436ms\t\n",
       "ConfusionMatrix:\n",
       "[[    4132       0       0       0       0       0       0       0       0       0]   100.000% \t[class: 0]\n",
       " [       0    4684       0       0       0       0       0       0       0       0]   100.000% \t[class: 1]\n",
       " [       0       0    4177       0       0       0       0       0       0       0]   100.000% \t[class: 2]\n",
       " [       0       0       0    4349       0       1       0       0       0       1]   99.954% \t[class: 3]\n",
       " [       0       0       0       0    4070       0       0       1       0       1]   99.951% \t[class: 4]\n",
       " [       0       0       0       0       0    3795       0       0       0       0]   100.000% \t[class: 5]\n",
       " [       0       0       0       0       0       0    4137       0       0       0]   100.000% \t[class: 6]\n",
       " [       0       1       0       0       0       0       0    4400       0       0]   99.977% \t[class: 7]\n",
       " [       0       0       0       0       0       0       0       0    4063       0]   100.000% \t[class: 8]\n",
       " [       0       0       0       0       0       0       0       0       0    4188]]  100.000% \t[class: 9]\n",
       " + average row correct: 99.988219738007% \n",
       " + average rowUcol correct (VOC measure): 99.976406097412% \n",
       " + global correct: 99.988095238095%\n",
       "{\n",
       "  _mat_flat : LongTensor - size: 100\n",
       "  valids : FloatTensor - size: 10\n",
       "  mat : LongTensor - size: 10x10\n",
       "  averageUnionValid : 0.99976406097412\n",
       "  _targ_idx : LongTensor - empty\n",
       "  averageValid : 0.99988219738007\n",
       "  classes : \n",
       "    {\n",
       "      1 : 0\n",
       "      2 : 1\n",
       "      3 : 2\n",
       "      4 : 3\n",
       "      5 : 4\n",
       "      6 : 5\n",
       "      7 : 6\n",
       "      8 : 7\n",
       "      9 : 8\n",
       "      10 : 9\n",
       "    }\n",
       "  _prediction : FloatTensor - size: 10\n",
       "  _pred_idx : LongTensor - size: 1\n",
       "  nclasses : 10\n",
       "  _max : FloatTensor - size: 1\n",
       "  _target : FloatTensor - empty\n",
       "  unionvalids : FloatTensor - size: 10\n",
       "  totalValid : 0.99988095238095\n",
       "}\n"
      ]
     },
     "execution_count": 9,
     "metadata": {},
     "output_type": "execute_result"
    },
    {
     "data": {
      "text/plain": [
       "==> saving model to /Users/sameh/Downloads/my_work/Kaggle - MNIST Digit Recognizer/itorch_output/model.net\t\n"
      ]
     },
     "execution_count": 9,
     "metadata": {},
     "output_type": "execute_result"
    },
    {
     "data": {
      "text/plain": [
       "==> Training on 42000 samples\t\n",
       "==> doing epoch on training data:\t\n",
       "==> online epoch # 36 [batchSize = 1]\t\n"
      ]
     },
     "execution_count": 9,
     "metadata": {},
     "output_type": "execute_result"
    },
    {
     "name": "stdout",
     "output_type": "stream",
     "text": [
      " [=====================================================================================>]                               \b\b\b\b\b\b\b\b\b\b\b\b\b\b\b\b\b\b\b\b\b\b\b\b\b\b\b\b\b\b Tot: 8m27s | Step: 12ms\b\b\b\b\b\b\b\b\b\b\b\b\b\b\b\b\b\b\b\b\b\b\b\b\b\b\b\b\b\b\b\b\b\b\b\b\b\b\b\b\b\b\b\b\b\b\b\b\b\b\b\b\b\b\b\b\b\b\b\b\b\b\b\b\b\b\b\b\b\b\b\b "
     ]
    },
    {
     "data": {
      "text/plain": [
       "\n",
       "==> time to learn 1 sample = 12.113626639048ms\t\n",
       "ConfusionMatrix:\n",
       "[[    4132       0       0       0       0       0       0       0       0       0]   100.000% \t[class: 0]\n",
       " [       0    4683       0       0       0       0       0       1       0       0]   99.979% \t[class: 1]\n",
       " [       0       0    4177       0       0       0       0       0       0       0]   100.000% \t[class: 2]\n",
       " [       0       0       0    4350       0       0       0       0       0       1]   99.977% \t[class: 3]\n",
       " [       0       0       0       0    4071       0       0       1       0       0]   99.975% \t[class: 4]\n",
       " [       0       0       0       0       0    3795       0       0       0       0]   100.000% \t[class: 5]\n",
       " [       0       0       0       0       0       0    4137       0       0       0]   100.000% \t[class: 6]\n",
       " [       0       3       0       0       0       0       0    4398       0       0]   99.932% \t[class: 7]\n",
       " [       0       0       0       0       0       0       0       0    4063       0]   100.000% \t[class: 8]\n",
       " [       0       0       0       0       0       0       0       0       0    4188]]  100.000% \t[class: 9]\n",
       " + average row correct: 99.98629450798% \n",
       " + average rowUcol correct (VOC measure): 99.972968697548% \n",
       " + global correct: 99.985714285714%\n",
       "{\n",
       "  _mat_flat : LongTensor - size: 100\n",
       "  valids : FloatTensor - size: 10\n",
       "  mat : LongTensor - size: 10x10\n",
       "  averageUnionValid : 0.99972968697548\n",
       "  _targ_idx : LongTensor - empty\n",
       "  averageValid : 0.9998629450798\n",
       "  classes : \n",
       "    {\n",
       "      1 : 0\n",
       "      2 : 1\n",
       "      3 : 2\n",
       "      4 : 3\n",
       "      5 : 4\n",
       "      6 : 5\n",
       "      7 : 6\n",
       "      8 : 7\n",
       "      9 : 8\n",
       "      10 : 9\n",
       "    }\n",
       "  _prediction : FloatTensor - size: 10\n",
       "  _pred_idx : LongTensor - size: 1\n",
       "  nclasses : 10\n",
       "  _max : FloatTensor - size: 1\n",
       "  _target : FloatTensor - empty\n",
       "  unionvalids : FloatTensor - size: 10\n",
       "  totalValid : 0.99985714285714\n",
       "}\n"
      ]
     },
     "execution_count": 9,
     "metadata": {},
     "output_type": "execute_result"
    },
    {
     "data": {
      "text/plain": [
       "==> saving model to /Users/sameh/Downloads/my_work/Kaggle - MNIST Digit Recognizer/itorch_output/model.net\t\n"
      ]
     },
     "execution_count": 9,
     "metadata": {},
     "output_type": "execute_result"
    },
    {
     "data": {
      "text/plain": [
       "==> Training on 42000 samples\t\n"
      ]
     },
     "execution_count": 9,
     "metadata": {},
     "output_type": "execute_result"
    },
    {
     "data": {
      "text/plain": [
       "==> doing epoch on training data:\t\n",
       "==> online epoch # 37 [batchSize = 1]\t\n"
      ]
     },
     "execution_count": 9,
     "metadata": {},
     "output_type": "execute_result"
    },
    {
     "name": "stdout",
     "output_type": "stream",
     "text": [
      " [=====================================================================================>]                               \b\b\b\b\b\b\b\b\b\b\b\b\b\b\b\b\b\b\b\b\b\b\b\b\b\b\b\b\b\b Tot: 8m39s | Step: 12ms\b\b\b\b\b\b\b\b\b\b\b\b\b\b\b\b\b\b\b\b\b\b\b\b\b\b\b\b\b\b\b\b\b\b\b\b\b\b\b\b\b\b\b\b\b\b\b\b\b\b\b\b\b\b\b\b\b\b\b\b\b\b\b\b\b\b\b\b\b\b\b\b "
     ]
    },
    {
     "data": {
      "text/plain": [
       "\n",
       "==> time to learn 1 sample = 12.390447593871ms\t\n",
       "ConfusionMatrix:\n",
       "[[    4132       0       0       0       0       0       0       0       0       0]   100.000% \t[class: 0]\n",
       " [       0    4683       0       0       0       0       0       1       0       0]   99.979% \t[class: 1]\n",
       " [       0       0    4177       0       0       0       0       0       0       0]   100.000% \t[class: 2]\n",
       " [       0       0       0    4350       0       0       0       0       0       1]   99.977% \t[class: 3]\n",
       " [       0       0       0       0    4071       0       0       1       0       0]   99.975% \t[class: 4]\n",
       " [       0       0       0       0       0    3795       0       0       0       0]   100.000% \t[class: 5]\n",
       " [       0       0       0       0       0       0    4137       0       0       0]   100.000% \t[class: 6]\n",
       " [       0       1       0       0       0       0       0    4400       0       0]   99.977% \t[class: 7]\n",
       " [       0       0       0       0       0       0       0       0    4063       0]   100.000% \t[class: 8]\n",
       " [       0       0       0       0       0       0       0       0       0    4188]]  100.000% \t[class: 9]\n",
       " + average row correct: 99.990838766098% \n",
       " + average rowUcol correct (VOC measure): 99.981776475906% \n",
       " + global correct: 99.990476190476%\n",
       "{\n",
       "  _mat_flat : LongTensor - size: 100\n",
       "  valids : FloatTensor - size: 10\n",
       "  mat : LongTensor - size: 10x10\n",
       "  averageUnionValid : 0.99981776475906\n",
       "  _targ_idx : LongTensor - empty\n",
       "  averageValid : 0.99990838766098\n",
       "  classes : \n",
       "    {\n",
       "      1 : 0\n",
       "      2 : 1\n",
       "      3 : 2\n",
       "      4 : 3\n",
       "      5 : 4\n",
       "      6 : 5\n",
       "      7 : 6\n",
       "      8 : 7\n",
       "      9 : 8\n",
       "      10 : 9\n",
       "    }\n",
       "  _prediction : FloatTensor - size: 10\n",
       "  _pred_idx : LongTensor - size: 1\n",
       "  nclasses : 10\n",
       "  _max : FloatTensor - size: 1\n",
       "  _target : FloatTensor - empty\n",
       "  unionvalids : FloatTensor - size: 10\n",
       "  totalValid : 0.99990476190476\n",
       "}\n"
      ]
     },
     "execution_count": 9,
     "metadata": {},
     "output_type": "execute_result"
    },
    {
     "data": {
      "text/plain": [
       "==> saving model to /Users/sameh/Downloads/my_work/Kaggle - MNIST Digit Recognizer/itorch_output/model.net\t\n"
      ]
     },
     "execution_count": 9,
     "metadata": {},
     "output_type": "execute_result"
    },
    {
     "data": {
      "text/plain": [
       "==> Training on 42000 samples\t\n",
       "==> doing epoch on training data:\t\n",
       "==> online epoch # 38 [batchSize = 1]\t\n"
      ]
     },
     "execution_count": 9,
     "metadata": {},
     "output_type": "execute_result"
    },
    {
     "name": "stdout",
     "output_type": "stream",
     "text": [
      " [=====================================================================================>]                               \b\b\b\b\b\b\b\b\b\b\b\b\b\b\b\b\b\b\b\b\b\b\b\b\b\b\b\b\b\b Tot: 8m39s | Step: 12ms\b\b\b\b\b\b\b\b\b\b\b\b\b\b\b\b\b\b\b\b\b\b\b\b\b\b\b\b\b\b\b\b\b\b\b\b\b\b\b\b\b\b\b\b\b\b\b\b\b\b\b\b\b\b\b\b\b\b\b\b\b\b\b\b\b\b\b\b\b\b\b\b "
     ]
    },
    {
     "data": {
      "text/plain": [
       "\n",
       "==> time to learn 1 sample = 12.388263021197ms\t\n",
       "ConfusionMatrix:\n",
       "[[    4132       0       0       0       0       0       0       0       0       0]   100.000% \t[class: 0]\n",
       " [       0    4682       0       0       0       0       0       2       0       0]   99.957% \t[class: 1]\n",
       " [       0       0    4177       0       0       0       0       0       0       0]   100.000% \t[class: 2]\n",
       " [       0       0       0    4350       0       0       0       0       0       1]   99.977% \t[class: 3]\n",
       " [       0       0       0       0    4071       0       0       1       0       0]   99.975% \t[class: 4]\n",
       " [       0       0       0       0       0    3795       0       0       0       0]   100.000% \t[class: 5]\n",
       " [       0       0       0       0       0       0    4137       0       0       0]   100.000% \t[class: 6]\n",
       " [       0       2       0       0       0       0       0    4399       0       0]   99.955% \t[class: 7]\n",
       " [       0       0       0       0       0       0       0       0    4063       0]   100.000% \t[class: 8]\n",
       " [       0       0       0       0       0       0       0       0       0    4188]]  100.000% \t[class: 9]\n",
       " + average row correct: 99.986431598663% \n",
       " + average rowUcol correct (VOC measure): 99.972969293594% \n",
       " + global correct: 99.985714285714%\n",
       "{\n",
       "  _mat_flat : LongTensor - size: 100\n",
       "  valids : FloatTensor - size: 10\n",
       "  mat : LongTensor - size: 10x10\n",
       "  averageUnionValid : 0.99972969293594\n",
       "  _targ_idx : LongTensor - empty\n",
       "  averageValid : 0.99986431598663\n",
       "  classes : \n",
       "    {\n",
       "      1 : 0\n",
       "      2 : 1\n",
       "      3 : 2\n",
       "      4 : 3\n",
       "      5 : 4\n",
       "      6 : 5\n",
       "      7 : 6\n",
       "      8 : 7\n",
       "      9 : 8\n",
       "      10 : 9\n",
       "    }\n",
       "  _prediction : FloatTensor - size: 10\n",
       "  _pred_idx : LongTensor - size: 1\n",
       "  nclasses : 10\n",
       "  _max : FloatTensor - size: 1\n",
       "  _target : FloatTensor - empty\n",
       "  unionvalids : FloatTensor - size: 10\n",
       "  totalValid : 0.99985714285714\n",
       "}\n"
      ]
     },
     "execution_count": 9,
     "metadata": {},
     "output_type": "execute_result"
    },
    {
     "data": {
      "text/plain": [
       "==> saving model to /Users/sameh/Downloads/my_work/Kaggle - MNIST Digit Recognizer/itorch_output/model.net\t\n"
      ]
     },
     "execution_count": 9,
     "metadata": {},
     "output_type": "execute_result"
    },
    {
     "data": {
      "text/plain": [
       "==> Training on 42000 samples\t\n",
       "==> doing epoch on training data:\t\n",
       "==> online epoch # 39 [batchSize = 1]\t\n"
      ]
     },
     "execution_count": 9,
     "metadata": {},
     "output_type": "execute_result"
    },
    {
     "name": "stdout",
     "output_type": "stream",
     "text": [
      " [=====================================================================================>]                               \b\b\b\b\b\b\b\b\b\b\b\b\b\b\b\b\b\b\b\b\b\b\b\b\b\b\b\b\b\b Tot: 8m46s | Step: 12ms\b\b\b\b\b\b\b\b\b\b\b\b\b\b\b\b\b\b\b\b\b\b\b\b\b\b\b\b\b\b\b\b\b\b\b\b\b\b\b\b\b\b\b\b\b\b\b\b\b\b\b\b\b\b\b\b\b\b\b\b\b\b\b\b\b\b\b\b\b\b\b\b "
     ]
    },
    {
     "data": {
      "text/plain": [
       "\n",
       "==> time to learn 1 sample = 12.566532810529ms\t\n",
       "ConfusionMatrix:\n",
       "[[    4132       0       0       0       0       0       0       0       0       0]   100.000% \t[class: 0]\n",
       " [       0    4683       0       0       0       0       0       1       0       0]   99.979% \t[class: 1]\n",
       " [       0       0    4177       0       0       0       0       0       0       0]   100.000% \t[class: 2]\n",
       " [       0       0       0    4351       0       0       0       0       0       0]   100.000% \t[class: 3]\n",
       " [       0       0       0       0    4071       0       0       1       0       0]   99.975% \t[class: 4]\n",
       " [       0       0       0       0       0    3795       0       0       0       0]   100.000% \t[class: 5]\n",
       " [       0       0       0       0       0       0    4137       0       0       0]   100.000% \t[class: 6]\n",
       " [       0       1       0       0       0       0       0    4400       0       0]   99.977% \t[class: 7]\n",
       " [       0       0       0       0       0       0       0       0    4063       0]   100.000% \t[class: 8]\n",
       " [       0       0       0       0       0       0       0       0       0    4188]]  100.000% \t[class: 9]\n",
       " + average row correct: 99.993137121201% \n",
       " + average rowUcol correct (VOC measure): 99.986461997032% \n",
       " + global correct: 99.992857142857%\n",
       "{\n",
       "  _mat_flat : LongTensor - size: 100\n",
       "  valids : FloatTensor - size: 10\n",
       "  mat : LongTensor - size: 10x10\n",
       "  averageUnionValid : 0.99986461997032\n",
       "  _targ_idx : LongTensor - empty\n",
       "  averageValid : 0.99993137121201\n",
       "  classes : \n",
       "    {\n",
       "      1 : 0\n",
       "      2 : 1\n",
       "      3 : 2\n",
       "      4 : 3\n",
       "      5 : 4\n",
       "      6 : 5\n",
       "      7 : 6\n",
       "      8 : 7\n",
       "      9 : 8\n",
       "      10 : 9\n",
       "    }\n",
       "  _prediction : FloatTensor - size: 10\n",
       "  _pred_idx : LongTensor - size: 1\n",
       "  nclasses : 10\n",
       "  _max : FloatTensor - size: 1\n",
       "  _target : FloatTensor - empty\n",
       "  unionvalids : FloatTensor - size: 10\n",
       "  totalValid : 0.99992857142857\n",
       "}\n"
      ]
     },
     "execution_count": 9,
     "metadata": {},
     "output_type": "execute_result"
    },
    {
     "data": {
      "text/plain": [
       "==> saving model to /Users/sameh/Downloads/my_work/Kaggle - MNIST Digit Recognizer/itorch_output/model.net\t\n"
      ]
     },
     "execution_count": 9,
     "metadata": {},
     "output_type": "execute_result"
    },
    {
     "data": {
      "text/plain": [
       "==> Training on 42000 samples\t\n",
       "==> doing epoch on training data:\t\n",
       "==> online epoch # 40 [batchSize = 1]\t\n"
      ]
     },
     "execution_count": 9,
     "metadata": {},
     "output_type": "execute_result"
    },
    {
     "name": "stdout",
     "output_type": "stream",
     "text": [
      " [=====================================================================================>]                               \b\b\b\b\b\b\b\b\b\b\b\b\b\b\b\b\b\b\b\b\b\b\b\b\b\b\b\b\b\b Tot: 8m43s | Step: 12ms\b\b\b\b\b\b\b\b\b\b\b\b\b\b\b\b\b\b\b\b\b\b\b\b\b\b\b\b\b\b\b\b\b\b\b\b\b\b\b\b\b\b\b\b\b\b\b\b\b\b\b\b\b\b\b\b\b\b\b\b\b\b\b\b\b\b\b\b\b\b\b\b "
     ]
    },
    {
     "data": {
      "text/plain": [
       "\n",
       "==> time to learn 1 sample = 12.48237369174ms\t\n",
       "ConfusionMatrix:\n",
       "[[    4132       0       0       0       0       0       0       0       0       0]   100.000% \t[class: 0]\n",
       " [       0    4681       0       0       0       0       0       3       0       0]   99.936% \t[class: 1]\n",
       " [       0       0    4177       0       0       0       0       0       0       0]   100.000% \t[class: 2]\n",
       " [       0       0       0    4350       0       0       0       0       0       1]   99.977% \t[class: 3]\n",
       " [       0       0       0       0    4071       0       0       1       0       0]   99.975% \t[class: 4]\n",
       " [       0       0       0       0       0    3795       0       0       0       0]   100.000% \t[class: 5]\n",
       " [       0       0       0       0       0       0    4137       0       0       0]   100.000% \t[class: 6]\n",
       " [       0       2       0       0       0       0       0    4399       0       0]   99.955% \t[class: 7]\n",
       " [       0       0       0       0       0       0       0       0    4063       0]   100.000% \t[class: 8]\n",
       " [       0       0       0       0       0       0       0       0       0    4188]]  100.000% \t[class: 9]\n",
       " + average row correct: 99.984297156334% \n",
       " + average rowUcol correct (VOC measure): 99.968568086624% \n",
       " + global correct: 99.983333333333%\n",
       "{\n",
       "  _mat_flat : LongTensor - size: 100\n",
       "  valids : FloatTensor - size: 10\n",
       "  mat : LongTensor - size: 10x10\n",
       "  averageUnionValid : 0.99968568086624\n",
       "  _targ_idx : LongTensor - empty\n",
       "  averageValid : 0.99984297156334\n",
       "  classes : \n",
       "    {\n",
       "      1 : 0\n",
       "      2 : 1\n",
       "      3 : 2\n",
       "      4 : 3\n",
       "      5 : 4\n",
       "      6 : 5\n",
       "      7 : 6\n",
       "      8 : 7\n",
       "      9 : 8\n",
       "      10 : 9\n",
       "    }\n",
       "  _prediction : FloatTensor - size: 10\n",
       "  _pred_idx : LongTensor - size: 1\n",
       "  nclasses : 10\n",
       "  _max : FloatTensor - size: 1\n",
       "  _target : FloatTensor - empty\n",
       "  unionvalids : FloatTensor - size: 10\n",
       "  totalValid : 0.99983333333333\n",
       "}\n"
      ]
     },
     "execution_count": 9,
     "metadata": {},
     "output_type": "execute_result"
    },
    {
     "data": {
      "text/plain": [
       "==> saving model to /Users/sameh/Downloads/my_work/Kaggle - MNIST Digit Recognizer/itorch_output/model.net\t\n"
      ]
     },
     "execution_count": 9,
     "metadata": {},
     "output_type": "execute_result"
    },
    {
     "data": {
      "text/plain": [
       "==> testing!\t\n",
       "==> Testing on 28000 samples\t\n",
       "==> Writing prediction to CSV file:\t\n"
      ]
     },
     "execution_count": 9,
     "metadata": {},
     "output_type": "execute_result"
    },
    {
     "name": "stdout",
     "output_type": "stream",
     "text": [
      " [=====================================================================================>]                               \b\b\b\b\b\b\b\b\b\b\b\b\b\b\b\b\b\b\b\b\b\b\b\b\b\b\b\b\b\b Tot: 1m57s | Step: 4ms\b\b\b\b\b\b\b\b\b\b\b\b\b\b\b\b\b\b\b\b\b\b\b\b\b\b\b\b\b\b\b\b\b\b\b\b\b\b\b\b\b\b\b\b\b\b\b\b\b\b\b\b\b\b\b\b\b\b\b\b\b\b\b\b\b\b\b\b\b\b\b "
     ]
    },
    {
     "data": {
      "text/plain": [
       "\n",
       "==> time to test 1 sample = 4.2459199343409ms\t\n",
       "<csv>\twriting to file: /Users/sameh/Downloads/my_work/Kaggle - MNIST Digit Recognizer/itorch_output/output.csv\t\n"
      ]
     },
     "execution_count": 9,
     "metadata": {},
     "output_type": "execute_result"
    },
    {
     "data": {
      "text/plain": [
       "<csv>\twriting done\t\n"
      ]
     },
     "execution_count": 9,
     "metadata": {},
     "output_type": "execute_result"
    }
   ],
   "source": [
    "----------------------------------------------------------------------\n",
    "print '==> training!'\n",
    "\n",
    "for i =1,40 do\n",
    "    train()\n",
    "end\n",
    "\n",
    "----------------------------------------------------------------------\n",
    "print '==> testing!'\n",
    "test()"
   ]
  }
 ],
 "metadata": {
  "anaconda-cloud": {},
  "kernelspec": {
   "display_name": "iTorch",
   "language": "lua",
   "name": "itorch"
  },
  "language_info": {
   "name": "lua",
   "version": "5.1"
  }
 },
 "nbformat": 4,
 "nbformat_minor": 0
}
