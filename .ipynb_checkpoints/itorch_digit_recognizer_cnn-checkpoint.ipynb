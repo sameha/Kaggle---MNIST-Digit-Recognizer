{
 "cells": [
  {
   "cell_type": "markdown",
   "metadata": {},
   "source": [
    "# Kaggle - MNIST Digit Recognizer\n",
    "\n",
    "The goal in this competition is to take an image of a handwritten single digit, and determine what that digit is.\n",
    "\n",
    "The code heavily used the [Supervised Torch7 Tutorial](https://github.com/torch/tutorials/tree/master/2_supervised) by **Clement Farabet**, several thanks to him are in order.\n",
    "\n",
    "In the Kaggle competition, CNN got the following results:\n",
    "* 10 training loops got 99.286% for a 148 poistion\n",
    "* 20 training loops got 99.414% for a 114 poistion\n",
    "\n",
    "The project demonstrates how to:\n",
    "* Load and preprocess the data, to facilitate learning\n",
    "* Describe a CNN model to solve a classification task\n",
    "* Choose a loss function to minimize error\n",
    "* Apply an optimization techniques to train the model's parameters\n",
    "* Estimate the model's performance on unseen verification data\n",
    "\n",
    "Resources:\n",
    "- [Classify handwritten digits using the famous MNIST data](https://www.kaggle.com/c/digit-recognizer)\n",
    "- [Machine Learning with Torch7 (Code)](https://github.com/torch/tutorials)"
   ]
  },
  {
   "cell_type": "code",
   "execution_count": 1,
   "metadata": {
    "collapsed": false
   },
   "outputs": [
    {
     "data": {
      "text/plain": [
       "==> processing options\t\n",
       "opt.size: how many samples do we load: (small) (10k training, 2k testing) | full (42k training, 28k testing)\t\n",
       "opt.visualize: visualize input data and weights during training: (true) | false\t\n",
       "opt.seed: fixed input seed for repeatable experiments: (1)\t\n",
       "opt.threads: number of threads: (8)\t\n",
       "opt.model: type of model to construct: linear | mlp | (convnet)\t\n",
       "opt.loss: type of loss function to minimize: (nll) | mse | margin\t\n",
       "opt.save: subdirectory to save/log experiments in: (itorch_output)\t\n",
       "opt.plot: live plot: (true) | false\t\n",
       "opt.optimization: optimization method: (SGD) | ASGD | CG | LBFGS\t\n",
       "opt.learningRate: learning rate at t=0: (1e-3)\t\n",
       "opt.batchSize: mini-batch size (1 = pure stochastic): (1)\t\n",
       "opt.weightDecay: weight decay (SGD only): (0)\t\n",
       "opt.momentum: momentum (SGD only): (0)\t\n",
       "opt.t0: start averaging at t0 (ASGD only), in nb of epochs: (1)\t\n",
       "opt.maxIter: maximum nb of iterations for CG and LBFGS: (2)\t\n",
       "opt.type: (double) | float | cuda\t\n",
       "{\n",
       "  weightDecay : 0\n",
       "  maxIter : 2\n",
       "  seed : 1\n",
       "  momentum : 0\n",
       "  t0 : 1\n",
       "  loss : nll\n",
       "  type : double\n",
       "  batchSize : 1\n",
       "  visualize : true\n",
       "  learningRate : 0.001\n",
       "  threads : 8\n",
       "  plot : true\n",
       "  save : ./itorch_output\n",
       "  size : full\n",
       "  optimization : SGD\n",
       "  model : convnet\n",
       "}\n"
      ]
     },
     "execution_count": 1,
     "metadata": {},
     "output_type": "execute_result"
    }
   ],
   "source": [
    "----------------------------------------------------------------------\n",
    "-- This script demonstrates how to load the MNIST digits \n",
    "-- training data, and pre-process it to facilitate learning.\n",
    "--\n",
    "-- The MNIST is a typical example of supervised training dataset.\n",
    "-- The problem to solve is a 10-class classification problem.\n",
    "--\n",
    "-- Sameh Awaida\n",
    "----------------------------------------------------------------------\n",
    "require 'torch'   -- torch\n",
    "require 'image'   -- for color transforms\n",
    "require 'nn'      -- provides a normalization operator\n",
    "require 'paths'   -- checking if file exists\n",
    "require 'xlua'    -- xlua provides useful tools, like progress bars\n",
    "require 'optim'   -- an optimization package, for online and batch methods\n",
    "require 'csvigo'  -- a package to handle CSV files (read and write)\n",
    "\n",
    "----------------------------------------------------------------------\n",
    "opt = {}\n",
    "print '==> processing options'\n",
    "print('opt.size: how many samples do we load: (small) (10k training, 2k testing) | full (42k training, 28k testing)')\n",
    "print('opt.visualize: visualize input data and weights during training: (true) | false')\n",
    "print('opt.seed: fixed input seed for repeatable experiments: (1)')\n",
    "print('opt.threads: number of threads: (8)')\n",
    "print('opt.model: type of model to construct: linear | mlp | (convnet)')\n",
    "print('opt.loss: type of loss function to minimize: (nll) | mse | margin')\n",
    "print('opt.save: subdirectory to save/log experiments in: (itorch_output)')\n",
    "print('opt.plot: live plot: (true) | false')\n",
    "print('opt.optimization: optimization method: (SGD) | ASGD | CG | LBFGS')\n",
    "print('opt.learningRate: learning rate at t=0: (1e-3)')\n",
    "print('opt.batchSize: mini-batch size (1 = pure stochastic): (1)')\n",
    "print('opt.weightDecay: weight decay (SGD only): (0)')\n",
    "print('opt.momentum: momentum (SGD only): (0)')\n",
    "print('opt.t0: start averaging at t0 (ASGD only), in nb of epochs: (1)')\n",
    "print('opt.maxIter: maximum nb of iterations for CG and LBFGS: (2)')\n",
    "print('opt.type: (double) | float | cuda')\n",
    "\n",
    "opt.size = 'full'\n",
    "opt.visualize = true\n",
    "opt.seed = 1\n",
    "opt.threads = 8\n",
    "opt.model = 'convnet'\n",
    "opt.loss = 'nll'\n",
    "opt.save = './itorch_output'\n",
    "opt.plot = true\n",
    "opt.optimization = 'SGD'\n",
    "opt.learningRate = 1e-3\n",
    "opt.batchSize = 1\n",
    "opt.weightDecay = 0\n",
    "opt.momentum = 0\n",
    "opt.t0 = 1\n",
    "opt.maxIter = 2\n",
    "opt.type = 'double'\n",
    "\n",
    "print(opt)\n",
    "\n",
    "-- nb of threads and fixed seed (for repeatable experiments)\n",
    "if opt.type == 'float' then\n",
    "   print('==> switching to floats')\n",
    "   torch.setdefaulttensortype('torch.FloatTensor')\n",
    "elseif opt.type == 'cuda' then\n",
    "   print('==> switching to CUDA')\n",
    "   require 'cunn'\n",
    "   torch.setdefaulttensortype('torch.FloatTensor')\n",
    "end\n",
    "torch.setnumthreads(opt.threads)\n",
    "torch.manualSeed(opt.seed)"
   ]
  },
  {
   "cell_type": "markdown",
   "metadata": {},
   "source": [
    "## Step 1: Data\n",
    "\n",
    "The data for this competition were taken from the [MNIST dataset](http://yann.lecun.com/exdb/mnist/index.html). The MNIST (\"Modified National Institute of Standards and Technology\") dataset is a classic within the Machine Learning community that has been extensively studied.\n",
    "\n",
    "Each image is 28 pixels in height and 28 pixels in width, for a total of 784 pixels in total. Each pixel has a single pixel-value associated with it, indicating the lightness or darkness of that pixel, with higher numbers meaning darker. This pixel-value is an integer between 0 and 255, inclusive.\n",
    "\n",
    "The training data set, (train.csv), has 785 columns. The first column, called \"label\", is the digit that was drawn by the user. The rest of the columns contain the pixel-values of the associated image.\n",
    "\n",
    "Each pixel column in the training set has a name like pixelx, where x is an integer between 0 and 783, inclusive. To locate this pixel on the image, suppose that we have decomposed x as x = i * 28 + j, where i and j are integers between 0 and 27, inclusive. Then pixelx is located on row i and column j of a 28 x 28 matrix, (indexing by zero).\n",
    "\n",
    "The test data set, (test.csv), is the same as the training set, except that it does not contain the \"label\" column.\n",
    "\n",
    "Overview of the dataset:\n",
    "\n",
    "- 10 classes, 1 for each digit. Digit '1' has label 1, '9' has label 9 and '0' has label 0.\n",
    "- 42000 digits for training, 28000 digits for testing.\n",
    "- The inputs (images) are 1x28x28 centered around a single digit.\n",
    "- The outputs (targets) are 10-dimensional"
   ]
  },
  {
   "cell_type": "code",
   "execution_count": 2,
   "metadata": {
    "collapsed": false
   },
   "outputs": [
    {
     "data": {
      "text/plain": [
       "==> downloading dataset\t\n",
       "==> loading dataset\t\n",
       "Using full dataset\t\n"
      ]
     },
     "execution_count": 2,
     "metadata": {},
     "output_type": "execute_result"
    },
    {
     "data": {
      "text/plain": [
       "Print samples of training dataset\t\n"
      ]
     },
     "execution_count": 2,
     "metadata": {},
     "output_type": "execute_result"
    },
    {
     "data": {
      "image/png": "[encoded data removed]",
      "text/plain": [
       "Console does not support images"
      ]
     },
     "metadata": {
      "image/png": {
       "height": 68,
       "width": 204
      }
     },
     "output_type": "display_data"
    },
    {
     "data": {
      "text/plain": [
       " 2\n",
       " 1\n",
       " 2\n",
       " 5\n",
       " 1\n",
       " 1\n",
       " 8\n",
       " 4\n",
       "[torch.DoubleTensor of size 8]\n",
       "\n",
       "Print samples of testing dataset\t\n"
      ]
     },
     "execution_count": 2,
     "metadata": {},
     "output_type": "execute_result"
    },
    {
     "data": {
      "image/png": "[encoded data removed]",
      "text/plain": [
       "Console does not support images"
      ]
     },
     "metadata": {
      "image/png": {
       "height": 68,
       "width": 204
      }
     },
     "output_type": "display_data"
    }
   ],
   "source": [
    "print '==> downloading dataset'\n",
    "\n",
    "-- Here we download dataset files. \n",
    "\n",
    "-- Note: files were converted from their original Matlab format\n",
    "-- to Torch's internal format using the mattorch package. The\n",
    "-- mattorch package allows 1-to-1 conversion between Torch and Matlab\n",
    "-- files.\n",
    "\n",
    "-- The MNIST dataset contains 2 files:\n",
    "--    + train: training data\n",
    "--    + test:  test data\n",
    "classes = {'0', '1', '2', '3', '4', '5', '6', '7', '8', '9'}\n",
    "torch_file_train = 'input/train_32x32.t7'\n",
    "torch_file_test = 'input/test_32x32.t7'\n",
    "csv_file_train = 'input/train.csv'\n",
    "csv_file_test = 'input/test.csv'\n",
    "\n",
    "-- Save training tensor variable\n",
    "if (not paths.filep(torch_file_train)) then\n",
    "    if (not paths.filep(csv_file_train)) then\n",
    "        os.execute('wget https://www.kaggle.com/c/digit-recognizer/download/train.csv')\n",
    "    end\n",
    "    local trainSetOriginal = csvigo.load{path=csv_file_train, mode='raw'}\n",
    "    local nTrainingSamples = #trainSetOriginal - 1\n",
    "    local trainFeatures32x32 = torch.Tensor(nTrainingSamples, 1, 32, 32)\n",
    "    local trainLabels = torch.Tensor(nTrainingSamples):zero()\n",
    "    for i = 1, nTrainingSamples do\n",
    "        local labelSample = table.remove(trainSetOriginal[i + 1], 1)\n",
    "        local featuresSample = torch.Tensor(trainSetOriginal[i + 1]):reshape(1, 28, 28)\n",
    "        trainFeatures32x32[i]:narrow(2, 3, 28):narrow(3, 3, 28):copy(featuresSample)\n",
    "        trainLabels[i] = labelSample + 1\n",
    "    end\n",
    "    torch.save(torch_file_train, {trainFeatures32x32, trainLabels})\n",
    "end\n",
    "\n",
    "-- Save testing tensor variable\n",
    "if (not paths.filep(torch_file_test)) then\n",
    "    if (not paths.filep(csv_file_test)) then\n",
    "        os.execute('wget https://www.kaggle.com/c/digit-recognizer/download/test.csv')\n",
    "    end\n",
    "    local testSetOriginal = csvigo.load{path=csv_file_test, mode='raw'}\n",
    "    local nTestSamples = #testSetOriginal - 1\n",
    "    local testFeatures32x32 = torch.Tensor(nTestSamples, 1, 32, 32)\n",
    "    for i = 1, nTestSamples do\n",
    "        local featuresSample = torch.Tensor(testSetOriginal[i + 1]):reshape(1, 28, 28)\n",
    "        testFeatures32x32[i]:narrow(2, 3, 28):narrow(3, 3, 28):copy(featuresSample)\n",
    "    end\n",
    "    torch.save(torch_file_test, testFeatures32x32)\n",
    "end\n",
    "\n",
    "\n",
    "----------------------------------------------------------------------\n",
    "print '==> loading dataset'\n",
    "\n",
    "\n",
    "if (opt.size == 'small') then\n",
    "    train_size = 10000\n",
    "    test_size = 2000\n",
    "    print 'Using small dataset'\n",
    "elseif (opt.size == 'full') then\n",
    "    train_size = 42000\n",
    "    test_size = 28000  \n",
    "    print 'Using full dataset'\n",
    "end\n",
    "\n",
    "-- Load the training dataset\n",
    "raw_data = torch.load(torch_file_train)\n",
    "trainSet = {\n",
    "    data = raw_data[1],\n",
    "    labels = raw_data[2],\n",
    "    size = function() return train_size end\n",
    "}\n",
    "\n",
    "-- Load the testing dataset\n",
    "raw_data = torch.load(torch_file_test)\n",
    "testSet = {\n",
    "    data = raw_data,\n",
    "    size = function() return test_size end\n",
    "}\n",
    "\n",
    "-- Print sample of training and testing set\n",
    "if opt.visualize then\n",
    "    if itorch then\n",
    "        print 'Print samples of training dataset'\n",
    "        first8TrainingSamples = trainSet.data[{ {1,8},{1},{},{}}]\n",
    "        itorch.image(first8TrainingSamples)\n",
    "        print(trainSet.labels[{{1,8}}])\n",
    "        print 'Print samples of testing dataset'\n",
    "        first8TestSamples = testSet.data[{ {1,8},{1},{},{}}]\n",
    "        itorch.image(first8TestSamples)\n",
    "    else print(\"For visualization, run this script in an itorch notebook\") \n",
    "    end\n",
    "end\n"
   ]
  },
  {
   "cell_type": "code",
   "execution_count": 3,
   "metadata": {
    "collapsed": false
   },
   "outputs": [
    {
     "data": {
      "text/plain": [
       "==> preprocessing data\t\n"
      ]
     },
     "execution_count": 3,
     "metadata": {},
     "output_type": "execute_result"
    },
    {
     "data": {
      "text/plain": [
       "==> preprocessing data: normalize each feature (channel) globally\t\n"
      ]
     },
     "execution_count": 3,
     "metadata": {},
     "output_type": "execute_result"
    },
    {
     "data": {
      "text/plain": [
       "Channel 1 mean: 25.578697614397\t\n"
      ]
     },
     "execution_count": 3,
     "metadata": {},
     "output_type": "execute_result"
    },
    {
     "data": {
      "text/plain": [
       "Channel 1 Standard Deviation: 70.282630863225\t\n"
      ]
     },
     "execution_count": 3,
     "metadata": {},
     "output_type": "execute_result"
    },
    {
     "data": {
      "text/plain": [
       "==> preprocessing data: normalize each channel locally\t\n"
      ]
     },
     "execution_count": 3,
     "metadata": {},
     "output_type": "execute_result"
    }
   ],
   "source": [
    "----------------------------------------------------------------------\n",
    "print '==> preprocessing data'\n",
    "\n",
    "-- Preprocessing requires a floating point representation (the original\n",
    "-- data is stored on bytes). Types can be easily converted in Torch, \n",
    "-- in general by doing: dst = src:type('torch.TypeTensor'), \n",
    "-- where Type=='Float','Double','Byte','Int',... Shortcuts are provided\n",
    "-- for simplicity (float(),double(),cuda(),...):\n",
    "\n",
    "trainSet.data = trainSet.data:float()\n",
    "testSet.data = testSet.data:float()\n",
    "\n",
    "-- We now preprocess the data. Preprocessing is crucial\n",
    "-- when applying pretty much any kind of machine learning algorithm.\n",
    "-- color channels are normalized globally, across the entire dataset;\n",
    "-- as a result, each color component has 0-mean and 1-norm across the dataset.\n",
    "\n",
    "\n",
    "\n",
    "-- Normalize each channel, and store mean/std\n",
    "-- per channel. These values are important, as they are part of\n",
    "-- the trainable parameters. At test time, test data will be normalized\n",
    "-- using these values.\n",
    "print '==> preprocessing data: normalize each feature (channel) globally'\n",
    "-- normalize each channel globally:\n",
    "mean = trainSet.data[{ {},{1},{},{} }]:mean() -- mean estimation\n",
    "print('Channel 1 mean: ' .. mean)\n",
    "trainSet.data[{ {},{1},{},{} }]:add(-mean) -- mean subtraction\n",
    "testSet.data[{ {},{1},{},{} }]:add(-mean) -- mean subtraction\n",
    "    \n",
    "stdv = trainSet.data[{ {},{1},{},{} }]:std() -- std estimation\n",
    "print('Channel 1 Standard Deviation: ' .. stdv)\n",
    "trainSet.data[{ {},{1},{},{} }]:div(stdv) -- std division\n",
    "testSet.data[{ {},{1},{},{} }]:div(stdv) -- std division\n",
    "\n",
    "-- Local normalization\n",
    "print '==> preprocessing data: normalize each channel locally'\n",
    "\n",
    "-- Define the normalization neighborhood:\n",
    "neighborhood = image.gaussian1D(13)\n",
    "\n",
    "-- Define our local normalization operator (It is an actual nn module,\n",
    "-- which could be inserted into a trainable model):\n",
    "normalization = nn.SpatialContrastiveNormalization(1, neighborhood,1):float()\n",
    "\n",
    "-- Normalize all channels locally:\n",
    "for i = 1,trainSet:size() do\n",
    "    trainSet.data[{ {i},{1},{},{} }] = normalization:forward(trainSet.data[{ {i},{1},{},{} }])\n",
    "end\n",
    "for i = 1,testSet:size() do\n",
    "    testSet.data[{ {i},{1},{},{} }] = normalization:forward(testSet.data[{ {i},{1},{},{} }])\n",
    "end\n",
    "\n",
    "\n",
    "\n",
    "----------------------------------------------------------------------"
   ]
  },
  {
   "cell_type": "code",
   "execution_count": 4,
   "metadata": {
    "collapsed": false
   },
   "outputs": [
    {
     "data": {
      "text/plain": [
       "==> verify statistics\t\n"
      ]
     },
     "execution_count": 4,
     "metadata": {},
     "output_type": "execute_result"
    },
    {
     "data": {
      "text/plain": [
       "Training Set Channel 1 mean: -0.030610727006601\t\n"
      ]
     },
     "execution_count": 4,
     "metadata": {},
     "output_type": "execute_result"
    },
    {
     "data": {
      "text/plain": [
       "Testing Set Channel 1 mean: -0.030535941123171\t\n"
      ]
     },
     "execution_count": 4,
     "metadata": {},
     "output_type": "execute_result"
    },
    {
     "data": {
      "text/plain": [
       "Training Set Channel 1 Standard Deviation: 0.58335232858409\t\n"
      ]
     },
     "execution_count": 4,
     "metadata": {},
     "output_type": "execute_result"
    },
    {
     "data": {
      "text/plain": [
       "Testing Set Channel 1 Standard Deviation: 0.58278465218005\t\n",
       "==> visualizing data\t\n"
      ]
     },
     "execution_count": 4,
     "metadata": {},
     "output_type": "execute_result"
    },
    {
     "data": {
      "image/png": "[encoded data removed]",
      "text/plain": [
       "Console does not support images"
      ]
     },
     "metadata": {
      "image/png": {
       "height": 374,
       "width": 204
      }
     },
     "output_type": "display_data"
    }
   ],
   "source": [
    "print '==> verify statistics'\n",
    "-- It's always good practice to verify that data is properly normalized\n",
    "\n",
    "\n",
    "print('Training Set Channel 1 mean: ' .. trainSet.data[{ {},{1},{},{} }]:mean())\n",
    "print('Testing Set Channel 1 mean: ' .. testSet.data[{ {},{1},{},{} }]:mean())\n",
    "print('Training Set Channel 1 Standard Deviation: ' .. trainSet.data[{ {},{1},{},{} }]:std())\n",
    "print('Testing Set Channel 1 Standard Deviation: ' .. testSet.data[{ {},{1},{},{} }]:std())\n",
    "\n",
    "----------------------------------------------------------------------\n",
    "print '==> visualizing data'\n",
    "-- Visualization is quite easy, using itorch.image().\n",
    "\n",
    "if opt.visualize then\n",
    "    if itorch then\n",
    "        first64samples = trainSet.data[{ {1,64},{1},{},{}}]\n",
    "        itorch.image(first64samples)\n",
    "    else print(\"For visualization, run this script in an itorch notebook\") \n",
    "    end\n",
    "end"
   ]
  },
  {
   "cell_type": "markdown",
   "metadata": {},
   "source": [
    "## Step 2: Model Definition\n",
    "\n",
    "In this file, we describe three different models: convolutional neural networks (CNNs, or ConvNets), multi-layer neural networks (MLPs), and a simple linear model (which becomes a logistic regression if used with a negative log-likelihood loss).\n",
    "\n",
    "Linear regression is the simplest type of model. It is parametrized by a weight matrix W, and a bias vector b. Mathematically, it can be written as:\n",
    "$$ y^n = Wx^n+b $$\n",
    "\n",
    "Using the nn package, describing ConvNets, MLPs and other forms of sequential trainable models is really easy. All we have to do is create a top-level wrapper, which, as for the logistic regression, is going to be a sequential module, and then append modules into it. Implementing a simple linear model is therefore trivial:\n",
    "```torch\n",
    "model = nn.Sequential()\n",
    "model:add(nn.Reshape(ninputs))\n",
    "model:add(nn.Linear(ninputs, noutputs))\n",
    "```\n",
    "\n",
    "A slightly more complicated model is the multi-layer neural network (MLP). This model is parametrized by two weight matrices, and two bias vectors:\n",
    "$$ y^n = W_2 \\text{sigmoid}(W_1 x^n + b_1) + b_2 $$\n",
    "\n",
    "where the function sigmoid is typically the symmetric hyperbolic tangent function. Again, in Torch:\n",
    "```torch\n",
    "model = nn.Sequential()\n",
    "model:add(nn.Reshape(ninputs))\n",
    "model:add(nn.Linear(ninputs,nhiddens))\n",
    "model:add(nn.Tanh())\n",
    "model:add(nn.Linear(nhiddens,noutputs))\n",
    "```\n",
    "\n",
    "Compared to the linear regression model, the 2-layer neural network can learn arbitrary non-linear mappings between its inputs and outputs. In practice, it can be quite hard to train fully-connected MLPs to classify natural images.\n",
    "\n",
    "Convolutional Networks are a particular form of MLP, which was tailored to efficiently learn to classify images. Convolutional Networks are trainable architectures composed of multiple stages. The input and output of each stage are sets of arrays called feature maps. For example, if the input is a color image, each feature map would be a 2D array containing a color channel of the input image (for an audio input each feature map would be a 1D array, and for a video or volumetric image, it would be a 3D array). At the output, each feature map represents a particular feature extracted at all locations on the input. \n",
    "\n",
    "Each stage is composed of three layers: a **filter bank layer**, a **non-linearity layer**, and a **feature pooling layer**. A typical ConvNet is composed of one, two or three such 3-layer stages, followed by a **classification module**. Each layer type is now described for the case of image recognition.\n",
    "![Convolutional Networds](itorch_digit_recognizer_cnn.ipynb_img1.png)\n",
    "\n",
    "Trainable hierarchical vision models, and more generally image processing algorithms are usually expressed as sequences of operations or transformations. They can be well described by a modular approach, in which each module processes an input image bank and produces a new bank. The figure above is a nice graphical illustration of this approach. Each module requires the previous bank to be fully (or at least partially) available before computing its output. This causality prevents simple parallelism to be implemented across modules. However parallelism can easily be introduced within a module, and at several levels, depending on the kind of underlying operations. These forms of parallelism are exploited in Torch7.\n",
    "\n",
    "Typical ConvNets rely on a few basic modules:\n",
    "* **Filter bank layer**: the input is a 3D array with n1 2D feature maps of size n2 x n3. Each component is denoted $x_{ijk}$, and each feature map is denoted xi. The output is also a 3D array, y composed of m1 feature maps of size m2 x m3. A trainable filter (kernel) $k_{ij}$ in the filter bank has size l1 x l2 and connects input feature map x to output feature map $y_j$. The module computes $y_j = b_j + i_{kij} * x_i$ where $*$ is the 2D discrete convolution operator and $b_j$ is a trainable bias parameter. Each filter detects a particular feature at every location on the input. Hence spatially translating the input of a feature detection layer will translate the output but leave it otherwise unchanged.\n",
    "* **Non-Linearity Layer**: In traditional ConvNets this simply consists in a pointwise tanh() sigmoid function applied to each site (ijk). However, recent implementations have used more sophisticated non-linearities. A useful one for natural image recognition is the rectified sigmoid Rabs: $|g_i.tanh()|$ where $g_i$ is a trainable gain parameter. The rectified sigmoid is sometimes followed by a subtractive and divisive local normalization N, which enforces local competition between adjacent features in a feature map, and between features at the same spatial location.\n",
    "* **Feature Pooling Layer**: This layer treats each feature map separately. In its simplest instance, it computes the average values over a neighborhood in each feature map. Recent work has shown that more selective poolings, based on the LP-norm, tend to work best, with P=2, or P=inf (also known as max pooling). The neighborhoods are stepped by a stride larger than 1 (but smaller than or equal the pooling neighborhood). This results in a reduced-resolution output feature map which is robust to small variations in the location of features in the previous layer. The average operation is sometimes replaced by a max PM. Traditional ConvNets use a pointwise tanh() after the pooling layer, but more recent models do not. Some ConvNets dispense with the separate pooling layer entirely, but use strides larger than one in the filter bank layer to reduce the resolution. In some recent versions of ConvNets, the pooling also pools similar feature at the same location, in addition to the same feature at nearby locations.\n",
    "\n",
    "A couple of comments about the model that we are going to use:\n",
    "* the input has 3 feature maps, each 32x32 pixels. It is the convention for all nn.Spatial* layers to work on 3D arrays, with the first dimension indexing different features (here normalized YUV), and the next two dimensions indexing the height and width of the image/map.\n",
    "* the fist layer applies 16 filters to the input map, each being 5x5. The receptive field of this first layer is 5x5, and the maps produced by it are therefore 16x28x28. This linear transform is then followed by a non-linearity (tanh), and an L2-pooling function, which pools regions of size 2x2, and uses a stride of 2x2. The result of that operation is a 16x14x14 array, which represents a 14x14 map of 16-dimensional feature vectors. The receptive field of each unit at this stage is 7x7.\n",
    "* the second layer is very much analogous to the first, except that now the 16-dim feature maps are projected into 256- dim maps, with a fully-connected connection table: each unit in the output array is influenced by a 4x5x5 neighborhood of features in the previous layer. That layer has therefore 4x256x5x5 trainable kernel weights (and 256 biases). The result of the complete layer (conv+pooling) is a 256x5x5 array.\n",
    "* at this stage, the 5x5 array of 256-dimensional feature vectors is flattened into a 6400-dimensional vector, which we feed to a two-layer neural net. The final prediction (10-dimensional distribution over classes) is influenced by a 32x32 neighborhood of input variables (YUV pixels).\n",
    "* recent work (Jarret et al.) has demonstrated the advantage of locally normalizing sets of internal features, at each stage of the model. The use of smoother pooling functions, such as the L2 norm for instance instead of the harsher max-pooling, has also been shown to yield better generalization (Sermanet et al.). We use these two ingredients in this model.\n",
    "* one other remark: it is typically not a good idea to use fully connected layers, in internal layers. In general, favoring large numbers of features (over-completeness) over density of connections helps achieve better results (empirical evidence of this was reported in several papers, as in Hadsell et al.). The SpatialConvolutionMap module accepts tables of connectivities (maps) that allows one to create arbitrarily sparse connections between two layers. A couple of standard maps/tables are provided in nn.tables.\n",
    "\n"
   ]
  },
  {
   "cell_type": "code",
   "execution_count": 5,
   "metadata": {
    "collapsed": false
   },
   "outputs": [
    {
     "data": {
      "text/plain": [
       "==> define parameters\t\n",
       "==> construct model\t\n"
      ]
     },
     "execution_count": 5,
     "metadata": {},
     "output_type": "execute_result"
    },
    {
     "data": {
      "text/plain": [
       "==> here is the model:\t\n",
       "nn.Sequential {\n",
       "  [input -> (1) -> (2) -> (3) -> (4) -> (5) -> (6) -> (7) -> (8) -> (9) -> (10) -> (11) -> (12) -> output]\n",
       "  (1): nn.SpatialConvolutionMap\n",
       "  (2): nn.Tanh\n",
       "  (3): nn.Sequential {\n",
       "    [input -> (1) -> (2) -> (3) -> (4) -> output]\n",
       "    (1): nn.Square\n",
       "    (2): nn.SpatialAveragePooling(2x2, 2,2)\n",
       "    (3): nn.MulConstant\n",
       "    (4): nn.Sqrt\n",
       "  }\n",
       "  (4): nn.SpatialSubtractiveNormalization\n",
       "  (5): nn.SpatialConvolutionMap\n",
       "  (6): nn.Tanh\n",
       "  (7): nn.Sequential {\n",
       "    [input -> (1) -> (2) -> (3) -> (4) -> output]\n",
       "    (1): nn.Square\n",
       "    (2): nn.SpatialAveragePooling(2x2, 2,2)\n",
       "    (3): nn.MulConstant\n",
       "    (4): nn.Sqrt\n",
       "  }\n",
       "  (8): nn.SpatialSubtractiveNormalization\n",
       "  (9): nn.Reshape(1600)\n",
       "  (10): nn.Linear(1600 -> 128)\n",
       "  (11): nn.Tanh\n",
       "  (12): nn.Linear(128 -> 10)\n",
       "}\n",
       "{\n",
       "  gradInput : DoubleTensor - empty\n",
       "  modules : \n",
       "    {\n",
       "      1 : \n",
       "        nn.SpatialConvolutionMap\n",
       "        {\n",
       "          dH : 1\n",
       "          dW : 1\n",
       "          nInputPlane : 1\n",
       "          kW : 5\n",
       "          gradInput : DoubleTensor - empty\n",
       "          "
      ]
     },
     "execution_count": 5,
     "metadata": {},
     "output_type": "execute_result"
    },
    {
     "data": {
      "text/plain": [
       "connTable : DoubleTensor - size: 64x2\n",
       "          gradBias : DoubleTensor - size: 64\n",
       "          weight : DoubleTensor - size: 64x5x5\n",
       "          _type : torch.DoubleTensor\n",
       "          gradWeight : DoubleTensor - size: 64x5x5\n",
       "          bias : DoubleTensor - size: 64\n",
       "          nOutputPlane : 64\n",
       "          output : DoubleTensor - empty\n",
       "          kH : 5\n",
       "        }\n",
       "      2 : \n",
       "        nn.Tanh\n",
       "        {\n",
       "          gradInput : DoubleTensor - empty\n",
       "          _type : torch.DoubleTensor\n",
       "          "
      ]
     },
     "execution_count": 5,
     "metadata": {},
     "output_type": "execute_result"
    },
    {
     "data": {
      "text/plain": [
       "output : DoubleTensor - empty\n",
       "        }\n",
       "      3 : \n",
       "        nn.Sequential {\n",
       "          [input -> (1) -> (2) -> (3) -> (4) -> output]\n",
       "          (1): nn.Square\n",
       "          (2): nn.SpatialAveragePooling(2x2, 2,2)\n",
       "          (3): nn.MulConstant\n",
       "          (4): nn.Sqrt\n",
       "        }\n",
       "        {\n",
       "          dH : 2\n",
       "          dW : 2\n",
       "          _type : torch.DoubleTensor\n",
       "          output : DoubleTensor - empty\n",
       "          gradInput : DoubleTensor - empty\n",
       "          modules : \n",
       "            {\n",
       "              1 : \n",
       "                nn.Square\n",
       "                {\n",
       "                  gradInput : DoubleTensor - empty\n",
       "                  _type : torch.DoubleTensor\n",
       "                  output : DoubleTensor - empty\n",
       "                }\n",
       "              2 : \n",
       "                nn.SpatialAveragePooling(2x2, 2,2)\n",
       "                {\n",
       "                  dH : 2\n",
       "                  dW : 2\n",
       "                  kW : 2\n",
       "                  gradInput : DoubleTensor - empty\n",
       "                  divide : true\n",
       "                  count_include_pad : true\n",
       "                  _type : torch.DoubleTensor\n",
       "                  padH : 0\n",
       "                  ceil_mode : false\n",
       "                  output : DoubleTensor - empty\n",
       "                  kH : 2\n",
       "                  padW : 0\n",
       "                }\n",
       "              3 : \n",
       "                nn.MulConstant\n",
       "                {\n",
       "                  inplace : false\n",
       "                  _type : torch.DoubleTensor\n",
       "                  constant_scalar : 4\n",
       "                  gradInput : DoubleTensor - empty\n",
       "                  output : DoubleTensor - empty\n",
       "                }\n",
       "              4 : \n",
       "                nn.Sqrt\n",
       "                {\n",
       "      "
      ]
     },
     "execution_count": 5,
     "metadata": {},
     "output_type": "execute_result"
    },
    {
     "data": {
      "text/plain": [
       "            gradInput : DoubleTensor - empty\n",
       "                  eps : 0\n",
       "                  _type : torch.DoubleTensor\n",
       "                  output : DoubleTensor - empty\n",
       "                }\n",
       "            }\n",
       "          kH : 2\n",
       "          kW : 2\n",
       "        }\n",
       "      4 : \n",
       "        nn.SpatialSubtractiveNormalization\n",
       "        {\n",
       "          nInputPlane : 64\n",
       "          divider : \n",
       "            nn.CDivTable\n",
       "            {\n",
       "              gradInput : table: 0x3eaf5070\n",
       "              _type : torch.DoubleTensor\n",
       "              output : DoubleTensor - empty\n",
       "            }\n",
       "          gradInput : DoubleTensor - empty\n",
       "          coef : DoubleTensor - size: 1x1x1\n",
       "          kernel : DoubleTensor - size: 7\n",
       "          _type : torch.DoubleTensor\n",
       "          subtractor : \n",
       "            nn.CSubTable\n",
       "            {\n",
       "              gradInput : table: 0x3eaf3c38\n",
       "              _type : torch.DoubleTensor\n",
       "              output : DoubleTensor - empty\n",
       "            }\n",
       "          meanestimator : \n",
       "            nn.Sequential {\n",
       "              [input -> (1) -> (2) -> (3) -> (4) -> output]\n",
       "              (1): nn.SpatialZeroPadding(l=3, r=3, t=3, b=3)\n",
       "              (2): nn.SpatialConvolutionMap\n",
       "              (3): nn.SpatialConvolution(64 -> 1, 1x7)\n",
       "              (4): nn.Replicate\n",
       "            }\n",
       "            {\n",
       "              gradInput : DoubleTensor - empty\n",
       "              modules : \n",
       "                {\n",
       "                  1 : nn.SpatialZeroPadding(l=3, r=3, t=3, b=3)\n",
       "                  2 : nn.SpatialConvolutionMap\n",
       "                  3 : nn.SpatialConvolution(64 -> 1, 1x7)\n",
       "                  4 : nn.Replicate\n",
       "                }\n",
       "              _type : torch.DoubleTensor\n",
       "              output : DoubleTensor - empty\n",
       "            }\n",
       "          output : DoubleTensor - empty\n",
       "        }\n",
       "      5 : \n",
       "        nn.SpatialConvolutionMap\n",
       "        {\n"
      ]
     },
     "execution_count": 5,
     "metadata": {},
     "output_type": "execute_result"
    },
    {
     "data": {
      "text/plain": [
       "          dH : 1\n",
       "          dW : 1\n",
       "          nInputPlane : 64\n",
       "          kW : 5\n",
       "          gradInput : DoubleTensor - empty\n",
       "          connTable : DoubleTensor - size: 256x2\n",
       "          gradBias : DoubleTensor - size: 64\n",
       "          weight : DoubleTensor - size: 256x5x5\n",
       "          _type : torch.DoubleTensor\n",
       "          gradWeight : DoubleTensor - size: 256x5x5\n",
       "          bias : DoubleTensor - size: 64\n",
       "          nOutputPlane : 64\n",
       "          output : DoubleTensor - empty\n",
       "          kH : 5\n",
       "        }\n",
       "      6 : \n",
       "        nn.Tanh\n",
       "        {\n",
       "          gradInput : DoubleTensor - empty\n",
       "          _type : torch.DoubleTensor\n",
       "          output : DoubleTensor - empty\n",
       "        }\n",
       "      7 : \n",
       "        nn.Sequential {\n",
       "          [input -> (1) -> (2) -> (3) -> (4) -> output]\n",
       "          (1): nn.Square\n",
       "          (2): nn.SpatialAveragePooling(2x2, 2,2)\n",
       "          (3): nn.MulConstant\n",
       "          (4): nn.Sqrt\n",
       "        }\n",
       "        {\n",
       "          dH : 2\n",
       "          dW : 2\n",
       "         "
      ]
     },
     "execution_count": 5,
     "metadata": {},
     "output_type": "execute_result"
    },
    {
     "data": {
      "text/plain": [
       " _type : torch.DoubleTensor\n",
       "          output : DoubleTensor - empty\n",
       "          gradInput : DoubleTensor - empty\n",
       "          modules : \n",
       "            {\n",
       "              1 : \n",
       "                "
      ]
     },
     "execution_count": 5,
     "metadata": {},
     "output_type": "execute_result"
    },
    {
     "data": {
      "text/plain": [
       "nn.Square\n",
       "                "
      ]
     },
     "execution_count": 5,
     "metadata": {},
     "output_type": "execute_result"
    },
    {
     "data": {
      "text/plain": [
       "{\n",
       "                  gradInput : DoubleTensor - empty\n",
       "                  _type : torch.DoubleTensor\n",
       "                  output : DoubleTensor - empty\n",
       "                }\n",
       "              2 : \n",
       "                nn.SpatialAveragePooling(2x2, 2,2)\n",
       "                {\n",
       "                  dH : 2\n",
       "                  dW : 2\n",
       "                  kW : 2\n",
       "                  gradInput : DoubleTensor - empty\n",
       "                  divide : true\n",
       "                  count_include_pad : true\n",
       "                  _type : torch.DoubleTensor\n",
       "                  padH : 0\n",
       "                  ceil_mode : false\n",
       "                  output : DoubleTensor - empty\n",
       "                  kH : 2\n",
       "                  padW : 0\n",
       "                }\n",
       "              3 : \n",
       "                nn.MulConstant\n",
       "                {\n",
       "                  inplace : false\n",
       "                  _type : torch.DoubleTensor\n",
       "                  constant_scalar : 4\n",
       "                  gradInput : DoubleTensor - empty\n",
       "                  output : DoubleTensor - empty\n",
       "                }\n",
       "              4 : \n",
       "                nn.Sqrt\n",
       "                {\n",
       "                  gradInput : DoubleTensor - empty\n",
       "                  eps : 0\n",
       "                  _type : torch.DoubleTensor\n",
       "                  output : DoubleTensor - empty\n",
       "                }\n",
       "            }\n",
       "          kH : 2\n",
       "          kW : 2\n",
       "        }\n",
       "      8 : \n",
       "        nn.SpatialSubtractiveNormalization\n",
       "        {\n",
       "          nInputPlane : 64\n",
       "          divider : \n",
       "            nn.CDivTable\n",
       "            {\n",
       "              gradInput : table: 0x3f4d0288\n",
       "              _type : torch.DoubleTensor\n",
       "              output : DoubleTensor - empty\n",
       "            }\n",
       "          gradInput : DoubleTensor - empty\n",
       "          coef : DoubleTensor - size: 1x1x1\n",
       "          kernel : DoubleTensor - size: 7\n",
       "          _type : torch.DoubleTensor\n",
       " "
      ]
     },
     "execution_count": 5,
     "metadata": {},
     "output_type": "execute_result"
    },
    {
     "data": {
      "text/plain": [
       "         subtractor : \n",
       "            nn.CSubTable\n",
       "            {\n",
       "              gradInput : table: 0x3f4d1448\n",
       "              _type : torch.DoubleTensor\n",
       "              output : DoubleTensor - empty\n",
       "            }\n",
       "          meanestimator : \n",
       "            nn.Sequential {\n",
       "              [input -> (1) -> (2) -> (3) -> (4) -> output]\n",
       "              (1): nn.SpatialZeroPadding(l=3, r=3, t=3, b=3)\n",
       "              (2): nn.SpatialConvolutionMap\n",
       "              (3): nn.SpatialConvolution(64 -> 1, 1x7)\n",
       "              (4): nn.Replicate\n",
       "            }\n",
       "            {\n",
       "              gradInput : DoubleTensor - empty\n",
       "              modules : \n",
       "                {\n",
       "                  1 : nn.SpatialZeroPadding(l=3, r=3, t=3, b=3)\n"
      ]
     },
     "execution_count": 5,
     "metadata": {},
     "output_type": "execute_result"
    },
    {
     "data": {
      "text/plain": [
       "                  2 : nn.SpatialConvolutionMap\n",
       "                  3 : nn.SpatialConvolution(64 -> 1, 1x7)\n",
       "                  4 : nn.Replicate\n",
       "                }\n",
       "              _type : torch.DoubleTensor\n",
       "              output : DoubleTensor - empty\n",
       "            }\n",
       "          output : DoubleTensor - empty\n",
       "        }\n",
       "      9 : \n",
       "        nn.Reshape(1600)\n",
       "        {\n",
       "          _type : torch.DoubleTensor\n",
       "          output : DoubleTensor - empty\n",
       "          gradInput : DoubleTensor - empty\n",
       "          size : LongStorage - size: 1\n",
       "          nelement : 1600\n",
       "          batchsize : LongStorage - size: 2\n",
       "        }\n",
       "      10 : \n",
       "        nn.Linear(1600 -> 128)\n",
       "        {\n",
       "          gradBias : DoubleTensor - size: 128\n",
       "          weight : DoubleTensor - size: 128x1600\n",
       "          _type : torch.DoubleTensor\n",
       "          output : DoubleTensor - empty\n",
       "          gradInput : DoubleTensor - empty\n",
       "          bias : DoubleTensor - size: 128\n",
       "          gradWeight : DoubleTensor - size: 128x1600\n",
       "        }\n",
       "      11 : \n",
       "        nn.Tanh\n",
       "        {\n",
       "          gradInput : DoubleTensor - empty\n",
       "          _type : torch.DoubleTensor\n",
       "          output : DoubleTensor - empty\n",
       "        }\n",
       "      12 : \n",
       "        nn.Linear(128 -> 10)\n",
       "        {\n",
       "          "
      ]
     },
     "execution_count": 5,
     "metadata": {},
     "output_type": "execute_result"
    },
    {
     "data": {
      "text/plain": [
       "gradBias : DoubleTensor - size: 10\n",
       "          weight : DoubleTensor - size: 10x128\n",
       "          _type : torch.DoubleTensor\n",
       "          output : DoubleTensor - empty\n",
       "          gradInput : DoubleTensor - empty\n",
       "          bias : DoubleTensor - size: 10\n",
       "          gradWeight : DoubleTensor - size: 10x128\n",
       "        }\n",
       "    }\n",
       "  _type : torch.DoubleTensor\n",
       "  output : DoubleTensor - empty\n",
       "}\n",
       "==> visualizing ConvNet filters\t\n",
       "Normal Convnet Layer 1 filters:\t\n"
      ]
     },
     "execution_count": 5,
     "metadata": {},
     "output_type": "execute_result"
    },
    {
     "data": {
      "image/png": "[encoded data removed]",
      "text/plain": [
       "Console does not support images"
      ]
     },
     "metadata": {
      "image/png": {
       "height": 77,
       "width": 42
      }
     },
     "output_type": "display_data"
    },
    {
     "data": {
      "text/plain": [
       "Normal Convnet Layer 2 filters:\t\n"
      ]
     },
     "execution_count": 5,
     "metadata": {},
     "output_type": "execute_result"
    },
    {
     "data": {
      "image/png": "[encoded data removed]",
      "text/plain": [
       "Console does not support images"
      ]
     },
     "metadata": {
      "image/png": {
       "height": 301,
       "width": 42
      }
     },
     "output_type": "display_data"
    }
   ],
   "source": [
    "-- This script demonstrates how to define a couple of different\n",
    "-- models:\n",
    "--   + linear\n",
    "--   + 2-layer neural network (MLP)\n",
    "--   + convolutional network (ConvNet)\n",
    "----------------------------------------------------------------------\n",
    "\n",
    "print '==> define parameters'\n",
    "\n",
    "-- 10 class problem\n",
    "noutputs = 10\n",
    "\n",
    "-- input dimensions\n",
    "nfeats = 1\n",
    "width = 32\n",
    "height = 32\n",
    "ninputs = nfeats * width * height\n",
    "\n",
    "-- number of hidden units (for MLP only):\n",
    "nhiddens = ninputs / 2\n",
    "\n",
    "-- hidden units, filter size (for ConvNets only):\n",
    "nstates = {64,64,128}\n",
    "fanin = {1,4}\n",
    "filtsize = 5\n",
    "poolsize = 2\n",
    "normkernel = image.gaussian1D(7)\n",
    "\n",
    "----------------------------------------------------------------------\n",
    "print '==> construct model'\n",
    "if opt.model == 'linear' then\n",
    "    -- Simple linear model\n",
    "    model = nn.Sequential()\n",
    "    model:add(nn.Reshape(ninputs))\n",
    "    model:add(nn.Linear(ninputs, noutputs))\n",
    "    \n",
    "elseif opt.model == 'mlp' then\n",
    "    -- Simple 2-layer neural network, with tanh hidden units\n",
    "    model = nn.Sequential()\n",
    "    model:add(nn.Reshape(ninputs))\n",
    "    model:add(nn.Linear(ninputs, nhiddens))\n",
    "    model:add(nn.Tanh())\n",
    "    model:add(nn.Linear(nhiddens, noutputs))\n",
    "\n",
    "elseif opt.model == 'convnet' then\n",
    "    if opt.type == 'cuda' then\n",
    "        -- a typical modern convolution network (conv+relu+pool)\n",
    "        model = nn.Sequential()\n",
    "        \n",
    "        -- stage 1 : filter bank -> squashing -> L2 pooling -> normalization\n",
    "        model:add(nn.SpatialConvolutionMM(nfeats, nstates[1], filtsize, filtsize))\n",
    "        model:add(nn.ReLU())\n",
    "        model:add(nn.SpatialMaxPooling(poolsize,poolsize,poolsize,poolsize))\n",
    "        \n",
    "        -- stage 2 : filter bank -> squashing -> L2 pooling -> normalization\n",
    "        model:add(nn.SpatialConvolutionMM(nstates[1], nstates[2], filtsize, filtsize))\n",
    "        model:add(nn.ReLU())\n",
    "        model:add(nn.SpatialMaxPooling(poolsize,poolsize,poolsize,poolsize))\n",
    "        \n",
    "        -- stage 3 : standard 2-layer neural network\n",
    "        model:add(nn.View(nstates[2]*filtsize*filtsize))\n",
    "        model:add(nn.Dropout(0.5))\n",
    "        model:add(nn.Linear(nstates[2]*filtsize*filtsize, nstates[3]))\n",
    "        model:add(nn.ReLU())\n",
    "        model:add(nn.Linear(nstates[3], noutputs))\n",
    "        \n",
    "    else \n",
    "        -- a typical convolutional network, with locally-normalized hidden\n",
    "        -- units, and L2-pooling\n",
    "        -- Note: the architecture of this convnet is loosely based on Pierre Sermanet's\n",
    "        -- work on this dataset (http://arxiv.org/abs/1204.3968). In particular\n",
    "        -- the use of LP-pooling (with P=2) has a very positive impact on\n",
    "        -- generalization. Normalization is not done exactly as proposed in\n",
    "        -- the paper, and low-level (first layer) features are not fed to\n",
    "        -- the classifier.\n",
    "        model = nn.Sequential()\n",
    "        \n",
    "        -- stage 1 : filter bank -> squashing -> L2 pooling -> normalization\n",
    "        model:add(nn.SpatialConvolutionMap(nn.tables.random(nfeats, nstates[1], fanin[1]), filtsize, filtsize))\n",
    "        model:add(nn.Tanh())\n",
    "        model:add(nn.SpatialLPPooling(nstates[1], 2, poolsize, poolsize, poolsize, poolsize))\n",
    "        model:add(nn.SpatialSubtractiveNormalization(nstates[1],normkernel))\n",
    "        \n",
    "        -- stage 2 : filter bank -> squashing -> L2 pooling -> normalization\n",
    "        model:add(nn.SpatialConvolutionMap(nn.tables.random(nstates[1], nstates[2], fanin[2]), filtsize, filtsize))\n",
    "        model:add(nn.Tanh())\n",
    "        model:add(nn.SpatialLPPooling(nstates[2], 2, poolsize, poolsize, poolsize, poolsize))\n",
    "        model:add(nn.SpatialSubtractiveNormalization(nstates[2],normkernel))\n",
    "        \n",
    "        -- stage 3 : standard 2-layer neural network\n",
    "        model:add(nn.Reshape(nstates[2]*filtsize*filtsize))\n",
    "        model:add(nn.Linear(nstates[2]*filtsize*filtsize, nstates[3]))\n",
    "        model:add(nn.Tanh())\n",
    "        model:add(nn.Linear(nstates[3], noutputs))\n",
    "    end\n",
    "else\n",
    "    print('unknown -model')\n",
    "end\n",
    "\n",
    "----------------------------------------------------------------------\n",
    "print '==> here is the model:'\n",
    "print(model)\n",
    "\n",
    "----------------------------------------------------------------------\n",
    "-- Visualization is quite easy, using itorch.image().\n",
    "if opt.visualize == true then\n",
    "    if itorch then\n",
    "        print('==> visualizing ConvNet filters')\n",
    "        if opt.model == 'linear' then\n",
    "            print('Linear Layer 1 filters:')\n",
    "            itorch.image(model.modules[2].weight)\n",
    "        elseif opt.model == 'mlp' then\n",
    "            print('MLP Layer 1 filters:')\n",
    "            itorch.image(model.modules[2].weight)\n",
    "        elseif opt.model == 'convnet' then\n",
    "            if opt.type == 'cuda' then\n",
    "                print('CUDA Convnet Layer 1 filters:')\n",
    "                itorch.image(model.modules[1].weight)\n",
    "                print('CUDA Convnet Layer 2 filters:')\n",
    "                itorch.image(model.modules[4].weight)\n",
    "            else\n",
    "                print('Normal Convnet Layer 1 filters:')\n",
    "                itorch.image(model.modules[1].weight)\n",
    "                print('Normal Convnet Layer 2 filters:')\n",
    "                itorch.image(model.modules[5].weight)\n",
    "            end\n",
    "        else error('Wrong NN Model') end\n",
    "    else print('For visualization, run this script in an itorch notebook') \n",
    "    end\n",
    "end"
   ]
  },
  {
   "cell_type": "markdown",
   "metadata": {
    "collapsed": true
   },
   "source": [
    "## Step 3: Loss Function\n",
    "\n",
    "Now that we have a model, we need to define a loss function to be minimized, across the entire training set:\n",
    "\n",
    "$$ L = \\sum_n l(y^n,t^n) $$\n",
    "\n",
    "One of the simplest loss functions we can minimize is the **mean-square error** between the predictions (outputs of the model), and the groundtruth labels, across the entire dataset:\n",
    "\n",
    "$$ l(y^n,t^n) = \\frac{1}{2} \\sum_i (y_i^n - t_i^n)^2 $$\n",
    "\n",
    "or, in Torch:\n",
    "```torch\n",
    "criterion = nn.MSECriterion()\n",
    "```\n",
    "\n",
    "The MSE loss is typically not a good one for classification, as it forces the model to exactly predict the values imposed by the targets (labels).\n",
    "\n",
    "Instead, a more commonly used, probabilistic objective is the **negative log-likelihood**. To minimize a negative log-likelihood, we first need to turn the predictions of our models into properly normalized log-probabilities. For the linear model, this is achieved by feeding the output units into a softmax function, which turns the linear regression into a logistic regression:\n",
    "\n",
    "$$ P(Y=i|x^n,W,b) = \\text{softmax}(Wx^n+be) $$ \n",
    "$$ P(Y=i|x^n,W,b) = \\frac{ e^{Wx_i^n+b} }{ \\sum_j e^{Wx_j^n+b} } $$\n",
    "\n",
    "As we're interested in classification, the final prediction is then achieved by taking the argmax of this distribution:\n",
    "\n",
    "$$ y^n = \\arg\\max_i P(Y=i|x^n,W,b) $$\n",
    "\n",
    "in which case the ouput y is a scalar.\n",
    "\n",
    "More generally, the output of any model can be turned into normalized log-probabilities, by stacking a softmax function on top. So given any of the models defined above, we can simply do:\n",
    "```torch\n",
    "model:add( nn.LogSoftMax() )\n",
    "```\n",
    "\n",
    "We want to maximize the likelihood of the correct (target) class, for each sample in the dataset. This is equivalent to minimizing the **negative log-likelihood (NLL)**, or minimizing the cross-entropy between the predictions of our model and the targets (training data). Mathematically, the per-sample loss can be defined as:\n",
    "\n",
    "$$ l(x^n,t^n) = -\\log(P(Y=t^n|x^n,W,b)) $$\n",
    "\n",
    "Given that our model already produces log-probabilities (thanks to the softmax), the loss is quite straightforward to estimate. In Torch, we use the ClassNLLCriterion, which expects its input as being a vector of log-probabilities, and the target as being an integer pointing to the correct class:\n",
    "```torch\n",
    "criterion = nn.ClassNLLCriterion()\n",
    "```\n",
    "\n",
    "Finally, another type of classification loss is the **multi-class margin loss**, which is closer to the well-known SVM loss. This loss function doesn't require normalized outputs, and can be implemented like this:\n",
    "```torch\n",
    "criterion = nn.MultiMarginCriterion()\n",
    "```\n",
    "\n",
    "The margin loss typically works on par with the negative log-likelihood. I haven't tested this thoroughly, so it's time for more exercises.\n"
   ]
  },
  {
   "cell_type": "code",
   "execution_count": 6,
   "metadata": {
    "collapsed": false
   },
   "outputs": [
    {
     "data": {
      "text/plain": [
       "==> define loss\t\n",
       "==> here is the loss function:\t\n",
       "nll\t\n"
      ]
     },
     "execution_count": 6,
     "metadata": {},
     "output_type": "execute_result"
    }
   ],
   "source": [
    "----------------------------------------------------------------------\n",
    "-- This script demonstrates how to define a couple of different\n",
    "-- loss functions:\n",
    "--   + negative-log likelihood, using log-normalized output units (SoftMax)\n",
    "--   + mean-square error\n",
    "--   + margin loss (SVM-like)\n",
    "----------------------------------------------------------------------\n",
    "\n",
    "print '==> define loss'\n",
    "\n",
    "if opt.loss == 'margin' then\n",
    "    -- This loss takes a vector of classes, and the index of\n",
    "    -- the grountruth class as arguments. It is an SVM-like loss\n",
    "    -- with a default margin of 1.\n",
    "    criterion = nn.MultiMarginCriterion()\n",
    "\n",
    "elseif opt.loss == 'nll' then\n",
    "    -- This loss requires the outputs of the trainable model to\n",
    "    -- be properly normalized log-probabilities, which can be\n",
    "    -- achieved using a softmax function\n",
    "    model:add(nn.LogSoftMax())\n",
    "    \n",
    "    -- The loss works like the MultiMarginCriterion: it takes\n",
    "    -- a vector of classes, and the index of the grountruth class\n",
    "    -- as arguments.\n",
    "    criterion = nn.ClassNLLCriterion()\n",
    "\n",
    "elseif opt.loss == 'mse' then    \n",
    "    -- The mean-square error is not recommended for classification\n",
    "    -- tasks, as it typically tries to do too much, by exactly modeling\n",
    "    -- the 1-of-N distribution. For the sake of showing more examples,\n",
    "    -- we still provide it here:\n",
    "    criterion = nn.MSECriterion()\n",
    "    \n",
    "    -- Compared to the other losses, the MSE criterion needs a distribution\n",
    "    -- as a target, instead of an index. Indeed, it is a regression loss!\n",
    "    -- So we need to transform the entire label vectors:\n",
    "    if trainSet then\n",
    "        -- convert training labels:\n",
    "        local trsize = trainSet:size()\n",
    "        local trlabels = torch.Tensor(trsize, noutputs)\n",
    "        trlabels:fill(-1)\n",
    "        for i = 1,trsize do trlabels[{i,trainSet.labels[i]}] = 1 end\n",
    "        trainSet.labels = trlabels\n",
    "        \n",
    "        -- convert training labels:\n",
    "        local tesize = testSet:size()\n",
    "        local telabels = torch.Tensor(tesize, noutputs)\n",
    "        telabels:fill(-1)\n",
    "        for i = 1,tesize do telabels[{i,testSet.labels[i]}] = 1 end\n",
    "        testSet.labels = telabels\n",
    "    end\n",
    "\n",
    "else \n",
    "    error('error: unknown -class')\n",
    "end\n",
    "\n",
    "----------------------------------------------------------------------\n",
    "print '==> here is the loss function:'\n",
    "print(opt.loss)\n",
    "--print(criterion)"
   ]
  },
  {
   "cell_type": "markdown",
   "metadata": {},
   "source": [
    "## Step 4: Training Procedure\n",
    "\n",
    "We now have some training data, a model to train, and a loss function to minimize. We define a training procedure.\n",
    "\n",
    "A very important aspect about supervised training of non-linear models (ConvNets and MLPs) is the fact that the optimization problem is not convex anymore. This reinforces the need for a stochastic estimation of gradients, which have shown to produce much better generalization results for several problems.\n",
    "\n",
    "In this example, we show how the optimization algorithm can be easily set to either L-BFGS, CG, SGD or ASGD. In practice, it's very important to start with a few epochs of pure SGD, before switching to L-BFGS or ASGD (if switching at all). The intuition for that is related to the non-convex nature of the problem: at the very beginning of training (random initialization), the landscape might be highly non-convex, and no assumption should be made about the shape of the energy function. Often, SGD is the best we can do. Later on, batch methods (L-BFGS, CG) can be used more safely.\n",
    "\n",
    "Interestingly, in the case of large convex problems, stochasticity is also very important, as it allows much faster (rough) convergence. Several works have explored these techniques, in particular, this recent paper from Byrd/Nocedal, and work on pure stochastic gradient descent by Bottou.\n",
    "\n",
    "Here is our full training function, which demonstrates that you can switch the optimization you're using at runtime (if you want to), and also modify the batch size you're using at run time. You can do all these things because we create the evaluation closure each time we create a new batch. If the batch size is 1, then the method is purely stochastic. If the batch size is set to the complete dataset, then the method is a pure batch method."
   ]
  },
  {
   "cell_type": "code",
   "execution_count": 7,
   "metadata": {
    "collapsed": false
   },
   "outputs": [
    {
     "data": {
      "text/plain": [
       "==> defining some tools\t\n"
      ]
     },
     "execution_count": 7,
     "metadata": {},
     "output_type": "execute_result"
    }
   ],
   "source": [
    "----------------------------------------------------------------------\n",
    "-- This script demonstrates how to define a training procedure,\n",
    "-- irrespective of the model/loss functions chosen.\n",
    "--\n",
    "-- It shows how to:\n",
    "--   + construct mini-batches on the fly\n",
    "--   + define a closure to estimate (a noisy) loss\n",
    "--     function, as well as its derivatives wrt the parameters of the\n",
    "--     model to be trained\n",
    "--   + optimize the function, according to several optmization\n",
    "--     methods: SGD, L-BFGS.\n",
    "----------------------------------------------------------------------\n",
    "\n",
    "-- CUDA?\n",
    "if opt.type == 'cuda' then\n",
    "    model:cuda()\n",
    "    criterion:cuda()\n",
    "end\n",
    "\n",
    "----------------------------------------------------------------------\n",
    "print '==> defining some tools'\n",
    "\n",
    "-- This matrix records the current confusion across classes\n",
    "confusion = optim.ConfusionMatrix(classes)\n",
    "\n",
    "-- Log results to files\n",
    "trainLogger = optim.Logger(paths.concat(opt.save, 'train.log'))\n",
    "\n",
    "-- Retrieve parameters and gradients:\n",
    "-- this extracts and flattens all the trainable parameters of the mode\n",
    "-- into a 1-dim vector\n",
    "if model then\n",
    "    parameters,gradParameters = model:getParameters()\n",
    "end\n",
    "\n",
    "----------------------------------------------------------------------\n",
    "print '==> configuring optimizer'\n",
    "\n",
    "if opt.optimization == 'CG' then\n",
    "    optimState = {maxIter = opt.maxIter}\n",
    "    optimMethod = optim.cg\n",
    "    \n",
    "elseif opt.optimization == 'LBFGS' then\n",
    "    optimState = {\n",
    "        learningRate = opt.learningRate,\n",
    "        maxIter = opt.maxIter,\n",
    "        nCorrection = 10\n",
    "    }\n",
    "    optimMethod = optim.lbfgs\n",
    "\n",
    "elseif opt.optimization == 'SGD' then\n",
    "    optimState = {\n",
    "        learningRate = opt.learningRate,\n",
    "        weightDecay = opt.weightDecay,\n",
    "        momentum = opt.momentum,\n",
    "        learningRateDecay = 1e-17\n",
    "    }\n",
    "    optimMethod = optim.sgd\n",
    "    \n",
    "elseif opt.optimization == 'ASGD' then\n",
    "    optimState = {\n",
    "        eta0 = opt.learningRate,\n",
    "        t0 = train_size * opt.t0\n",
    "    }\n",
    "    optimMethod = optim.asgd\n",
    "else error('unknown optimization method')\n",
    "end\n",
    "\n",
    "----------------------------------------------------------------------\n",
    "print '==> defining training procedure'\n",
    "\n",
    "function train()\n",
    "    -- Printing training size\n",
    "    print('==> Training on ' .. trainSet:size() .. ' samples')\n",
    "    -- epoch tracker\n",
    "    epoch = epoch or 1\n",
    "    \n",
    "    -- local vars\n",
    "    local time = sys.clock()\n",
    "    \n",
    "    -- set model to training mode (for modules that differ in training and testing, like Dropout)\n",
    "    model:training()\n",
    "    \n",
    "    -- shuffle at each epoch\n",
    "    shuffle = torch.randperm(train_size)\n",
    "    \n",
    "    -- do one epoch\n",
    "    print('==> doing epoch on training data:')\n",
    "    print(\"==> online epoch # \" .. epoch .. ' [batchSize = ' .. opt.batchSize .. ']')\n",
    "    \n",
    "    for t = 1,trainSet:size(), opt.batchSize do\n",
    "        -- disp progress\n",
    "        xlua.progress(t, trainSet:size())\n",
    "        \n",
    "        -- create mini batch\n",
    "        local inputs = {}\n",
    "        local targets = {}\n",
    "        \n",
    "        for i = t,math.min(t+opt.batchSize-1, trainSet:size()) do\n",
    "            -- load new sample\n",
    "            local input = trainSet.data[shuffle[i]]\n",
    "            local target = trainSet.labels[shuffle[i]]\n",
    "            \n",
    "            if opt.type == 'double' then\n",
    "                input = input:double()\n",
    "                if opt.loss == 'mse' then target = target:double() end\n",
    "            elseif opt.type == 'cuda' then\n",
    "                input = input:cuda()\n",
    "                if opt.loss == 'mse' then target = target:cuda() end\n",
    "            end\n",
    "            \n",
    "            table.insert(inputs,input)\n",
    "            table.insert(targets, target)\n",
    "        end\n",
    "        \n",
    "        -- create closure to evaluate f(X) and df/dX\n",
    "        local feval = function(x)\n",
    "            -- get new parameters\n",
    "            if x ~= parameters then parameters:copy(x) end\n",
    "            \n",
    "            -- reset gradients\n",
    "            gradParameters:zero()\n",
    "            \n",
    "             -- f is the average of all criterions\n",
    "            local f = 0\n",
    "            \n",
    "            -- evaluate function for complete mini batch\n",
    "            for i = 1,#inputs do\n",
    "                -- estimate f\n",
    "                local output = model:forward(inputs[i])\n",
    "                local err = criterion:forward(output, targets[i])\n",
    "                f = f + err\n",
    "                \n",
    "                -- estimate df/dW\n",
    "                local df_dw = criterion:backward(output, targets[i])\n",
    "                model:backward(inputs[i], df_dw)\n",
    "                \n",
    "                -- update confusion\n",
    "                confusion:add(output, targets[i])\n",
    "            end\n",
    "            \n",
    "            -- normalize gradients and f(X)\n",
    "            gradParameters:div(#inputs)\n",
    "            f = f/#inputs\n",
    "            \n",
    "            -- return f and df/dX\n",
    "            return f, gradParameters\n",
    "        end\n",
    "        \n",
    "        -- optimize on current mini-batch\n",
    "        if optimMethod == optim.asgd then _,_,average = optimMethod(feval, parameters, optimState)\n",
    "        else optimMethod(feval, parameters, optimState)\n",
    "        end\n",
    "    end\n",
    "    \n",
    "    -- time taken\n",
    "    time = sys.clock() - time\n",
    "    time = time / trainSet:size()\n",
    "    print(\"\\n==> time to learn 1 sample = \" .. (time*1000) .. 'ms')\n",
    "    \n",
    "    -- print confusion matrix\n",
    "    print(confusion)\n",
    "    \n",
    "    -- update logger/plot\n",
    "    trainLogger:add{['% mean class accuracy (train set)'] = confusion.totalValid * 100}\n",
    "    if opt.plot then\n",
    "        trainLogger:style{['% mean class accuracy (train set)'] = '-'}\n",
    "        trainLogger:plot()\n",
    "    end\n",
    "    \n",
    "    -- save/log current net\n",
    "    local filename = paths.concat(opt.save, 'model.net')\n",
    "    --os.execute('mkdir -p ' .. sys.dirname(filename))\n",
    "    print('==> saving model to '..filename)\n",
    "    torch.save(filename, model)\n",
    "    \n",
    "    -- next epoch\n",
    "    confusion:zero()\n",
    "    epoch = epoch + 1\n",
    "end"
   ]
  },
  {
   "cell_type": "markdown",
   "metadata": {},
   "source": [
    "## Step 5: Test the Model\n",
    "\n",
    "A common thing to do is to test the model's performance while we train it. Usually, this test is done on a subset of the training data, that is kept for validation. Here we simply define the test procedure on the available test set:"
   ]
  },
  {
   "cell_type": "code",
   "execution_count": 8,
   "metadata": {
    "collapsed": false
   },
   "outputs": [
    {
     "data": {
      "text/plain": [
       "==> defining test procedure\t\n"
      ]
     },
     "execution_count": 8,
     "metadata": {},
     "output_type": "execute_result"
    }
   ],
   "source": [
    "----------------------------------------------------------------------\n",
    "-- This script implements save the test result to CSV file\n",
    "----------------------------------------------------------------------\n",
    "\n",
    "print '==> defining test procedure'\n",
    "\n",
    "-- test function\n",
    "function test()\n",
    "    -- print number of testing samples\n",
    "    print('==> Testing on ' .. testSet:size() .. ' samples')\n",
    "    local csv_file_output = paths.concat(opt.save, 'output.csv')\n",
    "    -- local vars\n",
    "    local time = sys.clock()\n",
    "    \n",
    "    -- averaged param use?\n",
    "    if average then\n",
    "        cachedparams = parameters:clone()\n",
    "        parameters:copy(average)\n",
    "    end\n",
    "    \n",
    "    -- set model to evaluate mode (for modules that differ in training and testing, like Dropout)\n",
    "    model:evaluate()\n",
    "    \n",
    "    -- test over test data\n",
    "    print('==> Writing prediction to CSV file:')\n",
    "    local csv_data = {}\n",
    "    csv_data[1] = {'ImageId','Label'}\n",
    "\n",
    "    for t = 1,testSet:size() do\n",
    "        -- disp progress\n",
    "        xlua.progress(t, testSet:size())\n",
    "        \n",
    "        -- get new sample\n",
    "        local input = testSet.data[t]\n",
    "        if opt.type == 'double' then input = input:double()\n",
    "        elseif opt.type == 'cuda' then input = input:cuda() end\n",
    "        \n",
    "        -- test sample\n",
    "        local pred = model:forward(input)\n",
    "        local _, indices = torch.sort(pred, true) \n",
    "        csv_data[t+1] = {}\n",
    "        csv_data[t+1][1] = t\n",
    "        csv_data[t+1][2] = indices[1] - 1\n",
    "    end\n",
    "    \n",
    "    -- timing\n",
    "    time = sys.clock() - time\n",
    "    time = time / testSet:size()\n",
    "    print(\"\\n==> time to test 1 sample = \" .. (time*1000) .. 'ms')\n",
    "    \n",
    "    -- print confusion matrix\n",
    "    csvigo.save{path=csv_file_output,data = csv_data}\n",
    "    \n",
    "    -- averaged param use?\n",
    "    if average then \n",
    "        -- restore parameters\n",
    "        parameters:copy(cachedparams)\n",
    "    end\n",
    "    \n",
    "    -- next iteration:\n",
    "    confusion:zero()\n",
    "end"
   ]
  },
  {
   "cell_type": "code",
   "execution_count": null,
   "metadata": {
    "collapsed": false,
    "scrolled": true
   },
   "outputs": [
    {
     "data": {
      "text/plain": [
       "==> training!\t\n",
       "==> Training on 42000 samples\t\n"
      ]
     },
     "execution_count": 9,
     "metadata": {},
     "output_type": "execute_result"
    },
    {
     "name": "stdout",
     "output_type": "stream",
     "text": [
      "\r",
      " [..............................................]                               \b\b\b\b\b\b\b\b\b\b\b\b\b\b\b\b\b\b\b\b\b\b\b\b\b\b\b\b\b\b ETA: 0ms | Step: 0ms\b\b\b\b\b\b\b\b\b\b\b\b\b\b\b\b\b\b\b\b\b\b\b\b\b\b\b\b\b\b\b\b\b\b\b\b\b\b\b\b\b\b\b\b\b\b\b\b\b "
     ]
    },
    {
     "data": {
      "text/plain": [
       "==> doing epoch on training data:\t\n",
       "==> online epoch # 1 [batchSize = 1]\t\n"
      ]
     },
     "execution_count": 9,
     "metadata": {},
     "output_type": "execute_result"
    },
    {
     "name": "stdout",
     "output_type": "stream",
     "text": [
      " [=============================================>]                               \b\b\b\b\b\b\b\b\b\b\b\b\b\b\b\b\b\b\b\b\b\b\b\b\b\b\b\b\b\b Tot: 8m32s | Step: 11ms\b\b\b\b\b\b\b\b\b\b\b\b\b\b\b\b\b\b\b\b\b\b\b\b\b\b\b\b\b\b\b\b\b\b\b\b\b\b\b\b\b\b\b\b\b\b\b\b\b\b\b\b "
     ]
    },
    {
     "data": {
      "text/plain": [
       "\n",
       "==> time to learn 1 sample = 12.197138547897ms\t\n",
       "ConfusionMatrix:\n",
       "[[    4030      15       6      22       1      13      23       5      15       2]   97.531% \t[class: 0]\n",
       " [       3    4611      37       5       4       1       8      13       2       0]   98.442% \t[class: 1]\n",
       " [      32     101    3838      63      10       6      15      72      35       5]   91.884% \t[class: 2]\n",
       " [      19      54      31    4126       1      33       1      41      31      14]   94.829% \t[class: 3]\n",
       " [      24     108       6       7    3793       0      15      33       9      77]   93.148% \t[class: 4]\n",
       " [      26      68       1     149       1    3486      25       6      14      19]   91.858% \t[class: 5]\n",
       " [      83      67       0      10       7      18    3934       1      16       1]   95.093% \t[class: 6]\n",
       " [       7      74      47      13      14       2       0    4152       8      84]   94.342% \t[class: 7]\n",
       " [      38     131      25      89      17      24      34      29    3614      62]   88.949% \t[class: 8]\n",
       " [      39      62       3      56      45       6       1     167      31    3778]]  90.210% \t[class: 9]\n",
       " + average row correct: 93.628634810448% \n",
       " + average rowUcol correct (VOC measure): 88.287142515182% \n",
       " + global correct: 93.719047619048%\n",
       "{\n",
       "  _mat_flat : LongTensor - size: 100\n",
       "  valids : FloatTensor - size: 10\n",
       "  mat : LongTensor - size: 10x10\n",
       "  averageUnionValid : 0.88287142515182\n",
       "  _targ_idx : LongTensor - empty\n",
       "  averageValid : 0.93628634810448\n",
       "  classes : \n",
       "    {\n",
       "      1 : 0\n",
       "      2 : 1\n",
       "      3 : 2\n",
       "      4 : 3\n",
       "      5 : 4\n",
       "      6 : 5\n",
       "      7 : 6\n",
       "      8 : 7\n",
       "      9 : 8\n",
       "      10 : 9\n",
       "    }\n",
       "  _prediction : FloatTensor - size: 10\n",
       "  _pred_idx : LongTensor - size: 1\n",
       "  nclasses : 10\n",
       "  _max : FloatTensor - size: 1\n"
      ]
     },
     "execution_count": 9,
     "metadata": {},
     "output_type": "execute_result"
    },
    {
     "data": {
      "text/plain": [
       "  _target : FloatTensor - empty\n",
       "  unionvalids : FloatTensor - size: 10\n",
       "  totalValid : 0.93719047619048\n",
       "}\n"
      ]
     },
     "execution_count": 9,
     "metadata": {},
     "output_type": "execute_result"
    },
    {
     "data": {
      "text/plain": [
       "==> saving model to /Users/sameh/Downloads/My Work/Kaggle - MNIST Digit Recognizer/itorch_output/model.net\t\n"
      ]
     },
     "execution_count": 9,
     "metadata": {},
     "output_type": "execute_result"
    },
    {
     "data": {
      "text/plain": [
       "==> Training on 42000 samples\t\n"
      ]
     },
     "execution_count": 9,
     "metadata": {},
     "output_type": "execute_result"
    },
    {
     "data": {
      "text/plain": [
       "==> doing epoch on training data:\t\n",
       "==> online epoch # 2 [batchSize = 1]\t\n"
      ]
     },
     "execution_count": 9,
     "metadata": {},
     "output_type": "execute_result"
    },
    {
     "name": "stdout",
     "output_type": "stream",
     "text": [
      " [=============================================>]                               \b\b\b\b\b\b\b\b\b\b\b\b\b\b\b\b\b\b\b\b\b\b\b\b\b\b\b\b\b\b Tot: 8m20s | Step: 11ms\b\b\b\b\b\b\b\b\b\b\b\b\b\b\b\b\b\b\b\b\b\b\b\b\b\b\b\b\b\b\b\b\b\b\b\b\b\b\b\b\b\b\b\b\b\b\b\b\b\b\b\b "
     ]
    },
    {
     "data": {
      "text/plain": [
       "\n",
       "==> time to learn 1 sample = 11.948729526429ms\t\n",
       "ConfusionMatrix:\n",
       "[[    4103       0       3       1       1       3      13       0       8       0]   99.298% \t[class: 0]\n",
       " [       1    4638      25       2       4       0       0      10       4       0]   99.018% \t[class: 1]\n",
       " [       2      12    4105      11       4       0       2      20      17       4]   98.276% \t[class: 2]\n",
       " [       5       0      15    4265       0      22       0      14      20      10]   98.023% \t[class: 3]\n",
       " [       2       8       5       0    4010       0       4       8       2      33]   98.477% \t[class: 4]\n",
       " [       5       2       3      11       1    3744      15       1       8       5]   98.656% \t[class: 5]\n",
       " [       9       3       2       1       4       9    4097       0      12       0]   99.033% \t[class: 6]\n",
       " [       2       6      26       2      11       1       0    4327       7      19]   98.319% \t[class: 7]\n",
       " [       6       6      17       7      10       7       7       2    3971      30]   97.736% \t[class: 8]\n",
       " [      13       3       1      14      29       9       0      32      17    4070]]  97.182% \t[class: 9]\n",
       " + average row correct: 98.401911854744% \n",
       " + average rowUcol correct (VOC measure): 96.855754256248% \n",
       " + global correct: 98.404761904762%\n",
       "{\n",
       "  _mat_flat : LongTensor - size: 100\n",
       "  valids : FloatTensor - size: 10\n",
       "  mat : LongTensor - size: 10x10\n",
       "  averageUnionValid : 0.96855754256248\n",
       "  _targ_idx : LongTensor - empty\n",
       "  averageValid : 0.98401911854744\n",
       "  classes : \n",
       "    {\n",
       "      1 : 0\n"
      ]
     },
     "execution_count": 9,
     "metadata": {},
     "output_type": "execute_result"
    },
    {
     "data": {
      "text/plain": [
       "      2 : 1\n",
       "      3 : 2\n",
       "      4 : 3\n",
       "      5 : 4\n",
       "      6 : 5\n",
       "      7 : 6\n",
       "      8 : 7\n",
       "      9 : 8\n",
       "      10 : 9\n",
       "    }\n",
       "  _prediction : FloatTensor - size: 10\n",
       "  _pred_idx : LongTensor - size: 1\n",
       "  nclasses : 10\n",
       "  _max : FloatTensor - size: 1\n",
       "  _target : FloatTensor - empty\n",
       "  unionvalids : FloatTensor - size: 10\n",
       "  totalValid : 0.98404761904762\n",
       "}\n"
      ]
     },
     "execution_count": 9,
     "metadata": {},
     "output_type": "execute_result"
    },
    {
     "data": {
      "text/plain": [
       "==> saving model to /Users/sameh/Downloads/My Work/Kaggle - MNIST Digit Recognizer/itorch_output/model.net\t\n"
      ]
     },
     "execution_count": 9,
     "metadata": {},
     "output_type": "execute_result"
    },
    {
     "data": {
      "text/plain": [
       "==> Training on 42000 samples\t\n",
       "==> doing epoch on training data:\t\n",
       "==> online epoch # 3 [batchSize = 1]\t\n"
      ]
     },
     "execution_count": 9,
     "metadata": {},
     "output_type": "execute_result"
    },
    {
     "name": "stdout",
     "output_type": "stream",
     "text": [
      " [=============================================>]                               \b\b\b\b\b\b\b\b\b\b\b\b\b\b\b\b\b\b\b\b\b\b\b\b\b\b\b\b\b\b Tot: 8m23s | Step: 12ms\b\b\b\b\b\b\b\b\b\b\b\b\b\b\b\b\b\b\b\b\b\b\b\b\b\b\b\b\b\b\b\b\b\b\b\b\b\b\b\b\b\b\b\b\b\b\b\b\b\b\b\b "
     ]
    },
    {
     "data": {
      "text/plain": [
       "\n",
       "==> time to learn 1 sample = 12.012469002179ms\t\n"
      ]
     },
     "execution_count": 9,
     "metadata": {},
     "output_type": "execute_result"
    },
    {
     "data": {
      "text/plain": [
       "ConfusionMatrix:\n",
       "[[    4110       0       3       0       0       1      12       0       4       2]   99.468% \t[class: 0]\n",
       " [       0    4654      13       1       2       1       1       7       4       1]   99.360% \t[class: 1]\n",
       " [       2      10    4122      10       3       0       1      15      12       2]   98.683% \t[class: 2]\n",
       " [       3       0      13    4289       0      19       0       7      13       7]   98.575% \t[class: 3]\n",
       " [       0       4       3       0    4031       0       5       4       1      24]   98.993% \t[class: 4]\n",
       " [       3       2       1       7       1    3753      12       1      10       5]   98.893% \t[class: 5]\n",
       " [       8       2       2       1       2       5    4107       0      10       0]   99.275% \t[class: 6]\n",
       " [       0       7      20       5       8       1       0    4345       5      10]   98.728% \t[class: 7]\n",
       " [       5       5      15      10       8       4       8       3    3989      16]   98.179% \t[class: 8]\n",
       " [       9       3       2       4      19       5       0      22      15    4109]]  98.114% \t[class: 9]\n",
       " + average row correct: 98.826653957367% \n",
       " + average rowUcol correct (VOC measure): 97.683081030846% \n",
       " + global correct: 98.830952380952%\n",
       "{\n",
       "  _mat_flat : LongTensor - size: 100\n",
       "  valids : FloatTensor - size: 10\n",
       "  mat : LongTensor - size: 10x10\n",
       "  averageUnionValid : 0.97683081030846\n",
       "  _targ_idx : LongTensor - empty\n",
       "  averageValid : 0.98826653957367\n",
       "  classes : \n",
       "    {\n",
       "      1 : 0\n",
       "      2 : 1\n",
       "      3 : 2\n",
       "      4 : 3\n",
       "      5 : 4\n",
       "      6 : 5\n",
       "      7 : 6\n",
       "      8 : 7\n",
       "      9 : 8\n",
       "      10 : 9\n",
       "    }\n",
       "  _prediction : FloatTensor - size: 10\n",
       "  _pred_idx : LongTensor - size: 1\n",
       "  nclasses : 10\n",
       "  _max : FloatTensor - size: 1\n",
       "  _target : FloatTensor - empty\n",
       "  unionvalids : FloatTensor - size: 10\n",
       "  totalValid : 0.98830952380952\n",
       "}\n"
      ]
     },
     "execution_count": 9,
     "metadata": {},
     "output_type": "execute_result"
    },
    {
     "data": {
      "text/plain": [
       "==> saving model to /Users/sameh/Downloads/My Work/Kaggle - MNIST Digit Recognizer/itorch_output/model.net\t\n"
      ]
     },
     "execution_count": 9,
     "metadata": {},
     "output_type": "execute_result"
    },
    {
     "data": {
      "text/plain": [
       "==> Training on 42000 samples\t\n",
       "==> doing epoch on training data:\t\n",
       "==> online epoch # 4 [batchSize = 1]\t\n"
      ]
     },
     "execution_count": 9,
     "metadata": {},
     "output_type": "execute_result"
    },
    {
     "name": "stdout",
     "output_type": "stream",
     "text": [
      " [=============================================>]                               \b\b\b\b\b\b\b\b\b\b\b\b\b\b\b\b\b\b\b\b\b\b\b\b\b\b\b\b\b\b Tot: 8m20s | Step: 11ms\b\b\b\b\b\b\b\b\b\b\b\b\b\b\b\b\b\b\b\b\b\b\b\b\b\b\b\b\b\b\b\b\b\b\b\b\b\b\b\b\b\b\b\b\b\b\b\b\b\b\b\b "
     ]
    },
    {
     "data": {
      "text/plain": [
       "\n",
       "==> time to learn 1 sample = 11.950023645446ms\t\n"
      ]
     },
     "execution_count": 9,
     "metadata": {},
     "output_type": "execute_result"
    },
    {
     "data": {
      "text/plain": [
       "ConfusionMatrix:\n",
       "[[    4116       0       2       0       0       1       8       0       3       2]   99.613% \t[class: 0]\n",
       " [       1    4659       7       2       2       0       2       8       3       0]   99.466% \t[class: 1]\n",
       " [       1       6    4141       5       1       0       1      13       6       3]   99.138% \t[class: 2]\n",
       " [       2       0      11    4304       0      14       0       5       8       7]   98.920% \t[class: 3]\n",
       " [       2       2       2       0    4036       1       5       4       3      17]   99.116% \t[class: 4]\n",
       " [       3       0       2       6       0    3762      14       0       6       2]   99.130% \t[class: 5]\n",
       " [       5       2       2       1       2       6    4113       0       6       0]   99.420% \t[class: 6]\n",
       " [       0       6      17       2       5       0       0    4362       2       7]   99.114% \t[class: 7]\n",
       " [       4       4      10       5       4       6       4       1    4012      13]   98.745% \t[class: 8]\n",
       " [       7       3       1       2      19       6       0      16      13    4121]]  98.400% \t[class: 9]\n",
       " + average row correct: 99.106199145317% \n",
       " + average rowUcol correct (VOC measure): 98.227244019508% \n",
       " + global correct: 99.109523809524%\n",
       "{\n",
       "  _mat_flat : LongTensor - size: 100\n",
       "  valids : FloatTensor - size: 10\n",
       "  mat : LongTensor - size: 10x10\n",
       "  averageUnionValid : 0.98227244019508\n",
       "  _targ_idx : LongTensor - empty\n",
       "  averageValid : 0.99106199145317\n",
       "  classes : \n",
       "    {\n",
       "      1 : 0\n",
       "      2 : 1\n",
       "      3 : 2\n",
       "      4 : 3\n",
       "      5 : 4\n",
       "      6 : 5\n",
       "      7 : 6\n",
       "      8 : 7\n",
       "      9 : 8\n",
       "      10 : 9\n",
       "    }\n",
       "  _prediction : FloatTensor - size: 10\n",
       "  _pred_idx : LongTensor - size: 1\n",
       "  nclasses : 10\n",
       "  _max : FloatTensor - size: 1\n",
       "  _target : FloatTensor - empty\n",
       "  unionvalids : FloatTensor - size: 10\n",
       "  totalValid : 0.99109523809524\n",
       "}\n"
      ]
     },
     "execution_count": 9,
     "metadata": {},
     "output_type": "execute_result"
    },
    {
     "data": {
      "text/plain": [
       "==> saving model to /Users/sameh/Downloads/My Work/Kaggle - MNIST Digit Recognizer/itorch_output/model.net\t\n"
      ]
     },
     "execution_count": 9,
     "metadata": {},
     "output_type": "execute_result"
    },
    {
     "data": {
      "text/plain": [
       "==> Training on 42000 samples\t\n",
       "==> doing epoch on training data:\t\n",
       "==> online epoch # 5 [batchSize = 1]\t\n"
      ]
     },
     "execution_count": 9,
     "metadata": {},
     "output_type": "execute_result"
    },
    {
     "name": "stdout",
     "output_type": "stream",
     "text": [
      " [=============================================>]                               \b\b\b\b\b\b\b\b\b\b\b\b\b\b\b\b\b\b\b\b\b\b\b\b\b\b\b\b\b\b Tot: 7m57s | Step: 12ms\b\b\b\b\b\b\b\b\b\b\b\b\b\b\b\b\b\b\b\b\b\b\b\b\b\b\b\b\b\b\b\b\b\b\b\b\b\b\b\b\b\b\b\b\b\b\b\b\b\b\b\b "
     ]
    },
    {
     "data": {
      "text/plain": [
       "\n",
       "==> time to learn 1 sample = 11.398810142563ms\t\n"
      ]
     },
     "execution_count": 9,
     "metadata": {},
     "output_type": "execute_result"
    },
    {
     "data": {
      "text/plain": [
       "ConfusionMatrix:\n",
       "[[    4120       0       2       0       0       0       5       0       3       2]   99.710% \t[class: 0]\n",
       " [       0    4664       6       1       2       0       2       7       2       0]   99.573% \t[class: 1]\n",
       " [       0       3    4149       4       3       0       0      12       5       1]   99.330% \t[class: 2]\n",
       " [       2       0       7    4312       0      11       0       6       8       5]   99.104% \t[class: 3]\n",
       " [       0       2       1       0    4044       0       4       5       2      14]   99.312% \t[class: 4]\n",
       " [       2       0       1       7       0    3771       7       0       4       3]   99.368% \t[class: 5]\n",
       " [       6       2       1       1       1       5    4114       0       7       0]   99.444% \t[class: 6]\n",
       " [       0       6      13       0       5       0       0    4368       1       8]   99.250% \t[class: 7]\n",
       " [       2       3       8       5       3       3       4       2    4021      12]   98.966% \t[class: 8]\n",
       " [       4       2       2       0      12       4       0      15      12    4137]]  98.782% \t[class: 9]\n",
       " + average row correct: 99.28386092186% \n",
       " + average rowUcol correct (VOC measure): 98.578516244888% \n",
       " + global correct: 99.285714285714%\n",
       "{\n",
       "  _mat_flat : LongTensor - size: 100\n",
       "  valids : FloatTensor - size: 10\n",
       "  mat : LongTensor - size: 10x10\n",
       "  averageUnionValid : 0.98578516244888\n",
       "  _targ_idx : LongTensor - empty\n",
       "  averageValid : 0.9928386092186\n",
       "  classes : \n",
       "    {\n",
       "      1 : 0\n",
       "      2 : 1\n",
       "      3 : 2\n",
       "      4 : 3\n",
       "      5 : 4\n",
       "      6 : 5\n",
       "      7 : 6\n",
       "      8 : 7\n",
       "      9 : 8\n",
       "      10 : 9\n",
       "    }\n",
       "  _prediction : FloatTensor - size: 10\n",
       "  _pred_idx : LongTensor - size: 1\n",
       "  nclasses : 10\n",
       "  _max : FloatTensor - size: 1\n",
       "  _target : FloatTensor - empty\n",
       "  unionvalids : FloatTensor - size: 10\n",
       "  totalValid : 0.99285714285714\n",
       "}\n"
      ]
     },
     "execution_count": 9,
     "metadata": {},
     "output_type": "execute_result"
    },
    {
     "data": {
      "text/plain": [
       "==> saving model to /Users/sameh/Downloads/My Work/Kaggle - MNIST Digit Recognizer/itorch_output/model.net\t\n"
      ]
     },
     "execution_count": 9,
     "metadata": {},
     "output_type": "execute_result"
    },
    {
     "data": {
      "text/plain": [
       "==> Training on 42000 samples\t\n"
      ]
     },
     "execution_count": 9,
     "metadata": {},
     "output_type": "execute_result"
    },
    {
     "data": {
      "text/plain": [
       "==> doing epoch on training data:\t\n",
       "==> online epoch # 6 [batchSize = 1]\t\n"
      ]
     },
     "execution_count": 9,
     "metadata": {},
     "output_type": "execute_result"
    },
    {
     "name": "stdout",
     "output_type": "stream",
     "text": [
      " [=============================================>]                               \b\b\b\b\b\b\b\b\b\b\b\b\b\b\b\b\b\b\b\b\b\b\b\b\b\b\b\b\b\b Tot: 8m6s | Step: 11ms\b\b\b\b\b\b\b\b\b\b\b\b\b\b\b\b\b\b\b\b\b\b\b\b\b\b\b\b\b\b\b\b\b\b\b\b\b\b\b\b\b\b\b\b\b\b\b\b\b\b\b "
     ]
    },
    {
     "data": {
      "text/plain": [
       "\n",
       "==> time to learn 1 sample = 11.615440425419ms\t\n"
      ]
     },
     "execution_count": 9,
     "metadata": {},
     "output_type": "execute_result"
    },
    {
     "data": {
      "text/plain": [
       "ConfusionMatrix:\n",
       "[[    4124       0       0       0       1       0       4       0       1       2]   99.806% \t[class: 0]\n",
       " [       0    4664       6       0       2       0       2       6       4       0]   99.573% \t[class: 1]\n",
       " [       0       4    4154       4       1       0       0       9       4       1]   99.449% \t[class: 2]\n",
       " [       2       0       4    4323       0       6       0       4       6       6]   99.356% \t[class: 3]\n",
       " [       0       1       0       0    4052       0       3       2       0      14]   99.509% \t[class: 4]\n",
       " [       1       0       0       2       0    3778       6       0       6       2]   99.552% \t[class: 5]\n",
       " [       4       1       1       1       1       5    4118       0       6       0]   99.541% \t[class: 6]\n",
       " [       0       7      11       1       5       0       0    4369       3       5]   99.273% \t[class: 7]\n",
       " [       2       1       8       3       3       6       1       1    4025      13]   99.065% \t[class: 8]\n",
       " [       5       1       1       3       9       3       0      11       8    4147]]  99.021% \t[class: 9]\n",
       " + average row correct: 99.414548873901% \n",
       " + average rowUcol correct (VOC measure): 98.833605647087% \n",
       " + global correct: 99.414285714286%\n",
       "{\n",
       "  _mat_flat : LongTensor - size: 100\n",
       "  valids : FloatTensor - size: 10\n",
       "  mat : LongTensor - size: 10x10\n",
       "  averageUnionValid : 0.98833605647087\n",
       " "
      ]
     },
     "execution_count": 9,
     "metadata": {},
     "output_type": "execute_result"
    },
    {
     "data": {
      "text/plain": [
       " _targ_idx : LongTensor - empty\n",
       "  averageValid : 0.99414548873901\n",
       "  classes : \n",
       "    {\n",
       "      1 : 0\n",
       "      2 : 1\n",
       "      3 : 2\n",
       "      4 : 3\n",
       "      5 : 4\n",
       "      6 : 5\n",
       "      7 : 6\n",
       "      8 : 7\n",
       "      9 : 8\n",
       "      10 : 9\n",
       "    }\n",
       "  _prediction : FloatTensor - size: 10\n",
       "  _pred_idx : LongTensor - size: 1\n",
       "  nclasses : 10\n",
       "  _max : FloatTensor - size: 1\n",
       "  _target : FloatTensor - empty\n",
       "  unionvalids : FloatTensor - size: 10\n",
       "  totalValid : 0.99414285714286\n",
       "}\n"
      ]
     },
     "execution_count": 9,
     "metadata": {},
     "output_type": "execute_result"
    },
    {
     "data": {
      "text/plain": [
       "==> saving model to /Users/sameh/Downloads/My Work/Kaggle - MNIST Digit Recognizer/itorch_output/model.net\t\n"
      ]
     },
     "execution_count": 9,
     "metadata": {},
     "output_type": "execute_result"
    },
    {
     "data": {
      "text/plain": [
       "==> Training on 42000 samples\t\n"
      ]
     },
     "execution_count": 9,
     "metadata": {},
     "output_type": "execute_result"
    },
    {
     "data": {
      "text/plain": [
       "==> doing epoch on training data:\t\n",
       "==> online epoch # 7 [batchSize = 1]\t\n"
      ]
     },
     "execution_count": 9,
     "metadata": {},
     "output_type": "execute_result"
    },
    {
     "name": "stdout",
     "output_type": "stream",
     "text": [
      " [=============================================>]                               \b\b\b\b\b\b\b\b\b\b\b\b\b\b\b\b\b\b\b\b\b\b\b\b\b\b\b\b\b\b Tot: 8m15s | Step: 11ms\b\b\b\b\b\b\b\b\b\b\b\b\b\b\b\b\b\b\b\b\b\b\b\b\b\b\b\b\b\b\b\b\b\b\b\b\b\b\b\b\b\b\b\b\b\b\b\b\b\b\b\b "
     ]
    },
    {
     "data": {
      "text/plain": [
       "\n",
       "==> time to learn 1 sample = 11.821112740607ms\t\n",
       "ConfusionMatrix:\n",
       "[[    4122       0       0       0       1       0       4       0       3       2]   99.758% \t[class: 0]\n",
       " [       0    4666       6       0       1       0       1       7       3       0]   99.616% \t[class: 1]\n",
       " [       1       1    4155       4       1       0       0      10       4       1]   99.473% \t[class: 2]\n",
       " [       1       0       5    4331       0       3       0       3       4       4]   99.540% \t[class: 3]\n",
       " [       0       1       0       0    4052       0       4       2       1      12]   99.509% \t[class: 4]\n",
       " [       1       0       0       2       0    3781       4       0       5       2]   99.631% \t[class: 5]\n",
       " [       3       0       1       1       2       3    4123       0       4       0]   99.662% \t[class: 6]\n",
       " [       0       7       8       0       5       0       0    4375       3       3]   99.409% \t[class: 7]\n",
       " [       0       2       7       2       3       5       2       1    4031      10]   99.212% \t[class: 8]\n",
       " [       3       3       0       0      12       3       0      10       8    4149]]  99.069% \t[class: 9]\n",
       " + average row correct: 99.487925171852% \n",
       " + average rowUcol correct (VOC measure): 98.98028075695% \n",
       " + global correct: 99.488095238095%\n",
       "{\n",
       "  _mat_flat : LongTensor - size: 100\n",
       "  valids : FloatTensor - size: 10\n",
       "  mat : LongTensor - size: 10x10\n",
       "  averageUnionValid : 0.9898028075695\n",
       "  _targ_idx : LongTensor - empty\n",
       "  averageValid : 0.99487925171852\n",
       "  classes : \n",
       "    {\n",
       "      1 : 0\n",
       "      2 : 1\n",
       "      3 : 2\n",
       "      4 : 3\n",
       "    "
      ]
     },
     "execution_count": 9,
     "metadata": {},
     "output_type": "execute_result"
    },
    {
     "data": {
      "text/plain": [
       "  5 : 4\n",
       "      6 : 5\n",
       "      7 : 6\n",
       "      8 : 7\n",
       "      9 : 8\n",
       "      10 : 9\n",
       "    }\n",
       "  _prediction : FloatTensor - size: 10\n",
       "  _pred_idx : LongTensor - size: 1\n",
       "  nclasses : 10\n",
       "  _max : FloatTensor - size: 1\n",
       "  _target : FloatTensor - empty\n",
       "  unionvalids : FloatTensor - size: 10\n",
       "  totalValid : 0.99488095238095\n",
       "}\n"
      ]
     },
     "execution_count": 9,
     "metadata": {},
     "output_type": "execute_result"
    },
    {
     "data": {
      "text/plain": [
       "==> saving model to /Users/sameh/Downloads/My Work/Kaggle - MNIST Digit Recognizer/itorch_output/model.net\t\n"
      ]
     },
     "execution_count": 9,
     "metadata": {},
     "output_type": "execute_result"
    },
    {
     "data": {
      "text/plain": [
       "==> Training on 42000 samples\t\n",
       "==> doing epoch on training data:\t\n",
       "==> online epoch # 8 [batchSize = 1]\t\n"
      ]
     },
     "execution_count": 9,
     "metadata": {},
     "output_type": "execute_result"
    },
    {
     "name": "stdout",
     "output_type": "stream",
     "text": [
      " [=============================================>]                               \b\b\b\b\b\b\b\b\b\b\b\b\b\b\b\b\b\b\b\b\b\b\b\b\b\b\b\b\b\b Tot: 10m25s | Step: 26ms\b\b\b\b\b\b\b\b\b\b\b\b\b\b\b\b\b\b\b\b\b\b\b\b\b\b\b\b\b\b\b\b\b\b\b\b\b\b\b\b\b\b\b\b\b\b\b\b\b\b\b\b\b "
     ]
    },
    {
     "data": {
      "text/plain": [
       "\n",
       "==> time to learn 1 sample = 14.90360726629ms\t\n",
       "ConfusionMatrix:\n",
       "[[    4126       0       1       0       1       0       2       0       1       1]   99.855% \t[class: 0]\n",
       " [       0    4669       4       0       0       0       2       7       2       0]   99.680% \t[class: 1]\n",
       " [       0       1    4159       2       1       0       0      11       2       1]   99.569% \t[class: 2]\n",
       " [       1       0       4    4332       0       4       0       2       4       4]   99.563% \t[class: 3]\n",
       " [       0       1       0       0    4054       0       2       2       1      12]   99.558% \t[class: 4]\n",
       " [       1       0       0       2       0    3784       4       0       2       2]   99.710% \t[class: 5]\n",
       " [       2       1       1       1       1       4    4125       0       2       0]   99.710% \t[class: 6]\n",
       " [       0       8       8       1       4       0       0    4375       0       5]   99.409% \t[class: 7]\n",
       " [       0       1       5       3       0       4       1       0    4040       9]   99.434% \t[class: 8]\n",
       " [       4       1       1       0      10       3       0       7       5    4157]]  99.260% \t[class: 9]\n",
       " + average row correct: 99.574790000916% \n",
       " + average rowUcol correct (VOC measure): 99.152089953423% \n",
       " + global correct: 99.57380952381%\n",
       "{\n",
       "  _mat_flat : LongTensor - size: 100\n",
       "  valids : FloatTensor - size: 10\n",
       "  mat : LongTensor - size: 10x10\n",
       "  averageUnionValid : 0.99152089953423\n",
       "  _targ_idx : LongTensor - empty\n"
      ]
     },
     "execution_count": 9,
     "metadata": {},
     "output_type": "execute_result"
    },
    {
     "data": {
      "text/plain": [
       "  averageValid : 0.99574790000916\n",
       "  classes : \n",
       "    {\n",
       "      1 : 0\n",
       "      2 : 1\n",
       "      3 : 2\n",
       "      4 : 3\n",
       "      5 : 4\n",
       "      6 : 5\n",
       "      7 : 6\n",
       "      8 : 7\n",
       "      9 : 8\n",
       "      10 : 9\n",
       "    }\n",
       "  _prediction : FloatTensor - size: 10\n",
       "  _pred_idx : LongTensor - size: 1\n",
       "  nclasses : 10\n",
       "  _max : FloatTensor - size: 1\n",
       "  _target : FloatTensor - empty\n",
       "  unionvalids : FloatTensor - size: 10\n",
       "  totalValid : 0.9957380952381\n",
       "}\n"
      ]
     },
     "execution_count": 9,
     "metadata": {},
     "output_type": "execute_result"
    },
    {
     "data": {
      "text/plain": [
       "==> saving model to /Users/sameh/Downloads/My Work/Kaggle - MNIST Digit Recognizer/itorch_output/model.net\t\n"
      ]
     },
     "execution_count": 9,
     "metadata": {},
     "output_type": "execute_result"
    },
    {
     "data": {
      "text/plain": [
       "==> Training on 42000 samples\t\n"
      ]
     },
     "execution_count": 9,
     "metadata": {},
     "output_type": "execute_result"
    },
    {
     "data": {
      "text/plain": [
       "==> doing epoch on training data:\t\n",
       "==> online epoch # 9 [batchSize = 1]\t\n"
      ]
     },
     "execution_count": 9,
     "metadata": {},
     "output_type": "execute_result"
    },
    {
     "name": "stdout",
     "output_type": "stream",
     "text": [
      " [=============================================>]                               \b\b\b\b\b\b\b\b\b\b\b\b\b\b\b\b\b\b\b\b\b\b\b\b\b\b\b\b\b\b Tot: 15m47s | Step: 21ms\b\b\b\b\b\b\b\b\b\b\b\b\b\b\b\b\b\b\b\b\b\b\b\b\b\b\b\b\b\b\b\b\b\b\b\b\b\b\b\b\b\b\b\b\b\b\b\b\b\b\b\b\b "
     ]
    },
    {
     "data": {
      "text/plain": [
       "\n",
       "==> time to learn 1 sample = 22.581600189209ms\t\n"
      ]
     },
     "execution_count": 9,
     "metadata": {},
     "output_type": "execute_result"
    },
    {
     "data": {
      "text/plain": [
       "ConfusionMatrix:\n",
       "[[    4125       0       1       0       0       0       3       0       2       1]   99.831% \t[class: 0]\n",
       " [       0    4669       5       0       1       0       2       6       1       0]   99.680% \t[class: 1]\n",
       " [       0       0    4166       2       1       0       0       5       1       2]   99.737% \t[class: 2]\n",
       " [       0       0       3    4332       0       6       0       2       4       4]   99.563% \t[class: 3]\n",
       " [       0       1       0       0    4057       0       2       1       3       8]   99.632% \t[class: 4]\n",
       " [       0       0       0       2       0    3788       3       0       1       1]   99.816% \t[class: 5]\n",
       " [       3       1       0       1       1       3    4125       0       3       0]   99.710% \t[class: 6]\n",
       " [       0       6       6       0       4       0       0    4381       1       3]   99.546% \t[class: 7]\n",
       " [       1       1       6       2       0       3       1       1    4041       7]   99.459% \t[class: 8]\n",
       " [       3       1       1       0       8       2       0       7       4    4162]]  99.379% \t[class: 9]\n",
       " + average row correct: 99.635069966316% \n",
       " + average rowUcol correct (VOC measure): 99.269458651543% \n",
       " + global correct: 99.633333333333%\n",
       "{\n",
       "  _mat_flat : LongTensor - size: 100\n",
       "  valids : FloatTensor - size: 10\n",
       "  mat : LongTensor - size: 10x10\n",
       "  averageUnionValid : 0.99269458651543\n",
       "  _targ_idx : LongTensor - empty\n",
       "  averageValid : 0.99635069966316\n",
       "  classes : \n",
       "    {\n",
       "      1 : 0\n",
       "      2 : 1\n",
       "      3 : 2\n",
       "      4 : 3\n",
       "      5 : 4\n",
       "      6 : 5\n",
       "      7 : 6\n",
       "      8 : 7\n",
       "      9 : 8\n",
       "      10 : 9\n",
       "    }\n",
       "  _prediction : FloatTensor - size: 10\n",
       "  _pred_idx : LongTensor - size: 1\n",
       "  nclasses : 10\n",
       "  _max : FloatTensor - size: 1\n",
       "  _target : FloatTensor - empty\n",
       "  unionvalids : FloatTensor - size: 10\n",
       "  totalValid : 0.99633333333333\n",
       "}\n"
      ]
     },
     "execution_count": 9,
     "metadata": {},
     "output_type": "execute_result"
    },
    {
     "data": {
      "text/plain": [
       "==> saving model to /Users/sameh/Downloads/My Work/Kaggle - MNIST Digit Recognizer/itorch_output/model.net\t\n"
      ]
     },
     "execution_count": 9,
     "metadata": {},
     "output_type": "execute_result"
    },
    {
     "data": {
      "text/plain": [
       "==> Training on 42000 samples\t\n"
      ]
     },
     "execution_count": 9,
     "metadata": {},
     "output_type": "execute_result"
    },
    {
     "data": {
      "text/plain": [
       "==> doing epoch on training data:\t\n",
       "==> online epoch # 10 [batchSize = 1]\t\n"
      ]
     },
     "execution_count": 9,
     "metadata": {},
     "output_type": "execute_result"
    },
    {
     "name": "stdout",
     "output_type": "stream",
     "text": [
      " [=============================================>]                               \b\b\b\b\b\b\b\b\b\b\b\b\b\b\b\b\b\b\b\b\b\b\b\b\b\b\b\b\b\b Tot: 7m49s | Step: 11ms\b\b\b\b\b\b\b\b\b\b\b\b\b\b\b\b\b\b\b\b\b\b\b\b\b\b\b\b\b\b\b\b\b\b\b\b\b\b\b\b\b\b\b\b\b\b\b\b\b\b\b\b "
     ]
    },
    {
     "data": {
      "text/plain": [
       "\n",
       "==> time to learn 1 sample = 11.189762927237ms\t\n",
       "ConfusionMatrix:\n",
       "[[    4128       0       0       0       1       0       2       0       1       0]   99.903% \t[class: 0]\n",
       " [       0    4672       2       0       1       0       1       7       1       0]   99.744% \t[class: 1]\n",
       " [       0       0    4169       1       1       0       0       4       1       1]   99.808% \t[class: 2]\n",
       " [       1       0       3    4332       0       5       0       2       4       4]   99.563% \t[class: 3]\n",
       " [       0       2       0       0    4057       0       1       1       1      10]   99.632% \t[class: 4]\n",
       " [       0       0       0       0       0    3790       3       0       1       1]   99.868% \t[class: 5]\n",
       " [       1       1       0       1       1       2    4131       0       0       0]   99.855% \t[class: 6]\n",
       " [       0       6       4       0       3       0       0    4383       0       5]   99.591% \t[class: 7]\n",
       " [       0       2       3       2       1       1       1       0    4046       7]   99.582% \t[class: 8]\n",
       " [       1       0       1       1      11       2       0       5       4    4163]]  99.403% \t[class: 9]\n",
       " + average row correct: 99.694929122925% \n",
       " + average rowUcol correct (VOC measure): 99.389536976814% \n",
       " + global correct: 99.692857142857%\n",
       "{\n",
       "  _mat_flat : LongTensor - size: 100\n",
       "  valids : FloatTensor - size: 10\n",
       "  mat : LongTensor - size: 10x10\n",
       "  averageUnionValid : 0.99389536976814\n",
       "  _targ_idx : LongTensor - empty\n",
       "  averageValid : 0.99694929122925\n",
       "  classes : \n",
       "    {\n",
       "      1 : 0\n",
       "      2 : 1\n",
       "      3 : 2\n",
       "      4 : 3\n",
       "      5 : 4\n",
       "      6 : 5\n",
       "      7 : 6\n",
       "      8 : 7\n",
       "      9 : 8\n",
       "      10 : 9\n",
       "    }\n",
       "  _prediction : FloatTensor - size: 10\n",
       "  _pred_idx : LongTensor - size: 1\n",
       "  nclasses : 10\n",
       "  _max : FloatTensor - size: 1\n",
       "  _target : FloatTensor - empty\n",
       "  unionvalids : FloatTensor - size: 10\n",
       "  totalValid : 0.99692857142857\n",
       "}\n"
      ]
     },
     "execution_count": 9,
     "metadata": {},
     "output_type": "execute_result"
    },
    {
     "data": {
      "text/plain": [
       "==> saving model to /Users/sameh/Downloads/My Work/Kaggle - MNIST Digit Recognizer/itorch_output/model.net\t\n"
      ]
     },
     "execution_count": 9,
     "metadata": {},
     "output_type": "execute_result"
    },
    {
     "data": {
      "text/plain": [
       "==> Training on 42000 samples\t\n",
       "==> doing epoch on training data:\t\n",
       "==> online epoch # 11 [batchSize = 1]\t\n"
      ]
     },
     "execution_count": 9,
     "metadata": {},
     "output_type": "execute_result"
    },
    {
     "name": "stdout",
     "output_type": "stream",
     "text": [
      " [=============================================>]                               \b\b\b\b\b\b\b\b\b\b\b\b\b\b\b\b\b\b\b\b\b\b\b\b\b\b\b\b\b\b Tot: 7m48s | Step: 11ms\b\b\b\b\b\b\b\b\b\b\b\b\b\b\b\b\b\b\b\b\b\b\b\b\b\b\b\b\b\b\b\b\b\b\b\b\b\b\b\b\b\b\b\b\b\b\b\b\b\b\b\b "
     ]
    },
    {
     "data": {
      "text/plain": [
       "\n",
       "==> time to learn 1 sample = 11.188308500108ms\t\n",
       "ConfusionMatrix:\n",
       "[[    4129       0       1       0       0       0       1       0       1       0]   99.927% \t[class: 0]\n",
       " [       0    4675       1       0       1       0       1       6       0       0]   99.808% \t[class: 1]\n",
       " [       0       0    4169       1       0       0       0       5       1       1]   99.808% \t[class: 2]\n",
       " [       0       0       1    4345       0       1       0       0       1       3]   99.862% \t[class: 3]\n",
       " [       0       1       0       0    4060       0       1       1       0       9]   99.705% \t[class: 4]\n",
       " [       0       0       0       1       0    3789       2       0       1       2]   99.842% \t[class: 5]\n",
       " [       3       2       0       1       0       2    4128       0       1       0]   99.782% \t[class: 6]\n",
       " [       0       6       4       0       3       0       0    4385       0       3]   99.636% \t[class: 7]\n",
       " [       0       1       2       2       0       2       1       0    4048       7]   99.631% \t[class: 8]\n",
       " [       1       0       1       1       7       1       0       5       3    4169]]  99.546% \t[class: 9]\n",
       " + average row correct: 99.75490629673% \n",
       " + average rowUcol correct (VOC measure): 99.51232790947% \n",
       " + global correct: 99.754761904762%\n",
       "{\n",
       "  _mat_flat : LongTensor - size: 100\n",
       "  valids : FloatTensor - size: 10\n",
       "  mat : LongTensor - size: 10x10\n",
       "  averageUnionValid : 0.9951232790947\n",
       "  _targ_idx : LongTensor - empty\n",
       "  averageValid : 0.9975490629673\n",
       "  classes : \n",
       "    {\n",
       "      1 : 0\n",
       "      2 : 1\n",
       "      3 : 2\n",
       "      4 : 3\n",
       "      5 : 4\n",
       "      6 : 5\n",
       "      7 : 6\n",
       "      8 : 7\n",
       "      9 : 8\n",
       "      10 : 9\n",
       "    }\n",
       "  _prediction : FloatTensor - size: 10\n",
       "  _pred_idx : LongTensor - size: 1\n",
       "  nclasses : 10\n",
       "  _max : FloatTensor - size: 1\n",
       "  _target : FloatTensor - empty\n",
       "  unionvalids : FloatTensor - size: 10\n",
       "  totalValid : 0.99754761904762\n",
       "}\n"
      ]
     },
     "execution_count": 9,
     "metadata": {},
     "output_type": "execute_result"
    },
    {
     "data": {
      "text/plain": [
       "==> saving model to /Users/sameh/Downloads/My Work/Kaggle - MNIST Digit Recognizer/itorch_output/model.net\t\n"
      ]
     },
     "execution_count": 9,
     "metadata": {},
     "output_type": "execute_result"
    },
    {
     "data": {
      "text/plain": [
       "==> Training on 42000 samples\t\n"
      ]
     },
     "execution_count": 9,
     "metadata": {},
     "output_type": "execute_result"
    },
    {
     "data": {
      "text/plain": [
       "==> doing epoch on training data:\t\n",
       "==> online epoch # 12 [batchSize = 1]\t\n"
      ]
     },
     "execution_count": 9,
     "metadata": {},
     "output_type": "execute_result"
    },
    {
     "name": "stdout",
     "output_type": "stream",
     "text": [
      " [=============================================>]                               \b\b\b\b\b\b\b\b\b\b\b\b\b\b\b\b\b\b\b\b\b\b\b\b\b\b\b\b\b\b Tot: 19m27s | Step: 13ms\b\b\b\b\b\b\b\b\b\b\b\b\b\b\b\b\b\b\b\b\b\b\b\b\b\b\b\b\b\b\b\b\b\b\b\b\b\b\b\b\b\b\b\b\b\b\b\b\b\b\b\b\b "
     ]
    },
    {
     "data": {
      "text/plain": [
       "\n",
       "==> time to learn 1 sample = 27.815351332937ms\t\n"
      ]
     },
     "execution_count": 9,
     "metadata": {},
     "output_type": "execute_result"
    },
    {
     "data": {
      "text/plain": [
       "ConfusionMatrix:\n",
       "[[    4130       0       0       0       0       0       1       0       1       0]   99.952% \t[class: 0]\n",
       " [       0    4676       1       0       0       0       1       6       0       0]   99.829% \t[class: 1]\n",
       " [       0       0    4173       0       0       0       0       3       1       0]   99.904% \t[class: 2]\n",
       " [       0       0       1    4343       0       2       0       1       1       3]   99.816% \t[class: 3]\n",
       " [       0       1       0       0    4059       0       1       1       1       9]   99.681% \t[class: 4]\n",
       " [       0       0       0       0       0    3793       1       0       1       0]   99.947% \t[class: 5]\n",
       " [       2       0       0       0       1       1    4131       0       2       0]   99.855% \t[class: 6]\n",
       " [       0       7       1       0       1       0       0    4390       0       2]   99.750% \t[class: 7]\n",
       " [       0       0       2       2       0       2       1       0    4050       6]   99.680% \t[class: 8]\n",
       " [       2       0       0       0       6       1       0       5       3    4171]]  99.594% \t[class: 9]\n",
       " + average row correct: 99.800835847855% \n",
       " + average rowUcol correct (VOC measure): 99.602299928665% \n",
       " + global correct: 99.8%\n",
       "{\n",
       "  _mat_flat : LongTensor - size: 100\n",
       "  valids : FloatTensor - size: 10\n",
       "  mat : LongTensor - size: 10x10\n",
       "  averageUnionValid : 0.99602299928665\n",
       "  _targ_idx : LongTensor - empty\n",
       "  averageValid : 0.99800835847855\n",
       "  classes : \n",
       "    {\n",
       "      1 : 0\n",
       "      2 : 1\n",
       "      3 : 2\n",
       "      4 : 3\n",
       "      5 : 4\n",
       "      6 : 5\n",
       "      7 : 6\n",
       "      8 : 7\n",
       "      9 : 8\n",
       "      10 : 9\n",
       "    }\n",
       "  _prediction : FloatTensor - size: 10\n",
       "  _pred_idx : LongTensor - size: 1\n",
       "  nclasses : 10\n",
       "  _max : FloatTensor - size: 1\n",
       "  _target : FloatTensor - empty\n",
       "  unionvalids : FloatTensor - size: 10\n",
       "  totalValid : 0.998\n",
       "}\n"
      ]
     },
     "execution_count": 9,
     "metadata": {},
     "output_type": "execute_result"
    },
    {
     "data": {
      "text/plain": [
       "==> saving model to /Users/sameh/Downloads/My Work/Kaggle - MNIST Digit Recognizer/itorch_output/model.net\t\n"
      ]
     },
     "execution_count": 9,
     "metadata": {},
     "output_type": "execute_result"
    },
    {
     "data": {
      "text/plain": [
       "==> Training on 42000 samples\t\n"
      ]
     },
     "execution_count": 9,
     "metadata": {},
     "output_type": "execute_result"
    },
    {
     "data": {
      "text/plain": [
       "==> doing epoch on training data:\t\n",
       "==> online epoch # 13 [batchSize = 1]\t\n"
      ]
     },
     "execution_count": 9,
     "metadata": {},
     "output_type": "execute_result"
    },
    {
     "name": "stdout",
     "output_type": "stream",
     "text": [
      " [=============================================>]                               \b\b\b\b\b\b\b\b\b\b\b\b\b\b\b\b\b\b\b\b\b\b\b\b\b\b\b\b\b\b Tot: 8m37s | Step: 12ms\b\b\b\b\b\b\b\b\b\b\b\b\b\b\b\b\b\b\b\b\b\b\b\b\b\b\b\b\b\b\b\b\b\b\b\b\b\b\b\b\b\b\b\b\b\b\b\b\b\b\b\b "
     ]
    },
    {
     "data": {
      "text/plain": [
       "\n",
       "==> time to learn 1 sample = 12.349780094056ms\t\n",
       "ConfusionMatrix:\n",
       "[[    4128       0       1       0       0       0       1       0       2       0]   99.903% \t[class: 0]\n",
       " [       0    4676       1       0       1       0       0       5       1       0]   99.829% \t[class: 1]\n",
       " [       0       0    4173       1       0       0       0       2       1       0]   99.904% \t[class: 2]\n",
       " [       0       0       1    4347       0       1       0       1       0       1]   99.908% \t[class: 3]\n",
       " [       0       1       0       0    4059       0       1       1       1       9]   99.681% \t[class: 4]\n",
       " [       0       0       0       0       0    3794       1       0       0       0]   99.974% \t[class: 5]\n",
       " [       1       0       0       0       0       1    4135       0       0       0]   99.952% \t[class: 6]\n",
       " [       0       8       1       1       2       0       0    4387       0       2]   99.682% \t[class: 7]\n",
       " [       0       0       2       1       1       2       1       0    4052       4]   99.729% \t[class: 8]\n",
       " [       1       0       0       0       7       1       0       3       1    4175]]  99.690% \t[class: 9]\n",
       " + average row correct: 99.825149774551% \n",
       " + average rowUcol correct (VOC measure): 99.650542140007% \n",
       " + global correct: 99.82380952381%\n",
       "{\n",
       "  _mat_flat : LongTensor - size: 100\n",
       "  valids : FloatTensor - size: 10\n",
       "  mat : LongTensor - size: 10x10\n",
       "  averageUnionValid : 0.99650542140007\n",
       "  _targ_idx : LongTensor - empty\n",
       "  averageValid : 0.99825149774551\n",
       "  classes : \n",
       "    {\n",
       "      1 : 0\n",
       "      2 : 1\n",
       "      3 : 2\n",
       "      4 : 3\n",
       "      5 : 4\n",
       "      6 : 5\n",
       "      7 : 6\n",
       "      8 : 7\n",
       "      9 : 8\n",
       "      10 : 9\n",
       "    }\n",
       "  _prediction : FloatTensor - size: 10\n",
       "  _pred_idx : LongTensor - size: 1\n",
       "  nclasses : 10\n",
       "  _max : FloatTensor - size: 1\n",
       "  _target : FloatTensor - empty\n",
       "  unionvalids : FloatTensor - size: 10\n",
       "  totalValid : 0.9982380952381\n",
       "}\n"
      ]
     },
     "execution_count": 9,
     "metadata": {},
     "output_type": "execute_result"
    },
    {
     "data": {
      "text/plain": [
       "==> saving model to /Users/sameh/Downloads/My Work/Kaggle - MNIST Digit Recognizer/itorch_output/model.net\t\n"
      ]
     },
     "execution_count": 9,
     "metadata": {},
     "output_type": "execute_result"
    },
    {
     "data": {
      "text/plain": [
       "==> Training on 42000 samples\t\n"
      ]
     },
     "execution_count": 9,
     "metadata": {},
     "output_type": "execute_result"
    },
    {
     "data": {
      "text/plain": [
       "==> doing epoch on training data:\t\n",
       "==> online epoch # 14 [batchSize = 1]\t\n"
      ]
     },
     "execution_count": 9,
     "metadata": {},
     "output_type": "execute_result"
    },
    {
     "name": "stdout",
     "output_type": "stream",
     "text": [
      " [=============================================>]                               \b\b\b\b\b\b\b\b\b\b\b\b\b\b\b\b\b\b\b\b\b\b\b\b\b\b\b\b\b\b Tot: 8m9s | Step: 11ms\b\b\b\b\b\b\b\b\b\b\b\b\b\b\b\b\b\b\b\b\b\b\b\b\b\b\b\b\b\b\b\b\b\b\b\b\b\b\b\b\b\b\b\b\b\b\b\b\b\b\b "
     ]
    },
    {
     "data": {
      "text/plain": [
       "\n",
       "==> time to learn 1 sample = 11.666481307575ms\t\n"
      ]
     },
     "execution_count": 9,
     "metadata": {},
     "output_type": "execute_result"
    },
    {
     "data": {
      "text/plain": [
       "ConfusionMatrix:\n",
       "[[    4131       0       0       0       0       0       0       0       1       0]   99.976% \t[class: 0]\n",
       " [       0    4676       1       0       0       0       1       5       1       0]   99.829% \t[class: 1]\n",
       " [       0       0    4175       0       0       0       0       1       1       0]   99.952% \t[class: 2]\n",
       " [       0       0       0    4348       0       1       0       0       0       2]   99.931% \t[class: 3]\n",
       " [       0       1       0       0    4062       0       1       1       1       6]   99.754% \t[class: 4]\n",
       " [       0       0       0       0       0    3794       1       0       0       0]   99.974% \t[class: 5]\n",
       " [       2       0       0       1       1       1    4132       0       0       0]   99.879% \t[class: 6]\n",
       " [       0       5       3       0       1       0       0    4391       0       1]   99.773% \t[class: 7]\n",
       " [       0       1       3       2       0       1       1       0    4052       3]   99.729% \t[class: 8]\n",
       " [       1       0       0       0       6       1       0       2       2    4176]]  99.713% \t[class: 9]\n",
       " + average row correct: 99.851089715958% \n",
       " + average rowUcol correct (VOC measure): 99.702040553093% \n",
       " + global correct: 99.85%\n",
       "{\n",
       "  _mat_flat : LongTensor - size: 100\n",
       "  valids : FloatTensor - size: 10\n",
       "  mat : LongTensor - size: 10x10\n",
       "  averageUnionValid : 0.99702040553093\n",
       "  _targ_idx : LongTensor - empty\n",
       "  averageValid : 0.99851089715958\n",
       "  classes : \n",
       "    {\n",
       "      1 : 0\n",
       "      2 : 1\n",
       "      3 : 2\n",
       "      4 : 3\n",
       "      5 : 4\n",
       "      6 : 5\n",
       "      7 : 6\n",
       "      8 : 7\n",
       "      9 : 8\n",
       "      10 : 9\n",
       "    }\n",
       "  _prediction : FloatTensor - size: 10\n",
       "  _pred_idx : LongTensor - size: 1\n",
       "  nclasses : 10\n",
       "  _max : FloatTensor - size: 1\n",
       "  _target : FloatTensor - empty\n",
       "  unionvalids : FloatTensor - size: 10\n",
       "  totalValid : 0.9985\n",
       "}\n"
      ]
     },
     "execution_count": 9,
     "metadata": {},
     "output_type": "execute_result"
    },
    {
     "data": {
      "text/plain": [
       "==> saving model to /Users/sameh/Downloads/My Work/Kaggle - MNIST Digit Recognizer/itorch_output/model.net\t\n"
      ]
     },
     "execution_count": 9,
     "metadata": {},
     "output_type": "execute_result"
    },
    {
     "data": {
      "text/plain": [
       "==> Training on 42000 samples\t\n"
      ]
     },
     "execution_count": 9,
     "metadata": {},
     "output_type": "execute_result"
    },
    {
     "data": {
      "text/plain": [
       "==> doing epoch on training data:\t\n",
       "==> online epoch # 15 [batchSize = 1]\t\n"
      ]
     },
     "execution_count": 9,
     "metadata": {},
     "output_type": "execute_result"
    },
    {
     "name": "stdout",
     "output_type": "stream",
     "text": [
      " [====================================>.........]                               \b\b\b\b\b\b\b\b\b\b\b\b\b\b\b\b\b\b\b\b\b\b\b\b\b\b\b\b\b\b ETA: 1m26s | Step: 11ms\b\b\b\b\b\b\b\b\b\b\b\b\b\b\b\b\b\b\b\b\b\b\b\b\b\b\b\b\b\b\b\b\b\b\b\b\b\b\b\b\b\b\b\b\b\b\b\b\b\b\b\b "
     ]
    }
   ],
   "source": [
    "----------------------------------------------------------------------\n",
    "print '==> training!'\n",
    "\n",
    "for i =1,40 do\n",
    "    train()\n",
    "end\n",
    "\n",
    "----------------------------------------------------------------------\n",
    "print '==> testing!'\n",
    "test()"
   ]
  }
 ],
 "metadata": {
  "anaconda-cloud": {},
  "kernelspec": {
   "display_name": "iTorch",
   "language": "lua",
   "name": "itorch"
  },
  "language_info": {
   "name": "lua",
   "version": "5.1"
  }
 },
 "nbformat": 4,
 "nbformat_minor": 0
}
